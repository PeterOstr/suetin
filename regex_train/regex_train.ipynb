{
 "cells": [
  {
   "cell_type": "code",
   "execution_count": 3,
   "id": "initial_id",
   "metadata": {
    "collapsed": true,
    "ExecuteTime": {
     "end_time": "2024-03-03T14:04:04.933292Z",
     "start_time": "2024-03-03T14:04:04.901002Z"
    }
   },
   "outputs": [],
   "source": [
    "import re\n",
    "import pandas as pd\n",
    "from pyspark.sql import SparkSession\n",
    "from pyspark.sql.functions import col, explode, split, regexp_replace\n",
    "from pyspark.sql.functions import col, split, explode, regexp_replace\n",
    "\n",
    "\n",
    "from pyspark.sql.functions import lit, col, when\n",
    "from pyspark.sql.types import StringType\n",
    "from pyspark.ml.feature import FeatureHasher\n",
    "import os\n",
    "from pyspark.sql.functions import col, when, lit, isnan\n",
    "from pyspark.sql.functions import lit, nanvl, isnan, when, avg\n",
    "import category_encoders as ce\n",
    "import pandas as pd\n",
    "import itertools\n",
    "import matplotlib.pyplot as plt\n",
    "from sklearn.preprocessing import OneHotEncoder\n",
    "from category_encoders import CatBoostEncoder\n",
    "import pickle\n",
    "from pyspark.sql import SparkSession\n",
    "from pyspark.sql.functions import pandas_udf, PandasUDFType\n",
    "from pyspark.sql.types import DoubleType, ArrayType\n",
    "import numpy as np\n",
    "import pandas as pd\n",
    "import sklearn\n",
    "sklearn.set_config(transform_output='pandas')\n",
    "from pyspark.sql.functions import array\n",
    "from pyspark.sql import functions as F\n",
    "from pyspark.sql import SparkSession, types as T\n",
    "from pyspark.sql.functions import udf\n",
    "from pyspark.sql.functions import round, sum, avg, count, min, max\n",
    "from ast import literal_eval\n",
    "\n",
    "from pyspark.sql import DataFrame\n",
    "\n",
    "from pyspark.sql import functions as sf\n",
    "from pyspark.sql.functions import udf\n",
    "from pyspark.sql.types import ArrayType, DoubleType\n",
    "import pyspark\n",
    "from pyspark.sql import SparkSession\n",
    "# from geospark.register import upload_jars\n",
    "# from geospark.register import GeoSparkRegistrator\n",
    "# from geospark.core.SpatialRDD import PolygonRDD, PointRDD\n",
    "# from geospark.core.enums import FileDataSplitter\n",
    "# from geospark.core.enums import IndexType\n",
    "# from geospark.core.geom.envelope import Envelope\n",
    "# from geospark.core.spatialOperator import RangeQuery\n",
    "# from geospark.core.formatMapper.shapefileParser import ShapefileReader\n",
    "# from geospark.sql.types import GeometryType\n",
    "# from geospark.register import sparkJVM\n",
    "# import re\n",
    "# upload_jars()\n",
    "#\n",
    "#\n",
    "#\n",
    "# spark = SparkSession.builder.appName(\"Spark_v1\")    .config(\"spark.default.parallelism\", 176*3) \\\n",
    "#     .config(\"spark.sql.shuffle.partitions\", 176*3) \\\n",
    "#     .config(\"spark.executor.memory\", \"50g\") \\\n",
    "#     .config(\"spark.executor.cores\", \"5\") \\\n",
    "#     .config(\"spark.driver.memory\", \"10g\") \\\n",
    "#     .config(\"spark.driver.maxResultSize\", \"1300g\") \\\n",
    "#     .getOrCreate()\n",
    "import os\n",
    "\n",
    "# setup arguments\n",
    "#os.environ['PYSPARK_SUBMIT_ARGS'] = '--packages org.apache.spark:spark-sql-kafka-0-10_2.11:2.4.0'\n",
    "\n",
    "# initialize spark\n",
    "import pyspark\n",
    "\n",
    "from pyspark.sql import SparkSession\n",
    "from pyspark.sql.types import StringType, BooleanType\n",
    "\n",
    "\n",
    "ram = 16\n",
    "\n",
    "spark = SparkSession. \\\n",
    "    builder. \\\n",
    "    appName('spark_first_run') \\\n",
    "    .config(\"spark.executor.memory\", f\"{ram}g\") \\\n",
    "    .config(\"spark.driver.maxResultSize\", f\"{ram}g\") \\\n",
    "    .config(\"spark.driver.memory\", f\"{ram}g\") \\\n",
    "    .config(\"spark.executor.memoryOverhead\", f\"{ram}g\") \\\n",
    "    .config(\"spark.sql.debug.maxToStringFields\", \"100000\") \\\n",
    "    .getOrCreate()\n",
    "\n",
    "\n",
    "#    .config(\"spark.driver.memory\", \"10g\") \\\n",
    "\n",
    "#    .config(\"spark.executor.memoryOverhead\", \"10g\") \\\n",
    "\n",
    "\n",
    "\n",
    "\n",
    "# Register Sedona functions to Spark\n",
    "\n",
    "\n",
    "from pyspark.sql.functions import regexp_extract\n",
    "\n",
    "\n",
    "\n",
    "\n",
    "from scipy.stats import t\n",
    "from pyspark.sql import SparkSession\n",
    "\n",
    "from pyspark.sql.functions import udf, lit\n",
    "\n",
    "import pandas as pd\n",
    "from ast import literal_eval\n",
    "import json\n",
    "from pyspark.sql.functions import udf\n",
    "import pandas as pd\n",
    "import shutil\n",
    "from pyspark.sql.functions import udf\n",
    "from pyspark.sql.functions import udf, explode\n",
    "from pyspark.sql.types import ArrayType, StructType, StructField, FloatType\n",
    "from pyspark.sql.functions import desc\n",
    "from time import sleep\n",
    "from pyspark.sql import Row\n",
    "#from pyspark.sql.functions import min, max\n",
    "from pyspark.sql.functions import col\n",
    "from pyspark.sql.functions import split, explode, lower, trim\n",
    "from pyspark.sql import SparkSession\n",
    "from pyspark.sql.functions import when, count, col\n",
    "from pyspark.sql import SparkSession\n",
    "from pyspark.sql.functions import row_number\n",
    "from pyspark.sql.window import Window\n",
    "from pyspark.sql.functions import monotonically_increasing_id\n",
    "from pyspark.sql.functions import monotonically_increasing_id, concat, col, lit, cast\n",
    "from pyspark.sql import SparkSession\n",
    "from pyspark.sql.functions import collect_list, udf\n",
    "from pyspark.sql.types import DoubleType\n",
    "from pyspark.sql import SparkSession\n",
    "from pyspark.sql.functions import initcap\n",
    "import re\n",
    "import subprocess"
   ]
  },
  {
   "cell_type": "markdown",
   "source": [
    "# This is regex train notebook"
   ],
   "metadata": {
    "collapsed": false
   },
   "id": "c582e741e0005a05"
  },
  {
   "cell_type": "markdown",
   "source": [
    "### 1. Uploading data"
   ],
   "metadata": {
    "collapsed": false
   },
   "id": "e104547328a17367"
  },
  {
   "cell_type": "code",
   "outputs": [
    {
     "name": "stdout",
     "output_type": "stream",
     "text": [
      "                                         Link\n",
      "0                      https://www.scribd.com\n",
      "1               https://www.scrdownloader.com\n",
      "2  http://bemowsap08v.corp.kpmgconsulting.com\n",
      "3                        https://help.sap.com\n",
      "4                        https://help.sap.com\n"
     ]
    }
   ],
   "source": [
    "# Function to read a text file and find web links in it using regular expressions\n",
    "def find_links_in_text_file(file_path):\n",
    "    # Open the text file for reading\n",
    "    with open(file_path, 'r', encoding='utf-8') as file:\n",
    "        text = file.read()\n",
    "\n",
    "    # Pattern for finding web links\n",
    "    pattern = r'https?://(?:[-\\w.]|(?:%[\\da-fA-F]{2}))+'\n",
    "\n",
    "    # Find all web links in the text using regular expression\n",
    "    links = re.findall(pattern, text)\n",
    "\n",
    "    # Create a Pandas DataFrame to store the found links\n",
    "    df = pd.DataFrame(links, columns=['Link'])\n",
    "\n",
    "    return df\n",
    "\n",
    "# Path to the text file\n",
    "file_path = 'C:/Users/Peter/DataspellProjects/suetin/regex_train/data/_chat.txt'\n",
    "\n",
    "# Get a DataFrame with the found web links\n",
    "links_df = find_links_in_text_file(file_path)\n",
    "\n",
    "# Display the first few rows of the DataFrame\n",
    "print(links_df.head())\n"
   ],
   "metadata": {
    "collapsed": false,
    "ExecuteTime": {
     "end_time": "2024-03-03T14:04:05.590524Z",
     "start_time": "2024-03-03T14:04:05.531554Z"
    }
   },
   "id": "499c87f0d91ceee",
   "execution_count": 4
  },
  {
   "cell_type": "code",
   "outputs": [
    {
     "data": {
      "text/plain": "                                           Link\n0                        https://www.scribd.com\n1                 https://www.scrdownloader.com\n2    http://bemowsap08v.corp.kpmgconsulting.com\n3                          https://help.sap.com\n4                          https://help.sap.com\n..                                          ...\n548                   https://chrome.google.com\n549                       https://blogs.sap.com\n550                    https://pmllc.omeclk.com\n551                       https://blogs.sap.com\n552   https://bearingpointrus-my.sharepoint.com\n\n[553 rows x 1 columns]",
      "text/html": "<div>\n<style scoped>\n    .dataframe tbody tr th:only-of-type {\n        vertical-align: middle;\n    }\n\n    .dataframe tbody tr th {\n        vertical-align: top;\n    }\n\n    .dataframe thead th {\n        text-align: right;\n    }\n</style>\n<table border=\"1\" class=\"dataframe\">\n  <thead>\n    <tr style=\"text-align: right;\">\n      <th></th>\n      <th>Link</th>\n    </tr>\n  </thead>\n  <tbody>\n    <tr>\n      <th>0</th>\n      <td>https://www.scribd.com</td>\n    </tr>\n    <tr>\n      <th>1</th>\n      <td>https://www.scrdownloader.com</td>\n    </tr>\n    <tr>\n      <th>2</th>\n      <td>http://bemowsap08v.corp.kpmgconsulting.com</td>\n    </tr>\n    <tr>\n      <th>3</th>\n      <td>https://help.sap.com</td>\n    </tr>\n    <tr>\n      <th>4</th>\n      <td>https://help.sap.com</td>\n    </tr>\n    <tr>\n      <th>...</th>\n      <td>...</td>\n    </tr>\n    <tr>\n      <th>548</th>\n      <td>https://chrome.google.com</td>\n    </tr>\n    <tr>\n      <th>549</th>\n      <td>https://blogs.sap.com</td>\n    </tr>\n    <tr>\n      <th>550</th>\n      <td>https://pmllc.omeclk.com</td>\n    </tr>\n    <tr>\n      <th>551</th>\n      <td>https://blogs.sap.com</td>\n    </tr>\n    <tr>\n      <th>552</th>\n      <td>https://bearingpointrus-my.sharepoint.com</td>\n    </tr>\n  </tbody>\n</table>\n<p>553 rows × 1 columns</p>\n</div>"
     },
     "execution_count": 5,
     "metadata": {},
     "output_type": "execute_result"
    }
   ],
   "source": [
    "links_df"
   ],
   "metadata": {
    "collapsed": false,
    "ExecuteTime": {
     "end_time": "2024-03-03T14:04:05.745824Z",
     "start_time": "2024-03-03T14:04:05.720826Z"
    }
   },
   "id": "2967c2eb43720a28",
   "execution_count": 5
  },
  {
   "cell_type": "code",
   "outputs": [
    {
     "data": {
      "text/plain": "                                           Link\n0                        https://www.scribd.com\n1                 https://www.scrdownloader.com\n2    http://bemowsap08v.corp.kpmgconsulting.com\n3                          https://help.sap.com\n4                          https://help.sap.com\n..                                          ...\n548                   https://chrome.google.com\n549                       https://blogs.sap.com\n550                    https://pmllc.omeclk.com\n551                       https://blogs.sap.com\n552   https://bearingpointrus-my.sharepoint.com\n\n[553 rows x 1 columns]",
      "text/html": "<div>\n<style scoped>\n    .dataframe tbody tr th:only-of-type {\n        vertical-align: middle;\n    }\n\n    .dataframe tbody tr th {\n        vertical-align: top;\n    }\n\n    .dataframe thead th {\n        text-align: right;\n    }\n</style>\n<table border=\"1\" class=\"dataframe\">\n  <thead>\n    <tr style=\"text-align: right;\">\n      <th></th>\n      <th>Link</th>\n    </tr>\n  </thead>\n  <tbody>\n    <tr>\n      <th>0</th>\n      <td>https://www.scribd.com</td>\n    </tr>\n    <tr>\n      <th>1</th>\n      <td>https://www.scrdownloader.com</td>\n    </tr>\n    <tr>\n      <th>2</th>\n      <td>http://bemowsap08v.corp.kpmgconsulting.com</td>\n    </tr>\n    <tr>\n      <th>3</th>\n      <td>https://help.sap.com</td>\n    </tr>\n    <tr>\n      <th>4</th>\n      <td>https://help.sap.com</td>\n    </tr>\n    <tr>\n      <th>...</th>\n      <td>...</td>\n    </tr>\n    <tr>\n      <th>548</th>\n      <td>https://chrome.google.com</td>\n    </tr>\n    <tr>\n      <th>549</th>\n      <td>https://blogs.sap.com</td>\n    </tr>\n    <tr>\n      <th>550</th>\n      <td>https://pmllc.omeclk.com</td>\n    </tr>\n    <tr>\n      <th>551</th>\n      <td>https://blogs.sap.com</td>\n    </tr>\n    <tr>\n      <th>552</th>\n      <td>https://bearingpointrus-my.sharepoint.com</td>\n    </tr>\n  </tbody>\n</table>\n<p>553 rows × 1 columns</p>\n</div>"
     },
     "execution_count": 6,
     "metadata": {},
     "output_type": "execute_result"
    }
   ],
   "source": [
    "links_df = links_df.rename(columns={'Ссылка':'link'})\n",
    "links_df"
   ],
   "metadata": {
    "collapsed": false,
    "ExecuteTime": {
     "end_time": "2024-03-03T14:04:08.031843Z",
     "start_time": "2024-03-03T14:04:08.017813Z"
    }
   },
   "id": "b3390d0369c5a88c",
   "execution_count": 6
  },
  {
   "cell_type": "code",
   "outputs": [
    {
     "data": {
      "text/plain": "0                          https://www.scribd.com\n1                   https://www.scrdownloader.com\n2      http://bemowsap08v.corp.kpmgconsulting.com\n3                            https://help.sap.com\n4                            https://help.sap.com\n                          ...                    \n548                     https://chrome.google.com\n549                         https://blogs.sap.com\n550                      https://pmllc.omeclk.com\n551                         https://blogs.sap.com\n552     https://bearingpointrus-my.sharepoint.com\nName: Link, Length: 553, dtype: object"
     },
     "execution_count": 7,
     "metadata": {},
     "output_type": "execute_result"
    }
   ],
   "source": [
    "links_df['Link']"
   ],
   "metadata": {
    "collapsed": false,
    "ExecuteTime": {
     "end_time": "2024-03-03T14:04:08.047810Z",
     "start_time": "2024-03-03T14:04:08.034811Z"
    }
   },
   "id": "f25270bd7f1bad60",
   "execution_count": 7
  },
  {
   "cell_type": "markdown",
   "source": [
    "### 2.1 Finding all site names in links"
   ],
   "metadata": {
    "collapsed": false
   },
   "id": "19a5e26796b0a87"
  },
  {
   "cell_type": "code",
   "outputs": [
    {
     "data": {
      "text/plain": "0             scribd\n1      scrdownloader\n2               None\n3                sap\n4                sap\n           ...      \n548           chrome\n549            blogs\n550            pmllc\n551            blogs\n552             None\nLength: 553, dtype: object"
     },
     "execution_count": 8,
     "metadata": {},
     "output_type": "execute_result"
    }
   ],
   "source": [
    "prefixes = ['www','help','chat']\n",
    "pattern = fr'https://({\"|\".join(prefixes)}|)\\.?([a-zA-Z]+)(\\.[a-zA-Z]*)'\n",
    "def find_pattern(text):\n",
    "    result = re.search(pattern, text)\n",
    "    if result:\n",
    "        return result.group(2)\n",
    "    else:\n",
    "        return None\n",
    "\n",
    "links_df_new = links_df.apply(lambda x: find_pattern(x['Link']), axis=1)\n",
    "links_df_new"
   ],
   "metadata": {
    "collapsed": false,
    "ExecuteTime": {
     "end_time": "2024-03-03T14:04:08.079810Z",
     "start_time": "2024-03-03T14:04:08.049810Z"
    }
   },
   "id": "7966372d501f1d1a",
   "execution_count": 8
  },
  {
   "cell_type": "markdown",
   "source": [
    "### finding all unique names"
   ],
   "metadata": {
    "collapsed": false
   },
   "id": "da6f8f1cc2a6e4b6"
  },
  {
   "cell_type": "code",
   "outputs": [
    {
     "data": {
      "text/plain": "              site\n0           scribd\n1    scrdownloader\n2             None\n3              sap\n4              NaN\n..             ...\n548         chrome\n549            NaN\n550          pmllc\n551            NaN\n552            NaN\n\n[553 rows x 1 columns]",
      "text/html": "<div>\n<style scoped>\n    .dataframe tbody tr th:only-of-type {\n        vertical-align: middle;\n    }\n\n    .dataframe tbody tr th {\n        vertical-align: top;\n    }\n\n    .dataframe thead th {\n        text-align: right;\n    }\n</style>\n<table border=\"1\" class=\"dataframe\">\n  <thead>\n    <tr style=\"text-align: right;\">\n      <th></th>\n      <th>site</th>\n    </tr>\n  </thead>\n  <tbody>\n    <tr>\n      <th>0</th>\n      <td>scribd</td>\n    </tr>\n    <tr>\n      <th>1</th>\n      <td>scrdownloader</td>\n    </tr>\n    <tr>\n      <th>2</th>\n      <td>None</td>\n    </tr>\n    <tr>\n      <th>3</th>\n      <td>sap</td>\n    </tr>\n    <tr>\n      <th>4</th>\n      <td>NaN</td>\n    </tr>\n    <tr>\n      <th>...</th>\n      <td>...</td>\n    </tr>\n    <tr>\n      <th>548</th>\n      <td>chrome</td>\n    </tr>\n    <tr>\n      <th>549</th>\n      <td>NaN</td>\n    </tr>\n    <tr>\n      <th>550</th>\n      <td>pmllc</td>\n    </tr>\n    <tr>\n      <th>551</th>\n      <td>NaN</td>\n    </tr>\n    <tr>\n      <th>552</th>\n      <td>NaN</td>\n    </tr>\n  </tbody>\n</table>\n<p>553 rows × 1 columns</p>\n</div>"
     },
     "execution_count": 9,
     "metadata": {},
     "output_type": "execute_result"
    }
   ],
   "source": [
    "links_df_new.name = 'site'\n",
    "links_df_new = pd.DataFrame(links_df_new)\n",
    "links_df_new['site'] = links_df_new['site'].replace('None', None)\n",
    "links_df_new['site'] = links_df_new['site'].drop_duplicates()\n",
    "\n",
    "links_df_new = links_df_new[links_df_new['site'] != None]  \n",
    "\n",
    "links_df_new"
   ],
   "metadata": {
    "collapsed": false,
    "ExecuteTime": {
     "end_time": "2024-03-03T14:04:08.095810Z",
     "start_time": "2024-03-03T14:04:08.080811Z"
    }
   },
   "id": "f928212020a15055",
   "execution_count": 9
  },
  {
   "cell_type": "code",
   "outputs": [
    {
     "data": {
      "text/plain": "'www|help|chat'"
     },
     "execution_count": 10,
     "metadata": {},
     "output_type": "execute_result"
    }
   ],
   "source": [
    "'|'.join(prefixes)"
   ],
   "metadata": {
    "collapsed": false,
    "ExecuteTime": {
     "end_time": "2024-03-03T14:04:08.111809Z",
     "start_time": "2024-03-03T14:04:08.097814Z"
    }
   },
   "id": "3df1b71037c03b2c",
   "execution_count": 10
  },
  {
   "cell_type": "code",
   "outputs": [
    {
     "data": {
      "text/plain": "0              www\n2      bemowsap08v\n3             help\n10           blogs\n12         answers\n          ...     \n534    publication\n543             cp\n547            2ip\n548         chrome\n550          pmllc\nName: 0, Length: 130, dtype: object"
     },
     "execution_count": 32,
     "metadata": {},
     "output_type": "execute_result"
    }
   ],
   "source": [
    "# Pattern to find prefixes before dots\n",
    "pattern = r'\\b(\\w+)\\.'\n",
    "\n",
    "text_column = links_df['Link']\n",
    "\n",
    "def find_pattern(text):\n",
    "    result = re.search(pattern, text)\n",
    "    if result:\n",
    "        return result.group(0)\n",
    "    else:\n",
    "        return None\n",
    "\n",
    "# Find all prefixes before dots in the text using re.findall() method\n",
    "prefixes = pd.DataFrame(links_df.apply(lambda x: find_pattern(x['Link']), axis=1))\n",
    "prefixes = prefixes.map(lambda x: x[:-1] if isinstance(x, str) else x)\n",
    "prefixes = prefixes[0].drop_duplicates()\n",
    "\n",
    "prefixes"
   ],
   "metadata": {
    "collapsed": false,
    "ExecuteTime": {
     "end_time": "2024-03-03T14:50:32.628929Z",
     "start_time": "2024-03-03T14:50:32.608918Z"
    }
   },
   "id": "e67ff61c1e2fceff",
   "execution_count": 32
  },
  {
   "cell_type": "markdown",
   "source": [
    "\\b: Word boundary\n",
    "(\\w+): Group to match one or more word characters (letters, digits, or underscores)\n",
    "\\.: Dot character\n",
    "This pattern will find all sequences of characters before dots that are prefixes in the text string."
   ],
   "metadata": {
    "collapsed": false
   },
   "id": "571e3a36b053fa45"
  },
  {
   "cell_type": "markdown",
   "source": [],
   "metadata": {
    "collapsed": false
   },
   "id": "8f732d1f39876d53"
  },
  {
   "cell_type": "markdown",
   "source": [
    "### 2.2 Finding all site names in links without \"sap\""
   ],
   "metadata": {
    "collapsed": false
   },
   "id": "8c660df0522d8360"
  },
  {
   "cell_type": "code",
   "outputs": [
    {
     "data": {
      "text/plain": "0                         https://www.scribd.com\n1                  https://www.scrdownloader.com\n2         http://bemowsap08v.corp.kpmgconsulting\n3                           https://help.sap.com\n4                           https://help.sap.com\n                         ...                    \n548                    https://chrome.google.com\n549                        https://blogs.sap.com\n550                     https://pmllc.omeclk.com\n551                        https://blogs.sap.com\n552    https://bearingpointrus-my.sharepoint.com\nLength: 553, dtype: object"
     },
     "execution_count": 20,
     "metadata": {},
     "output_type": "execute_result"
    }
   ],
   "source": [
    "# pattern = fr'https://(?!sap)\\.?([a-zA-Z]+)(\\.[a-zA-Z]*)'\n",
    "pattern = fr'https?://(?:www\\.)?(?!.*\\sap)[a-zA-Z0-9-]+\\.[a-zA-Z]+(?:\\.[a-zA-Z]+)?'\n",
    "def find_pattern(text):\n",
    "    result = re.search(pattern, text)\n",
    "    if result:\n",
    "        return result.group(0)\n",
    "    else:\n",
    "        return None\n",
    "\n",
    "links_df_not_sap = links_df.apply(lambda x: find_pattern(x['Link']), axis=1)\n",
    "links_df_not_sap"
   ],
   "metadata": {
    "collapsed": false,
    "ExecuteTime": {
     "end_time": "2024-03-02T14:39:29.331894Z",
     "start_time": "2024-03-02T14:39:29.303911Z"
    }
   },
   "id": "6fd4aec1da22c416",
   "execution_count": 20
  },
  {
   "cell_type": "markdown",
   "source": [
    "#### another way to filter \"links without sap\""
   ],
   "metadata": {
    "collapsed": false
   },
   "id": "a2ad669a4be7174f"
  },
  {
   "cell_type": "code",
   "outputs": [
    {
     "data": {
      "text/plain": "                                          Link\n0                       https://www.scribd.com\n1                https://www.scrdownloader.com\n5                https://www.marinetraffic.com\n7                      https://www.reartek.com\n8                  https://www.tandfonline.com\n..                                         ...\n546                          https://cp.ews.ru\n547                             https://2ip.ru\n548                  https://chrome.google.com\n550                   https://pmllc.omeclk.com\n552  https://bearingpointrus-my.sharepoint.com\n\n[364 rows x 1 columns]",
      "text/html": "<div>\n<style scoped>\n    .dataframe tbody tr th:only-of-type {\n        vertical-align: middle;\n    }\n\n    .dataframe tbody tr th {\n        vertical-align: top;\n    }\n\n    .dataframe thead th {\n        text-align: right;\n    }\n</style>\n<table border=\"1\" class=\"dataframe\">\n  <thead>\n    <tr style=\"text-align: right;\">\n      <th></th>\n      <th>Link</th>\n    </tr>\n  </thead>\n  <tbody>\n    <tr>\n      <th>0</th>\n      <td>https://www.scribd.com</td>\n    </tr>\n    <tr>\n      <th>1</th>\n      <td>https://www.scrdownloader.com</td>\n    </tr>\n    <tr>\n      <th>5</th>\n      <td>https://www.marinetraffic.com</td>\n    </tr>\n    <tr>\n      <th>7</th>\n      <td>https://www.reartek.com</td>\n    </tr>\n    <tr>\n      <th>8</th>\n      <td>https://www.tandfonline.com</td>\n    </tr>\n    <tr>\n      <th>...</th>\n      <td>...</td>\n    </tr>\n    <tr>\n      <th>546</th>\n      <td>https://cp.ews.ru</td>\n    </tr>\n    <tr>\n      <th>547</th>\n      <td>https://2ip.ru</td>\n    </tr>\n    <tr>\n      <th>548</th>\n      <td>https://chrome.google.com</td>\n    </tr>\n    <tr>\n      <th>550</th>\n      <td>https://pmllc.omeclk.com</td>\n    </tr>\n    <tr>\n      <th>552</th>\n      <td>https://bearingpointrus-my.sharepoint.com</td>\n    </tr>\n  </tbody>\n</table>\n<p>364 rows × 1 columns</p>\n</div>"
     },
     "execution_count": 18,
     "metadata": {},
     "output_type": "execute_result"
    }
   ],
   "source": [
    "links_df_not_sap_alt = links_df[~links_df['Link'].str.contains('sap', case=False, regex=True)]\n",
    "links_df_not_sap_alt"
   ],
   "metadata": {
    "collapsed": false,
    "ExecuteTime": {
     "end_time": "2024-03-02T14:35:16.973513Z",
     "start_time": "2024-03-02T14:35:16.947512Z"
    }
   },
   "id": "d5e2f969ed924e7e",
   "execution_count": 18
  },
  {
   "cell_type": "markdown",
   "source": [
    "#### one more way to filter \"links without sap\""
   ],
   "metadata": {
    "collapsed": false
   },
   "id": "b31c806aa4bc7c86"
  },
  {
   "cell_type": "code",
   "outputs": [
    {
     "data": {
      "text/plain": "                                          Link\n0                       https://www.scribd.com\n1                https://www.scrdownloader.com\n5                https://www.marinetraffic.com\n7                      https://www.reartek.com\n8                  https://www.tandfonline.com\n..                                         ...\n546                          https://cp.ews.ru\n547                             https://2ip.ru\n548                  https://chrome.google.com\n550                   https://pmllc.omeclk.com\n552  https://bearingpointrus-my.sharepoint.com\n\n[364 rows x 1 columns]",
      "text/html": "<div>\n<style scoped>\n    .dataframe tbody tr th:only-of-type {\n        vertical-align: middle;\n    }\n\n    .dataframe tbody tr th {\n        vertical-align: top;\n    }\n\n    .dataframe thead th {\n        text-align: right;\n    }\n</style>\n<table border=\"1\" class=\"dataframe\">\n  <thead>\n    <tr style=\"text-align: right;\">\n      <th></th>\n      <th>Link</th>\n    </tr>\n  </thead>\n  <tbody>\n    <tr>\n      <th>0</th>\n      <td>https://www.scribd.com</td>\n    </tr>\n    <tr>\n      <th>1</th>\n      <td>https://www.scrdownloader.com</td>\n    </tr>\n    <tr>\n      <th>5</th>\n      <td>https://www.marinetraffic.com</td>\n    </tr>\n    <tr>\n      <th>7</th>\n      <td>https://www.reartek.com</td>\n    </tr>\n    <tr>\n      <th>8</th>\n      <td>https://www.tandfonline.com</td>\n    </tr>\n    <tr>\n      <th>...</th>\n      <td>...</td>\n    </tr>\n    <tr>\n      <th>546</th>\n      <td>https://cp.ews.ru</td>\n    </tr>\n    <tr>\n      <th>547</th>\n      <td>https://2ip.ru</td>\n    </tr>\n    <tr>\n      <th>548</th>\n      <td>https://chrome.google.com</td>\n    </tr>\n    <tr>\n      <th>550</th>\n      <td>https://pmllc.omeclk.com</td>\n    </tr>\n    <tr>\n      <th>552</th>\n      <td>https://bearingpointrus-my.sharepoint.com</td>\n    </tr>\n  </tbody>\n</table>\n<p>364 rows × 1 columns</p>\n</div>"
     },
     "execution_count": 19,
     "metadata": {},
     "output_type": "execute_result"
    }
   ],
   "source": [
    "pattern = r'^(?!.*sap).*$'\n",
    "\n",
    "links_df_not_sap_alt2 = links_df[links_df['Link'].str.match(pattern)]\n",
    "links_df_not_sap_alt2"
   ],
   "metadata": {
    "collapsed": false,
    "ExecuteTime": {
     "end_time": "2024-03-02T14:39:10.850442Z",
     "start_time": "2024-03-02T14:39:10.829443Z"
    }
   },
   "id": "120dd9c93e14e9d1",
   "execution_count": 19
  },
  {
   "cell_type": "code",
   "outputs": [],
   "source": [
    "pattern = r'www\\.(?!sap)'"
   ],
   "metadata": {
    "collapsed": false
   },
   "id": "9614f1a357faa089"
  },
  {
   "cell_type": "code",
   "outputs": [
    {
     "data": {
      "text/plain": "                                           link\n0                        https://www.scribd.com\n1                 https://www.scrdownloader.com\n2    http://bemowsap08v.corp.kpmgconsulting.com\n3                          https://help.sap.com\n4                          https://help.sap.com\n..                                          ...\n548                   https://chrome.google.com\n549                       https://blogs.sap.com\n550                    https://pmllc.omeclk.com\n551                       https://blogs.sap.com\n552   https://bearingpointrus-my.sharepoint.com\n\n[553 rows x 1 columns]",
      "text/html": "<div>\n<style scoped>\n    .dataframe tbody tr th:only-of-type {\n        vertical-align: middle;\n    }\n\n    .dataframe tbody tr th {\n        vertical-align: top;\n    }\n\n    .dataframe thead th {\n        text-align: right;\n    }\n</style>\n<table border=\"1\" class=\"dataframe\">\n  <thead>\n    <tr style=\"text-align: right;\">\n      <th></th>\n      <th>link</th>\n    </tr>\n  </thead>\n  <tbody>\n    <tr>\n      <th>0</th>\n      <td>https://www.scribd.com</td>\n    </tr>\n    <tr>\n      <th>1</th>\n      <td>https://www.scrdownloader.com</td>\n    </tr>\n    <tr>\n      <th>2</th>\n      <td>http://bemowsap08v.corp.kpmgconsulting.com</td>\n    </tr>\n    <tr>\n      <th>3</th>\n      <td>https://help.sap.com</td>\n    </tr>\n    <tr>\n      <th>4</th>\n      <td>https://help.sap.com</td>\n    </tr>\n    <tr>\n      <th>...</th>\n      <td>...</td>\n    </tr>\n    <tr>\n      <th>548</th>\n      <td>https://chrome.google.com</td>\n    </tr>\n    <tr>\n      <th>549</th>\n      <td>https://blogs.sap.com</td>\n    </tr>\n    <tr>\n      <th>550</th>\n      <td>https://pmllc.omeclk.com</td>\n    </tr>\n    <tr>\n      <th>551</th>\n      <td>https://blogs.sap.com</td>\n    </tr>\n    <tr>\n      <th>552</th>\n      <td>https://bearingpointrus-my.sharepoint.com</td>\n    </tr>\n  </tbody>\n</table>\n<p>553 rows × 1 columns</p>\n</div>"
     },
     "execution_count": 35,
     "metadata": {},
     "output_type": "execute_result"
    }
   ],
   "source": [
    "# sap_links = links_df[links_df['Ссылка'].str.contains(r'sap')]\n",
    "# chosen_links = links_df[links_df['link'].str.contains(r'http[s]?://(?:[a-zA-Z]|[0-9]|[$-_@.&+]|[!*\\\\(\\\\),]|(?:%[0-9a-fA-F][0-9a-fA-F]))+' )]\n",
    "chosen_links = links_df[links_df['link'].str.contains(r'http[s]?://(?:[a-zA-Z]|[0-9]|[$-_@.&+]|[!*\\\\(\\\\),]|(?:%[0-9a-fA-F][0-9a-fA-F]))+' )]\n",
    "\n",
    "chosen_links"
   ],
   "metadata": {
    "collapsed": false,
    "ExecuteTime": {
     "end_time": "2024-03-02T08:34:50.690570Z",
     "start_time": "2024-03-02T08:34:50.662557Z"
    }
   },
   "id": "453fe1ed1600f4b6",
   "execution_count": 35
  },
  {
   "cell_type": "code",
   "outputs": [
    {
     "name": "stdout",
     "output_type": "stream",
     "text": [
      "root\n",
      " |-- link: string (nullable = true)\n",
      "+--------------------+\n",
      "|                link|\n",
      "+--------------------+\n",
      "|https://www.scrib...|\n",
      "|https://www.scrdo...|\n",
      "|http://bemowsap08...|\n",
      "|https://help.sap.com|\n",
      "|https://help.sap.com|\n",
      "|https://www.marin...|\n",
      "|http://bemowsap08...|\n",
      "|https://www.reart...|\n",
      "|https://www.tandf...|\n",
      "|http://bemowsap08...|\n",
      "|https://blogs.sap...|\n",
      "|https://blogs.sap...|\n",
      "|https://answers.s...|\n",
      "|https://answers.s...|\n",
      "|https://answers.s...|\n",
      "|        https://t.me|\n",
      "|https://cloud.bea...|\n",
      "|  https://medium.com|\n",
      "|  https://sapland.ru|\n",
      "|https://cloud.bea...|\n",
      "+--------------------+\n",
      "only showing top 20 rows\n"
     ]
    }
   ],
   "source": [
    "# df = spark.read.option(\"header\",True).txt('data/_chat.txt')\n",
    "df=spark.createDataFrame(links_df)\n",
    "df.printSchema()\n",
    "df.show()"
   ],
   "metadata": {
    "collapsed": false,
    "ExecuteTime": {
     "end_time": "2024-03-01T20:03:22.955760Z",
     "start_time": "2024-03-01T20:03:21.772532Z"
    }
   },
   "id": "883396d53f10f941",
   "execution_count": 17
  },
  {
   "cell_type": "code",
   "outputs": [
    {
     "data": {
      "text/plain": "'http[s]?://(?:[a-zA-Z]|[0-9]|[$-_@.&+]|[!*\\\\\\\\(\\\\\\\\),]|(?:%[0-9a-fA-F][0-9a-fA-F]))+'"
     },
     "execution_count": 18,
     "metadata": {},
     "output_type": "execute_result"
    }
   ],
   "source": [
    "r'http[s]?://(?:[a-zA-Z]|[0-9]|[$-_@.&+]|[!*\\\\(\\\\),]|(?:%[0-9a-fA-F][0-9a-fA-F]))+'"
   ],
   "metadata": {
    "collapsed": false,
    "ExecuteTime": {
     "end_time": "2024-03-01T20:03:25.409403Z",
     "start_time": "2024-03-01T20:03:25.397403Z"
    }
   },
   "id": "e06eeeba7db55e63",
   "execution_count": 18
  },
  {
   "cell_type": "code",
   "outputs": [
    {
     "data": {
      "text/plain": "                                           link\n0                        https://www.scribd.com\n1                 https://www.scrdownloader.com\n2    http://bemowsap08v.corp.kpmgconsulting.com\n3                          https://help.sap.com\n4                          https://help.sap.com\n..                                          ...\n548                   https://chrome.google.com\n549                       https://blogs.sap.com\n550                    https://pmllc.omeclk.com\n551                       https://blogs.sap.com\n552   https://bearingpointrus-my.sharepoint.com\n\n[553 rows x 1 columns]",
      "text/html": "<div>\n<style scoped>\n    .dataframe tbody tr th:only-of-type {\n        vertical-align: middle;\n    }\n\n    .dataframe tbody tr th {\n        vertical-align: top;\n    }\n\n    .dataframe thead th {\n        text-align: right;\n    }\n</style>\n<table border=\"1\" class=\"dataframe\">\n  <thead>\n    <tr style=\"text-align: right;\">\n      <th></th>\n      <th>link</th>\n    </tr>\n  </thead>\n  <tbody>\n    <tr>\n      <th>0</th>\n      <td>https://www.scribd.com</td>\n    </tr>\n    <tr>\n      <th>1</th>\n      <td>https://www.scrdownloader.com</td>\n    </tr>\n    <tr>\n      <th>2</th>\n      <td>http://bemowsap08v.corp.kpmgconsulting.com</td>\n    </tr>\n    <tr>\n      <th>3</th>\n      <td>https://help.sap.com</td>\n    </tr>\n    <tr>\n      <th>4</th>\n      <td>https://help.sap.com</td>\n    </tr>\n    <tr>\n      <th>...</th>\n      <td>...</td>\n    </tr>\n    <tr>\n      <th>548</th>\n      <td>https://chrome.google.com</td>\n    </tr>\n    <tr>\n      <th>549</th>\n      <td>https://blogs.sap.com</td>\n    </tr>\n    <tr>\n      <th>550</th>\n      <td>https://pmllc.omeclk.com</td>\n    </tr>\n    <tr>\n      <th>551</th>\n      <td>https://blogs.sap.com</td>\n    </tr>\n    <tr>\n      <th>552</th>\n      <td>https://bearingpointrus-my.sharepoint.com</td>\n    </tr>\n  </tbody>\n</table>\n<p>553 rows × 1 columns</p>\n</div>"
     },
     "execution_count": 36,
     "metadata": {},
     "output_type": "execute_result"
    }
   ],
   "source": [
    "links_df"
   ],
   "metadata": {
    "collapsed": false,
    "ExecuteTime": {
     "end_time": "2024-03-02T08:36:37.861881Z",
     "start_time": "2024-03-02T08:36:37.842778Z"
    }
   },
   "id": "d1b0979890dd27ca",
   "execution_count": 36
  },
  {
   "cell_type": "code",
   "outputs": [],
   "source": [
    "pattern = r'www\\.(?!sap)'"
   ],
   "metadata": {
    "collapsed": false
   },
   "id": "81448b848eb58d6"
  },
  {
   "cell_type": "code",
   "outputs": [
    {
     "name": "stdout",
     "output_type": "stream",
     "text": [
      "+--------------------+\n",
      "|                Link|\n",
      "+--------------------+\n",
      "|https://www.scrib...|\n",
      "|https://www.scrdo...|\n",
      "|https://www.marin...|\n",
      "|https://www.reart...|\n",
      "|https://www.tandf...|\n",
      "|        https://t.me|\n",
      "|https://cloud.bea...|\n",
      "|  https://medium.com|\n",
      "|https://cloud.bea...|\n",
      "|    https://habr.com|\n",
      "|   http://geojson.io|\n",
      "|https://www.kinop...|\n",
      "| https://www.inc.com|\n",
      "|https://cloud.bea...|\n",
      "|      https://ria.ru|\n",
      "|https://cloud.bea...|\n",
      "|https://www.inter...|\n",
      "|https://cloud.bea...|\n",
      "|https://www.dev-w...|\n",
      "|https://www.banki.ru|\n",
      "+--------------------+\n"
     ]
    }
   ],
   "source": [
    "df = spark.createDataFrame(links_df)\n",
    "df.createOrReplaceTempView(\"LINKS_DF\")\n",
    "\n",
    "result = spark.sql('''\n",
    "    SELECT *\n",
    "    FROM LINKS_DF\n",
    "    WHERE NOT Link LIKE '%sap%'\n",
    "''')\n",
    "\n",
    "# result.write.mode(\"overwrite\").saveAsTable(\"NEW_TABLE_WO_SAP\")\n",
    "result.show()"
   ],
   "metadata": {
    "collapsed": false,
    "ExecuteTime": {
     "end_time": "2024-03-03T15:05:45.112327Z",
     "start_time": "2024-03-03T15:05:42.413464Z"
    }
   },
   "id": "90c4740c80a4c290",
   "execution_count": 42
  },
  {
   "cell_type": "code",
   "outputs": [
    {
     "name": "stdout",
     "output_type": "stream",
     "text": [
      "+--------------------+\n",
      "|                Link|\n",
      "+--------------------+\n",
      "|        https://t.me|\n",
      "|https://cloud.bea...|\n",
      "|  https://sapland.ru|\n",
      "|https://cloud.bea...|\n",
      "|   http://geojson.io|\n",
      "|https://www.kinop...|\n",
      "|https://cloud.bea...|\n",
      "|      https://ria.ru|\n",
      "|https://cloud.bea...|\n",
      "|https://www.inter...|\n",
      "|http://www.sapnet.ru|\n",
      "|https://cloud.bea...|\n",
      "|http://saphub.ice...|\n",
      "|https://www.banki.ru|\n",
      "|  https://pro.rbc.ru|\n",
      "|https://www.kazna...|\n",
      "|https://cloud.bea...|\n",
      "|http://saphub.ice...|\n",
      "|http://saphub.ice...|\n",
      "|http://saphub.ice...|\n",
      "+--------------------+\n"
     ]
    }
   ],
   "source": [
    "\n",
    "result = spark.sql('''\n",
    "    SELECT *\n",
    "    FROM LINKS_DF\n",
    "    WHERE NOT Link LIKE '%.com'\n",
    "''')\n",
    "\n",
    "result.show()\n"
   ],
   "metadata": {
    "collapsed": false,
    "ExecuteTime": {
     "end_time": "2024-03-03T15:16:09.389636Z",
     "start_time": "2024-03-03T15:16:07.454511Z"
    }
   },
   "id": "db75eb346176406b",
   "execution_count": 43
  },
  {
   "cell_type": "code",
   "outputs": [
    {
     "name": "stdout",
     "output_type": "stream",
     "text": [
      "+----+\n",
      "|Link|\n",
      "+----+\n",
      "+----+\n"
     ]
    }
   ],
   "source": [
    "result = spark.sql('''\n",
    "    SELECT *\n",
    "    FROM LINKS_DF\n",
    "    WHERE  Link LIKE '(www\\.\\.ru)[\\s\\S]'\n",
    "''')\n",
    "\n",
    "result.show()"
   ],
   "metadata": {
    "collapsed": false,
    "ExecuteTime": {
     "end_time": "2024-03-03T16:05:26.446919Z",
     "start_time": "2024-03-03T16:05:17.761617Z"
    }
   },
   "id": "c438bd12ea158be0",
   "execution_count": 51
  }
 ],
 "metadata": {
  "kernelspec": {
   "display_name": "Python 3",
   "language": "python",
   "name": "python3"
  },
  "language_info": {
   "codemirror_mode": {
    "name": "ipython",
    "version": 2
   },
   "file_extension": ".py",
   "mimetype": "text/x-python",
   "name": "python",
   "nbconvert_exporter": "python",
   "pygments_lexer": "ipython2",
   "version": "2.7.6"
  }
 },
 "nbformat": 4,
 "nbformat_minor": 5
}
