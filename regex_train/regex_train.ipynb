{
 "cells": [
  {
   "cell_type": "code",
   "execution_count": 24,
   "id": "initial_id",
   "metadata": {
    "collapsed": true,
    "ExecuteTime": {
     "end_time": "2024-03-19T12:54:53.517201Z",
     "start_time": "2024-03-19T12:54:45.626258Z"
    }
   },
   "outputs": [],
   "source": [
    "import re\n",
    "import pandas as pd\n",
    "from pyspark.sql import SparkSession\n",
    "from pyspark.sql.functions import col, explode, split, regexp_replace\n",
    "from pyspark.sql.functions import col, split, explode, regexp_replace\n",
    "\n",
    "\n",
    "from pyspark.sql.functions import lit, col, when\n",
    "from pyspark.sql.types import StringType\n",
    "from pyspark.ml.feature import FeatureHasher\n",
    "import os\n",
    "from pyspark.sql.functions import col, when, lit, isnan\n",
    "from pyspark.sql.functions import lit, nanvl, isnan, when, avg\n",
    "import category_encoders as ce\n",
    "import pandas as pd\n",
    "import itertools\n",
    "import matplotlib.pyplot as plt\n",
    "from sklearn.preprocessing import OneHotEncoder\n",
    "from category_encoders import CatBoostEncoder\n",
    "import pickle\n",
    "from pyspark.sql import SparkSession\n",
    "from pyspark.sql.functions import pandas_udf, PandasUDFType\n",
    "from pyspark.sql.types import DoubleType, ArrayType\n",
    "import numpy as np\n",
    "import pandas as pd\n",
    "import sklearn\n",
    "sklearn.set_config(transform_output='pandas')\n",
    "from pyspark.sql.functions import array\n",
    "from pyspark.sql import functions as F\n",
    "from pyspark.sql import SparkSession, types as T\n",
    "from pyspark.sql.functions import udf\n",
    "from pyspark.sql.functions import round, sum, avg, count, min, max\n",
    "from ast import literal_eval\n",
    "\n",
    "from pyspark.sql import DataFrame\n",
    "\n",
    "from pyspark.sql import functions as sf\n",
    "from pyspark.sql.functions import udf\n",
    "from pyspark.sql.types import ArrayType, DoubleType\n",
    "import pyspark\n",
    "from pyspark.sql import SparkSession\n",
    "# from geospark.register import upload_jars\n",
    "# from geospark.register import GeoSparkRegistrator\n",
    "# from geospark.core.SpatialRDD import PolygonRDD, PointRDD\n",
    "# from geospark.core.enums import FileDataSplitter\n",
    "# from geospark.core.enums import IndexType\n",
    "# from geospark.core.geom.envelope import Envelope\n",
    "# from geospark.core.spatialOperator import RangeQuery\n",
    "# from geospark.core.formatMapper.shapefileParser import ShapefileReader\n",
    "# from geospark.sql.types import GeometryType\n",
    "# from geospark.register import sparkJVM\n",
    "# import re\n",
    "# upload_jars()\n",
    "#\n",
    "#\n",
    "#\n",
    "# spark = SparkSession.builder.appName(\"Spark_v1\")    .config(\"spark.default.parallelism\", 176*3) \\\n",
    "#     .config(\"spark.sql.shuffle.partitions\", 176*3) \\\n",
    "#     .config(\"spark.executor.memory\", \"50g\") \\\n",
    "#     .config(\"spark.executor.cores\", \"5\") \\\n",
    "#     .config(\"spark.driver.memory\", \"10g\") \\\n",
    "#     .config(\"spark.driver.maxResultSize\", \"1300g\") \\\n",
    "#     .getOrCreate()\n",
    "import os\n",
    "\n",
    "# setup arguments\n",
    "#os.environ['PYSPARK_SUBMIT_ARGS'] = '--packages org.apache.spark:spark-sql-kafka-0-10_2.11:2.4.0'\n",
    "\n",
    "# initialize spark\n",
    "import pyspark\n",
    "\n",
    "from pyspark.sql import SparkSession\n",
    "from pyspark.sql.types import StringType, BooleanType\n",
    "\n",
    "\n",
    "ram = 16\n",
    "\n",
    "spark = SparkSession. \\\n",
    "    builder. \\\n",
    "    appName('spark_first_run') \\\n",
    "    .config(\"spark.executor.memory\", f\"{ram}g\") \\\n",
    "    .config(\"spark.driver.maxResultSize\", f\"{ram}g\") \\\n",
    "    .config(\"spark.driver.memory\", f\"{ram}g\") \\\n",
    "    .config(\"spark.executor.memoryOverhead\", f\"{ram}g\") \\\n",
    "    .config(\"spark.sql.debug.maxToStringFields\", \"100000\") \\\n",
    "    .getOrCreate()\n",
    "\n",
    "\n",
    "#    .config(\"spark.driver.memory\", \"10g\") \\\n",
    "\n",
    "#    .config(\"spark.executor.memoryOverhead\", \"10g\") \\\n",
    "\n",
    "\n",
    "\n",
    "\n",
    "# Register Sedona functions to Spark\n",
    "\n",
    "\n",
    "from pyspark.sql.functions import regexp_extract\n",
    "\n",
    "\n",
    "\n",
    "\n",
    "from scipy.stats import t\n",
    "from pyspark.sql import SparkSession\n",
    "\n",
    "from pyspark.sql.functions import udf, lit\n",
    "\n",
    "import pandas as pd\n",
    "from ast import literal_eval\n",
    "import json\n",
    "from pyspark.sql.functions import udf\n",
    "import pandas as pd\n",
    "import shutil\n",
    "from pyspark.sql.functions import udf\n",
    "from pyspark.sql.functions import udf, explode\n",
    "from pyspark.sql.types import ArrayType, StructType, StructField, FloatType\n",
    "from pyspark.sql.functions import desc\n",
    "from time import sleep\n",
    "from pyspark.sql import Row\n",
    "#from pyspark.sql.functions import min, max\n",
    "from pyspark.sql.functions import col\n",
    "from pyspark.sql.functions import split, explode, lower, trim\n",
    "from pyspark.sql import SparkSession\n",
    "from pyspark.sql.functions import when, count, col\n",
    "from pyspark.sql import SparkSession\n",
    "from pyspark.sql.functions import row_number\n",
    "from pyspark.sql.window import Window\n",
    "from pyspark.sql.functions import monotonically_increasing_id\n",
    "from pyspark.sql.functions import monotonically_increasing_id, concat, col, lit, cast\n",
    "from pyspark.sql import SparkSession\n",
    "from pyspark.sql.functions import collect_list, udf\n",
    "from pyspark.sql.types import DoubleType\n",
    "from pyspark.sql import SparkSession\n",
    "from pyspark.sql.functions import initcap\n",
    "import re\n",
    "import subprocess"
   ]
  },
  {
   "cell_type": "markdown",
   "source": [
    "# This is regex train notebook"
   ],
   "metadata": {
    "collapsed": false
   },
   "id": "c582e741e0005a05"
  },
  {
   "cell_type": "markdown",
   "source": [
    "### 1. Uploading data"
   ],
   "metadata": {
    "collapsed": false
   },
   "id": "e104547328a17367"
  },
  {
   "cell_type": "code",
   "outputs": [
    {
     "name": "stdout",
     "output_type": "stream",
     "text": [
      "                                         Link\n",
      "0                      https://www.scribd.com\n",
      "1               https://www.scrdownloader.com\n",
      "2  http://bemowsap08v.corp.kpmgconsulting.com\n",
      "3                        https://help.sap.com\n",
      "4                        https://help.sap.com\n"
     ]
    }
   ],
   "source": [
    "# Function to read a text file and find web links in it using regular expressions\n",
    "def find_links_in_text_file(file_path):\n",
    "    # Open the text file for reading\n",
    "    with open(file_path, 'r', encoding='utf-8') as file:\n",
    "        text = file.read()\n",
    "\n",
    "    # Pattern for finding web links\n",
    "    pattern = r'https?://(?:[-\\w.]|(?:%[\\da-fA-F]{2}))+'\n",
    "\n",
    "    # Find all web links in the text using regular expression\n",
    "    links = re.findall(pattern, text)\n",
    "\n",
    "    # Create a Pandas DataFrame to store the found links\n",
    "    df = pd.DataFrame(links, columns=['Link'])\n",
    "\n",
    "    return df\n",
    "\n",
    "# Path to the text file\n",
    "file_path = 'C:/Users/Peter/DataspellProjects/suetin/regex_train/data/_chat.txt'\n",
    "\n",
    "# Get a DataFrame with the found web links\n",
    "links_df = find_links_in_text_file(file_path)\n",
    "\n",
    "# Display the first few rows of the DataFrame\n",
    "print(links_df.head())\n"
   ],
   "metadata": {
    "collapsed": false,
    "ExecuteTime": {
     "end_time": "2024-03-19T12:54:54.476338Z",
     "start_time": "2024-03-19T12:54:54.416279Z"
    }
   },
   "id": "499c87f0d91ceee",
   "execution_count": 25
  },
  {
   "cell_type": "code",
   "outputs": [
    {
     "data": {
      "text/plain": "                                           Link\n0                        https://www.scribd.com\n1                 https://www.scrdownloader.com\n2    http://bemowsap08v.corp.kpmgconsulting.com\n3                          https://help.sap.com\n4                          https://help.sap.com\n..                                          ...\n548                   https://chrome.google.com\n549                       https://blogs.sap.com\n550                    https://pmllc.omeclk.com\n551                       https://blogs.sap.com\n552   https://bearingpointrus-my.sharepoint.com\n\n[553 rows x 1 columns]",
      "text/html": "<div>\n<style scoped>\n    .dataframe tbody tr th:only-of-type {\n        vertical-align: middle;\n    }\n\n    .dataframe tbody tr th {\n        vertical-align: top;\n    }\n\n    .dataframe thead th {\n        text-align: right;\n    }\n</style>\n<table border=\"1\" class=\"dataframe\">\n  <thead>\n    <tr style=\"text-align: right;\">\n      <th></th>\n      <th>Link</th>\n    </tr>\n  </thead>\n  <tbody>\n    <tr>\n      <th>0</th>\n      <td>https://www.scribd.com</td>\n    </tr>\n    <tr>\n      <th>1</th>\n      <td>https://www.scrdownloader.com</td>\n    </tr>\n    <tr>\n      <th>2</th>\n      <td>http://bemowsap08v.corp.kpmgconsulting.com</td>\n    </tr>\n    <tr>\n      <th>3</th>\n      <td>https://help.sap.com</td>\n    </tr>\n    <tr>\n      <th>4</th>\n      <td>https://help.sap.com</td>\n    </tr>\n    <tr>\n      <th>...</th>\n      <td>...</td>\n    </tr>\n    <tr>\n      <th>548</th>\n      <td>https://chrome.google.com</td>\n    </tr>\n    <tr>\n      <th>549</th>\n      <td>https://blogs.sap.com</td>\n    </tr>\n    <tr>\n      <th>550</th>\n      <td>https://pmllc.omeclk.com</td>\n    </tr>\n    <tr>\n      <th>551</th>\n      <td>https://blogs.sap.com</td>\n    </tr>\n    <tr>\n      <th>552</th>\n      <td>https://bearingpointrus-my.sharepoint.com</td>\n    </tr>\n  </tbody>\n</table>\n<p>553 rows × 1 columns</p>\n</div>"
     },
     "execution_count": 26,
     "metadata": {},
     "output_type": "execute_result"
    }
   ],
   "source": [
    "links_df"
   ],
   "metadata": {
    "collapsed": false,
    "ExecuteTime": {
     "end_time": "2024-03-19T12:54:55.267941Z",
     "start_time": "2024-03-19T12:54:55.245396Z"
    }
   },
   "id": "2967c2eb43720a28",
   "execution_count": 26
  },
  {
   "cell_type": "code",
   "outputs": [
    {
     "data": {
      "text/plain": "                                           Link\n0                        https://www.scribd.com\n1                 https://www.scrdownloader.com\n2    http://bemowsap08v.corp.kpmgconsulting.com\n3                          https://help.sap.com\n4                          https://help.sap.com\n..                                          ...\n548                   https://chrome.google.com\n549                       https://blogs.sap.com\n550                    https://pmllc.omeclk.com\n551                       https://blogs.sap.com\n552   https://bearingpointrus-my.sharepoint.com\n\n[553 rows x 1 columns]",
      "text/html": "<div>\n<style scoped>\n    .dataframe tbody tr th:only-of-type {\n        vertical-align: middle;\n    }\n\n    .dataframe tbody tr th {\n        vertical-align: top;\n    }\n\n    .dataframe thead th {\n        text-align: right;\n    }\n</style>\n<table border=\"1\" class=\"dataframe\">\n  <thead>\n    <tr style=\"text-align: right;\">\n      <th></th>\n      <th>Link</th>\n    </tr>\n  </thead>\n  <tbody>\n    <tr>\n      <th>0</th>\n      <td>https://www.scribd.com</td>\n    </tr>\n    <tr>\n      <th>1</th>\n      <td>https://www.scrdownloader.com</td>\n    </tr>\n    <tr>\n      <th>2</th>\n      <td>http://bemowsap08v.corp.kpmgconsulting.com</td>\n    </tr>\n    <tr>\n      <th>3</th>\n      <td>https://help.sap.com</td>\n    </tr>\n    <tr>\n      <th>4</th>\n      <td>https://help.sap.com</td>\n    </tr>\n    <tr>\n      <th>...</th>\n      <td>...</td>\n    </tr>\n    <tr>\n      <th>548</th>\n      <td>https://chrome.google.com</td>\n    </tr>\n    <tr>\n      <th>549</th>\n      <td>https://blogs.sap.com</td>\n    </tr>\n    <tr>\n      <th>550</th>\n      <td>https://pmllc.omeclk.com</td>\n    </tr>\n    <tr>\n      <th>551</th>\n      <td>https://blogs.sap.com</td>\n    </tr>\n    <tr>\n      <th>552</th>\n      <td>https://bearingpointrus-my.sharepoint.com</td>\n    </tr>\n  </tbody>\n</table>\n<p>553 rows × 1 columns</p>\n</div>"
     },
     "execution_count": 27,
     "metadata": {},
     "output_type": "execute_result"
    }
   ],
   "source": [
    "links_df = links_df.rename(columns={'Ссылка':'link'})\n",
    "links_df"
   ],
   "metadata": {
    "collapsed": false,
    "ExecuteTime": {
     "end_time": "2024-03-19T12:54:57.019030Z",
     "start_time": "2024-03-19T12:54:57.005032Z"
    }
   },
   "id": "b3390d0369c5a88c",
   "execution_count": 27
  },
  {
   "cell_type": "code",
   "outputs": [
    {
     "data": {
      "text/plain": "0                          https://www.scribd.com\n1                   https://www.scrdownloader.com\n2      http://bemowsap08v.corp.kpmgconsulting.com\n3                            https://help.sap.com\n4                            https://help.sap.com\n                          ...                    \n548                     https://chrome.google.com\n549                         https://blogs.sap.com\n550                      https://pmllc.omeclk.com\n551                         https://blogs.sap.com\n552     https://bearingpointrus-my.sharepoint.com\nName: Link, Length: 553, dtype: object"
     },
     "execution_count": 28,
     "metadata": {},
     "output_type": "execute_result"
    }
   ],
   "source": [
    "links_df['Link']"
   ],
   "metadata": {
    "collapsed": false,
    "ExecuteTime": {
     "end_time": "2024-03-19T12:54:57.035030Z",
     "start_time": "2024-03-19T12:54:57.020040Z"
    }
   },
   "id": "f25270bd7f1bad60",
   "execution_count": 28
  },
  {
   "cell_type": "markdown",
   "source": [
    "### 2.1 Finding all site names in links"
   ],
   "metadata": {
    "collapsed": false
   },
   "id": "19a5e26796b0a87"
  },
  {
   "cell_type": "code",
   "outputs": [
    {
     "data": {
      "text/plain": "0             scribd\n1      scrdownloader\n2               None\n3                sap\n4                sap\n           ...      \n548           chrome\n549            blogs\n550            pmllc\n551            blogs\n552             None\nLength: 553, dtype: object"
     },
     "execution_count": 29,
     "metadata": {},
     "output_type": "execute_result"
    }
   ],
   "source": [
    "prefixes = ['www','help','chat']\n",
    "pattern = fr'https://({\"|\".join(prefixes)}|)\\.?([a-zA-Z]+)(\\.[a-zA-Z]*)'\n",
    "def find_pattern(text):\n",
    "    result = re.search(pattern, text)\n",
    "    if result:\n",
    "        return result.group(2)\n",
    "    else:\n",
    "        return None\n",
    "\n",
    "links_df_new = links_df.apply(lambda x: find_pattern(x['Link']), axis=1)\n",
    "links_df_new"
   ],
   "metadata": {
    "collapsed": false,
    "ExecuteTime": {
     "end_time": "2024-03-19T12:54:57.066351Z",
     "start_time": "2024-03-19T12:54:57.037033Z"
    }
   },
   "id": "7966372d501f1d1a",
   "execution_count": 29
  },
  {
   "cell_type": "markdown",
   "source": [
    "### finding all unique names"
   ],
   "metadata": {
    "collapsed": false
   },
   "id": "da6f8f1cc2a6e4b6"
  },
  {
   "cell_type": "code",
   "outputs": [
    {
     "data": {
      "text/plain": "              site\n0           scribd\n1    scrdownloader\n2             None\n3              sap\n4              NaN\n..             ...\n548         chrome\n549            NaN\n550          pmllc\n551            NaN\n552            NaN\n\n[553 rows x 1 columns]",
      "text/html": "<div>\n<style scoped>\n    .dataframe tbody tr th:only-of-type {\n        vertical-align: middle;\n    }\n\n    .dataframe tbody tr th {\n        vertical-align: top;\n    }\n\n    .dataframe thead th {\n        text-align: right;\n    }\n</style>\n<table border=\"1\" class=\"dataframe\">\n  <thead>\n    <tr style=\"text-align: right;\">\n      <th></th>\n      <th>site</th>\n    </tr>\n  </thead>\n  <tbody>\n    <tr>\n      <th>0</th>\n      <td>scribd</td>\n    </tr>\n    <tr>\n      <th>1</th>\n      <td>scrdownloader</td>\n    </tr>\n    <tr>\n      <th>2</th>\n      <td>None</td>\n    </tr>\n    <tr>\n      <th>3</th>\n      <td>sap</td>\n    </tr>\n    <tr>\n      <th>4</th>\n      <td>NaN</td>\n    </tr>\n    <tr>\n      <th>...</th>\n      <td>...</td>\n    </tr>\n    <tr>\n      <th>548</th>\n      <td>chrome</td>\n    </tr>\n    <tr>\n      <th>549</th>\n      <td>NaN</td>\n    </tr>\n    <tr>\n      <th>550</th>\n      <td>pmllc</td>\n    </tr>\n    <tr>\n      <th>551</th>\n      <td>NaN</td>\n    </tr>\n    <tr>\n      <th>552</th>\n      <td>NaN</td>\n    </tr>\n  </tbody>\n</table>\n<p>553 rows × 1 columns</p>\n</div>"
     },
     "execution_count": 30,
     "metadata": {},
     "output_type": "execute_result"
    }
   ],
   "source": [
    "links_df_new.name = 'site'\n",
    "links_df_new = pd.DataFrame(links_df_new)\n",
    "links_df_new['site'] = links_df_new['site'].replace('None', None)\n",
    "links_df_new['site'] = links_df_new['site'].drop_duplicates()\n",
    "\n",
    "links_df_new = links_df_new[links_df_new['site'] != None]  \n",
    "\n",
    "links_df_new"
   ],
   "metadata": {
    "collapsed": false,
    "ExecuteTime": {
     "end_time": "2024-03-19T12:54:58.201477Z",
     "start_time": "2024-03-19T12:54:58.074475Z"
    }
   },
   "id": "f928212020a15055",
   "execution_count": 30
  },
  {
   "cell_type": "code",
   "outputs": [
    {
     "data": {
      "text/plain": "'www|help|chat'"
     },
     "execution_count": 31,
     "metadata": {},
     "output_type": "execute_result"
    }
   ],
   "source": [
    "'|'.join(prefixes)"
   ],
   "metadata": {
    "collapsed": false,
    "ExecuteTime": {
     "end_time": "2024-03-19T12:54:58.876624Z",
     "start_time": "2024-03-19T12:54:58.862622Z"
    }
   },
   "id": "3df1b71037c03b2c",
   "execution_count": 31
  },
  {
   "cell_type": "code",
   "outputs": [
    {
     "data": {
      "text/plain": "0              www\n2      bemowsap08v\n3             help\n10           blogs\n12         answers\n          ...     \n534    publication\n543             cp\n547            2ip\n548         chrome\n550          pmllc\nName: 0, Length: 130, dtype: object"
     },
     "execution_count": 32,
     "metadata": {},
     "output_type": "execute_result"
    }
   ],
   "source": [
    "# Pattern to find prefixes before dots\n",
    "pattern = r'\\b(\\w+)\\.'\n",
    "\n",
    "text_column = links_df['Link']\n",
    "\n",
    "def find_pattern(text):\n",
    "    result = re.search(pattern, text)\n",
    "    if result:\n",
    "        return result.group(0)\n",
    "    else:\n",
    "        return None\n",
    "\n",
    "# Find all prefixes before dots in the text using re.findall() method\n",
    "prefixes = pd.DataFrame(links_df.apply(lambda x: find_pattern(x['Link']), axis=1))\n",
    "prefixes = prefixes.map(lambda x: x[:-1] if isinstance(x, str) else x)\n",
    "prefixes = prefixes[0].drop_duplicates()\n",
    "\n",
    "prefixes"
   ],
   "metadata": {
    "collapsed": false,
    "ExecuteTime": {
     "end_time": "2024-03-19T12:54:59.357115Z",
     "start_time": "2024-03-19T12:54:59.325313Z"
    }
   },
   "id": "e67ff61c1e2fceff",
   "execution_count": 32
  },
  {
   "cell_type": "markdown",
   "source": [
    "\\b: Word boundary\n",
    "(\\w+): Group to match one or more word characters (letters, digits, or underscores)\n",
    "\\.: Dot character\n",
    "This pattern will find all sequences of characters before dots that are prefixes in the text string."
   ],
   "metadata": {
    "collapsed": false
   },
   "id": "571e3a36b053fa45"
  },
  {
   "cell_type": "markdown",
   "source": [],
   "metadata": {
    "collapsed": false
   },
   "id": "8f732d1f39876d53"
  },
  {
   "cell_type": "markdown",
   "source": [
    "### 2.2 Finding all site names in links without \"sap\""
   ],
   "metadata": {
    "collapsed": false
   },
   "id": "8c660df0522d8360"
  },
  {
   "cell_type": "code",
   "outputs": [
    {
     "data": {
      "text/plain": "0                         https://www.scribd.com\n1                  https://www.scrdownloader.com\n2         http://bemowsap08v.corp.kpmgconsulting\n3                           https://help.sap.com\n4                           https://help.sap.com\n                         ...                    \n548                    https://chrome.google.com\n549                        https://blogs.sap.com\n550                     https://pmllc.omeclk.com\n551                        https://blogs.sap.com\n552    https://bearingpointrus-my.sharepoint.com\nLength: 553, dtype: object"
     },
     "execution_count": 33,
     "metadata": {},
     "output_type": "execute_result"
    }
   ],
   "source": [
    "# pattern = fr'https://(?!sap)\\.?([a-zA-Z]+)(\\.[a-zA-Z]*)'\n",
    "pattern = fr'https?://(?:www\\.)?(?!.*\\sap)[a-zA-Z0-9-]+\\.[a-zA-Z]+(?:\\.[a-zA-Z]+)?'\n",
    "def find_pattern(text):\n",
    "    result = re.search(pattern, text)\n",
    "    if result:\n",
    "        return result.group(0)\n",
    "    else:\n",
    "        return None\n",
    "\n",
    "links_df_not_sap = links_df.apply(lambda x: find_pattern(x['Link']), axis=1)\n",
    "links_df_not_sap"
   ],
   "metadata": {
    "collapsed": false,
    "ExecuteTime": {
     "end_time": "2024-03-19T12:55:01.039775Z",
     "start_time": "2024-03-19T12:55:01.022711Z"
    }
   },
   "id": "6fd4aec1da22c416",
   "execution_count": 33
  },
  {
   "cell_type": "markdown",
   "source": [
    "#### another way to filter \"links without sap\""
   ],
   "metadata": {
    "collapsed": false
   },
   "id": "a2ad669a4be7174f"
  },
  {
   "cell_type": "code",
   "outputs": [
    {
     "data": {
      "text/plain": "                                          Link\n0                       https://www.scribd.com\n1                https://www.scrdownloader.com\n5                https://www.marinetraffic.com\n7                      https://www.reartek.com\n8                  https://www.tandfonline.com\n..                                         ...\n546                          https://cp.ews.ru\n547                             https://2ip.ru\n548                  https://chrome.google.com\n550                   https://pmllc.omeclk.com\n552  https://bearingpointrus-my.sharepoint.com\n\n[364 rows x 1 columns]",
      "text/html": "<div>\n<style scoped>\n    .dataframe tbody tr th:only-of-type {\n        vertical-align: middle;\n    }\n\n    .dataframe tbody tr th {\n        vertical-align: top;\n    }\n\n    .dataframe thead th {\n        text-align: right;\n    }\n</style>\n<table border=\"1\" class=\"dataframe\">\n  <thead>\n    <tr style=\"text-align: right;\">\n      <th></th>\n      <th>Link</th>\n    </tr>\n  </thead>\n  <tbody>\n    <tr>\n      <th>0</th>\n      <td>https://www.scribd.com</td>\n    </tr>\n    <tr>\n      <th>1</th>\n      <td>https://www.scrdownloader.com</td>\n    </tr>\n    <tr>\n      <th>5</th>\n      <td>https://www.marinetraffic.com</td>\n    </tr>\n    <tr>\n      <th>7</th>\n      <td>https://www.reartek.com</td>\n    </tr>\n    <tr>\n      <th>8</th>\n      <td>https://www.tandfonline.com</td>\n    </tr>\n    <tr>\n      <th>...</th>\n      <td>...</td>\n    </tr>\n    <tr>\n      <th>546</th>\n      <td>https://cp.ews.ru</td>\n    </tr>\n    <tr>\n      <th>547</th>\n      <td>https://2ip.ru</td>\n    </tr>\n    <tr>\n      <th>548</th>\n      <td>https://chrome.google.com</td>\n    </tr>\n    <tr>\n      <th>550</th>\n      <td>https://pmllc.omeclk.com</td>\n    </tr>\n    <tr>\n      <th>552</th>\n      <td>https://bearingpointrus-my.sharepoint.com</td>\n    </tr>\n  </tbody>\n</table>\n<p>364 rows × 1 columns</p>\n</div>"
     },
     "execution_count": 34,
     "metadata": {},
     "output_type": "execute_result"
    }
   ],
   "source": [
    "links_df_not_sap_alt = links_df[~links_df['Link'].str.contains('sap', case=False, regex=True)]\n",
    "links_df_not_sap_alt"
   ],
   "metadata": {
    "collapsed": false,
    "ExecuteTime": {
     "end_time": "2024-03-19T12:55:01.543221Z",
     "start_time": "2024-03-19T12:55:01.529223Z"
    }
   },
   "id": "d5e2f969ed924e7e",
   "execution_count": 34
  },
  {
   "cell_type": "markdown",
   "source": [
    "#### one more way to filter \"links without sap\""
   ],
   "metadata": {
    "collapsed": false
   },
   "id": "b31c806aa4bc7c86"
  },
  {
   "cell_type": "code",
   "outputs": [
    {
     "data": {
      "text/plain": "                                          Link\n0                       https://www.scribd.com\n1                https://www.scrdownloader.com\n5                https://www.marinetraffic.com\n7                      https://www.reartek.com\n8                  https://www.tandfonline.com\n..                                         ...\n546                          https://cp.ews.ru\n547                             https://2ip.ru\n548                  https://chrome.google.com\n550                   https://pmllc.omeclk.com\n552  https://bearingpointrus-my.sharepoint.com\n\n[364 rows x 1 columns]",
      "text/html": "<div>\n<style scoped>\n    .dataframe tbody tr th:only-of-type {\n        vertical-align: middle;\n    }\n\n    .dataframe tbody tr th {\n        vertical-align: top;\n    }\n\n    .dataframe thead th {\n        text-align: right;\n    }\n</style>\n<table border=\"1\" class=\"dataframe\">\n  <thead>\n    <tr style=\"text-align: right;\">\n      <th></th>\n      <th>Link</th>\n    </tr>\n  </thead>\n  <tbody>\n    <tr>\n      <th>0</th>\n      <td>https://www.scribd.com</td>\n    </tr>\n    <tr>\n      <th>1</th>\n      <td>https://www.scrdownloader.com</td>\n    </tr>\n    <tr>\n      <th>5</th>\n      <td>https://www.marinetraffic.com</td>\n    </tr>\n    <tr>\n      <th>7</th>\n      <td>https://www.reartek.com</td>\n    </tr>\n    <tr>\n      <th>8</th>\n      <td>https://www.tandfonline.com</td>\n    </tr>\n    <tr>\n      <th>...</th>\n      <td>...</td>\n    </tr>\n    <tr>\n      <th>546</th>\n      <td>https://cp.ews.ru</td>\n    </tr>\n    <tr>\n      <th>547</th>\n      <td>https://2ip.ru</td>\n    </tr>\n    <tr>\n      <th>548</th>\n      <td>https://chrome.google.com</td>\n    </tr>\n    <tr>\n      <th>550</th>\n      <td>https://pmllc.omeclk.com</td>\n    </tr>\n    <tr>\n      <th>552</th>\n      <td>https://bearingpointrus-my.sharepoint.com</td>\n    </tr>\n  </tbody>\n</table>\n<p>364 rows × 1 columns</p>\n</div>"
     },
     "execution_count": 35,
     "metadata": {},
     "output_type": "execute_result"
    }
   ],
   "source": [
    "pattern = r'^(?!.*sap).*$'\n",
    "\n",
    "links_df_not_sap_alt2 = links_df[links_df['Link'].str.match(pattern)]\n",
    "links_df_not_sap_alt2"
   ],
   "metadata": {
    "collapsed": false,
    "ExecuteTime": {
     "end_time": "2024-03-19T12:55:02.059730Z",
     "start_time": "2024-03-19T12:55:02.045656Z"
    }
   },
   "id": "120dd9c93e14e9d1",
   "execution_count": 35
  },
  {
   "cell_type": "code",
   "outputs": [],
   "source": [
    "pattern = r'www\\.(?!sap)'"
   ],
   "metadata": {
    "collapsed": false,
    "ExecuteTime": {
     "end_time": "2024-03-19T12:55:02.503794Z",
     "start_time": "2024-03-19T12:55:02.489927Z"
    }
   },
   "id": "9614f1a357faa089",
   "execution_count": 36
  },
  {
   "cell_type": "code",
   "outputs": [
    {
     "ename": "KeyError",
     "evalue": "'link'",
     "output_type": "error",
     "traceback": [
      "\u001B[1;31m---------------------------------------------------------------------------\u001B[0m",
      "\u001B[1;31mKeyError\u001B[0m                                  Traceback (most recent call last)",
      "File \u001B[1;32mC:\\ProgramData\\anaconda3\\envs\\kanagawa\\lib\\site-packages\\pandas\\core\\indexes\\base.py:3791\u001B[0m, in \u001B[0;36mIndex.get_loc\u001B[1;34m(self, key)\u001B[0m\n\u001B[0;32m   3790\u001B[0m \u001B[38;5;28;01mtry\u001B[39;00m:\n\u001B[1;32m-> 3791\u001B[0m     \u001B[38;5;28;01mreturn\u001B[39;00m \u001B[38;5;28;43mself\u001B[39;49m\u001B[38;5;241;43m.\u001B[39;49m\u001B[43m_engine\u001B[49m\u001B[38;5;241;43m.\u001B[39;49m\u001B[43mget_loc\u001B[49m\u001B[43m(\u001B[49m\u001B[43mcasted_key\u001B[49m\u001B[43m)\u001B[49m\n\u001B[0;32m   3792\u001B[0m \u001B[38;5;28;01mexcept\u001B[39;00m \u001B[38;5;167;01mKeyError\u001B[39;00m \u001B[38;5;28;01mas\u001B[39;00m err:\n",
      "File \u001B[1;32mindex.pyx:152\u001B[0m, in \u001B[0;36mpandas._libs.index.IndexEngine.get_loc\u001B[1;34m()\u001B[0m\n",
      "File \u001B[1;32mindex.pyx:181\u001B[0m, in \u001B[0;36mpandas._libs.index.IndexEngine.get_loc\u001B[1;34m()\u001B[0m\n",
      "File \u001B[1;32mpandas\\_libs\\hashtable_class_helper.pxi:7080\u001B[0m, in \u001B[0;36mpandas._libs.hashtable.PyObjectHashTable.get_item\u001B[1;34m()\u001B[0m\n",
      "File \u001B[1;32mpandas\\_libs\\hashtable_class_helper.pxi:7088\u001B[0m, in \u001B[0;36mpandas._libs.hashtable.PyObjectHashTable.get_item\u001B[1;34m()\u001B[0m\n",
      "\u001B[1;31mKeyError\u001B[0m: 'link'",
      "\nThe above exception was the direct cause of the following exception:\n",
      "\u001B[1;31mKeyError\u001B[0m                                  Traceback (most recent call last)",
      "Cell \u001B[1;32mIn[37], line 3\u001B[0m\n\u001B[0;32m      1\u001B[0m \u001B[38;5;66;03m# sap_links = links_df[links_df['Ссылка'].str.contains(r'sap')]\u001B[39;00m\n\u001B[0;32m      2\u001B[0m \u001B[38;5;66;03m# chosen_links = links_df[links_df['link'].str.contains(r'http[s]?://(?:[a-zA-Z]|[0-9]|[$-_@.&+]|[!*\\\\(\\\\),]|(?:%[0-9a-fA-F][0-9a-fA-F]))+' )]\u001B[39;00m\n\u001B[1;32m----> 3\u001B[0m chosen_links \u001B[38;5;241m=\u001B[39m links_df[\u001B[43mlinks_df\u001B[49m\u001B[43m[\u001B[49m\u001B[38;5;124;43m'\u001B[39;49m\u001B[38;5;124;43mlink\u001B[39;49m\u001B[38;5;124;43m'\u001B[39;49m\u001B[43m]\u001B[49m\u001B[38;5;241m.\u001B[39mstr\u001B[38;5;241m.\u001B[39mcontains(\u001B[38;5;124mr\u001B[39m\u001B[38;5;124m'\u001B[39m\u001B[38;5;124mhttp[s]?://(?:[a-zA-Z]|[0-9]|[$-_@.&+]|[!*\u001B[39m\u001B[38;5;130;01m\\\\\u001B[39;00m\u001B[38;5;124m(\u001B[39m\u001B[38;5;130;01m\\\\\u001B[39;00m\u001B[38;5;124m),]|(?:\u001B[39m\u001B[38;5;124m%\u001B[39m\u001B[38;5;124m[0-9a-fA-F][0-9a-fA-F]))+\u001B[39m\u001B[38;5;124m'\u001B[39m )]\n\u001B[0;32m      5\u001B[0m chosen_links\n",
      "File \u001B[1;32mC:\\ProgramData\\anaconda3\\envs\\kanagawa\\lib\\site-packages\\pandas\\core\\frame.py:3893\u001B[0m, in \u001B[0;36mDataFrame.__getitem__\u001B[1;34m(self, key)\u001B[0m\n\u001B[0;32m   3891\u001B[0m \u001B[38;5;28;01mif\u001B[39;00m \u001B[38;5;28mself\u001B[39m\u001B[38;5;241m.\u001B[39mcolumns\u001B[38;5;241m.\u001B[39mnlevels \u001B[38;5;241m>\u001B[39m \u001B[38;5;241m1\u001B[39m:\n\u001B[0;32m   3892\u001B[0m     \u001B[38;5;28;01mreturn\u001B[39;00m \u001B[38;5;28mself\u001B[39m\u001B[38;5;241m.\u001B[39m_getitem_multilevel(key)\n\u001B[1;32m-> 3893\u001B[0m indexer \u001B[38;5;241m=\u001B[39m \u001B[38;5;28;43mself\u001B[39;49m\u001B[38;5;241;43m.\u001B[39;49m\u001B[43mcolumns\u001B[49m\u001B[38;5;241;43m.\u001B[39;49m\u001B[43mget_loc\u001B[49m\u001B[43m(\u001B[49m\u001B[43mkey\u001B[49m\u001B[43m)\u001B[49m\n\u001B[0;32m   3894\u001B[0m \u001B[38;5;28;01mif\u001B[39;00m is_integer(indexer):\n\u001B[0;32m   3895\u001B[0m     indexer \u001B[38;5;241m=\u001B[39m [indexer]\n",
      "File \u001B[1;32mC:\\ProgramData\\anaconda3\\envs\\kanagawa\\lib\\site-packages\\pandas\\core\\indexes\\base.py:3798\u001B[0m, in \u001B[0;36mIndex.get_loc\u001B[1;34m(self, key)\u001B[0m\n\u001B[0;32m   3793\u001B[0m     \u001B[38;5;28;01mif\u001B[39;00m \u001B[38;5;28misinstance\u001B[39m(casted_key, \u001B[38;5;28mslice\u001B[39m) \u001B[38;5;129;01mor\u001B[39;00m (\n\u001B[0;32m   3794\u001B[0m         \u001B[38;5;28misinstance\u001B[39m(casted_key, abc\u001B[38;5;241m.\u001B[39mIterable)\n\u001B[0;32m   3795\u001B[0m         \u001B[38;5;129;01mand\u001B[39;00m \u001B[38;5;28many\u001B[39m(\u001B[38;5;28misinstance\u001B[39m(x, \u001B[38;5;28mslice\u001B[39m) \u001B[38;5;28;01mfor\u001B[39;00m x \u001B[38;5;129;01min\u001B[39;00m casted_key)\n\u001B[0;32m   3796\u001B[0m     ):\n\u001B[0;32m   3797\u001B[0m         \u001B[38;5;28;01mraise\u001B[39;00m InvalidIndexError(key)\n\u001B[1;32m-> 3798\u001B[0m     \u001B[38;5;28;01mraise\u001B[39;00m \u001B[38;5;167;01mKeyError\u001B[39;00m(key) \u001B[38;5;28;01mfrom\u001B[39;00m \u001B[38;5;21;01merr\u001B[39;00m\n\u001B[0;32m   3799\u001B[0m \u001B[38;5;28;01mexcept\u001B[39;00m \u001B[38;5;167;01mTypeError\u001B[39;00m:\n\u001B[0;32m   3800\u001B[0m     \u001B[38;5;66;03m# If we have a listlike key, _check_indexing_error will raise\u001B[39;00m\n\u001B[0;32m   3801\u001B[0m     \u001B[38;5;66;03m#  InvalidIndexError. Otherwise we fall through and re-raise\u001B[39;00m\n\u001B[0;32m   3802\u001B[0m     \u001B[38;5;66;03m#  the TypeError.\u001B[39;00m\n\u001B[0;32m   3803\u001B[0m     \u001B[38;5;28mself\u001B[39m\u001B[38;5;241m.\u001B[39m_check_indexing_error(key)\n",
      "\u001B[1;31mKeyError\u001B[0m: 'link'"
     ]
    }
   ],
   "source": [
    "# sap_links = links_df[links_df['Ссылка'].str.contains(r'sap')]\n",
    "# chosen_links = links_df[links_df['link'].str.contains(r'http[s]?://(?:[a-zA-Z]|[0-9]|[$-_@.&+]|[!*\\\\(\\\\),]|(?:%[0-9a-fA-F][0-9a-fA-F]))+' )]\n",
    "chosen_links = links_df[links_df['link'].str.contains(r'http[s]?://(?:[a-zA-Z]|[0-9]|[$-_@.&+]|[!*\\\\(\\\\),]|(?:%[0-9a-fA-F][0-9a-fA-F]))+' )]\n",
    "\n",
    "chosen_links"
   ],
   "metadata": {
    "collapsed": false,
    "ExecuteTime": {
     "end_time": "2024-03-19T12:55:03.420703Z",
     "start_time": "2024-03-19T12:55:02.504795Z"
    }
   },
   "id": "453fe1ed1600f4b6",
   "execution_count": 37
  },
  {
   "cell_type": "code",
   "outputs": [],
   "source": [
    "# df = spark.read.option(\"header\",True).txt('data/_chat.txt')\n",
    "df=spark.createDataFrame(links_df)\n",
    "df.printSchema()\n",
    "df.show()"
   ],
   "metadata": {
    "collapsed": false,
    "ExecuteTime": {
     "end_time": "2024-03-19T12:55:03.423726Z",
     "start_time": "2024-03-19T12:55:03.423726Z"
    }
   },
   "id": "883396d53f10f941",
   "execution_count": null
  },
  {
   "cell_type": "code",
   "outputs": [],
   "source": [
    "r'http[s]?://(?:[a-zA-Z]|[0-9]|[$-_@.&+]|[!*\\\\(\\\\),]|(?:%[0-9a-fA-F][0-9a-fA-F]))+'"
   ],
   "metadata": {
    "collapsed": false
   },
   "id": "e06eeeba7db55e63",
   "execution_count": null
  },
  {
   "cell_type": "code",
   "outputs": [],
   "source": [
    "links_df"
   ],
   "metadata": {
    "collapsed": false
   },
   "id": "d1b0979890dd27ca",
   "execution_count": null
  },
  {
   "cell_type": "code",
   "outputs": [],
   "source": [
    "pattern = r'www\\.(?!sap)'"
   ],
   "metadata": {
    "collapsed": false,
    "ExecuteTime": {
     "start_time": "2024-03-19T12:55:03.428704Z"
    }
   },
   "id": "81448b848eb58d6",
   "execution_count": null
  },
  {
   "cell_type": "code",
   "outputs": [
    {
     "name": "stdout",
     "output_type": "stream",
     "text": [
      "+--------------------+\n",
      "|                Link|\n",
      "+--------------------+\n",
      "|https://www.scrib...|\n",
      "|https://www.scrdo...|\n",
      "|https://www.marin...|\n",
      "|https://www.reart...|\n",
      "|https://www.tandf...|\n",
      "|        https://t.me|\n",
      "|https://cloud.bea...|\n",
      "|  https://medium.com|\n",
      "|https://cloud.bea...|\n",
      "|    https://habr.com|\n",
      "|   http://geojson.io|\n",
      "|https://www.kinop...|\n",
      "| https://www.inc.com|\n",
      "|https://cloud.bea...|\n",
      "|      https://ria.ru|\n",
      "|https://cloud.bea...|\n",
      "|https://www.inter...|\n",
      "|https://cloud.bea...|\n",
      "|https://www.dev-w...|\n",
      "|https://www.banki.ru|\n",
      "+--------------------+\n"
     ]
    }
   ],
   "source": [
    "df = spark.createDataFrame(links_df)\n",
    "df.createOrReplaceTempView(\"LINKS_DF\")\n",
    "\n",
    "result = spark.sql('''\n",
    "    SELECT *\n",
    "    FROM LINKS_DF\n",
    "    WHERE NOT Link LIKE '%sap%'\n",
    "''')\n",
    "\n",
    "# result.write.mode(\"overwrite\").saveAsTable(\"NEW_TABLE_WO_SAP\")\n",
    "result.show()"
   ],
   "metadata": {
    "collapsed": false,
    "ExecuteTime": {
     "end_time": "2024-03-19T12:55:09.892561Z",
     "start_time": "2024-03-19T12:55:03.586452Z"
    }
   },
   "id": "90c4740c80a4c290",
   "execution_count": 38
  },
  {
   "cell_type": "code",
   "outputs": [
    {
     "name": "stdout",
     "output_type": "stream",
     "text": [
      "+--------------------+\n",
      "|                Link|\n",
      "+--------------------+\n",
      "|        https://t.me|\n",
      "|https://cloud.bea...|\n",
      "|  https://sapland.ru|\n",
      "|https://cloud.bea...|\n",
      "|   http://geojson.io|\n",
      "|https://www.kinop...|\n",
      "|https://cloud.bea...|\n",
      "|      https://ria.ru|\n",
      "|https://cloud.bea...|\n",
      "|https://www.inter...|\n",
      "|http://www.sapnet.ru|\n",
      "|https://cloud.bea...|\n",
      "|http://saphub.ice...|\n",
      "|https://www.banki.ru|\n",
      "|  https://pro.rbc.ru|\n",
      "|https://www.kazna...|\n",
      "|https://cloud.bea...|\n",
      "|http://saphub.ice...|\n",
      "|http://saphub.ice...|\n",
      "|http://saphub.ice...|\n",
      "+--------------------+\n"
     ]
    }
   ],
   "source": [
    "\n",
    "result = spark.sql('''\n",
    "    SELECT *\n",
    "    FROM LINKS_DF\n",
    "    WHERE NOT Link LIKE '%.com'\n",
    "''')\n",
    "\n",
    "result.show()\n"
   ],
   "metadata": {
    "collapsed": false,
    "ExecuteTime": {
     "end_time": "2024-03-19T12:55:12.236479Z",
     "start_time": "2024-03-19T12:55:09.894557Z"
    }
   },
   "id": "db75eb346176406b",
   "execution_count": 39
  },
  {
   "cell_type": "code",
   "outputs": [
    {
     "name": "stdout",
     "output_type": "stream",
     "text": [
      "+----+\n",
      "|Link|\n",
      "+----+\n",
      "+----+\n"
     ]
    }
   ],
   "source": [
    "result = spark.sql('''\n",
    "    SELECT *\n",
    "    FROM LINKS_DF\n",
    "    WHERE  Link LIKE '(www\\.\\.ru)[\\s\\S]'\n",
    "''')\n",
    "\n",
    "result.show()"
   ],
   "metadata": {
    "collapsed": false,
    "ExecuteTime": {
     "end_time": "2024-03-19T12:55:22.857569Z",
     "start_time": "2024-03-19T12:55:12.238480Z"
    }
   },
   "id": "c438bd12ea158be0",
   "execution_count": 40
  },
  {
   "cell_type": "markdown",
   "source": [
    "3 ### NEW trainig df"
   ],
   "metadata": {
    "collapsed": false
   },
   "id": "bccd1478ccf30e34"
  },
  {
   "cell_type": "code",
   "outputs": [
    {
     "data": {
      "text/plain": "    ID       Name                  Email     Phone    Country  Age  Weight  \\\n0    1       John       john@example.com  555-1234        USA   62      89   \n1    2      Alice      alice@example.com  555-5678     Canada   65      96   \n2    3        Bob        bob@example.com  555-9101         UK   71      87   \n3    4       Mary       mary@example.com  555-1121  Australia   18      75   \n4    5      David      david@example.com  555-3141    Germany   21      59   \n5    6      Emily      emily@example.com  555-6171        USA   77      70   \n6    7      James      james@example.com  555-8191     Canada   21     119   \n7    8      Sarah      sarah@example.com  555-2322         UK   57      97   \n8    9    Michael    michael@example.com  555-4342  Australia   27     114   \n9   10       Emma       emma@example.com  555-5563    Germany   37      99   \n10  11    William    william@example.com  555-7783        USA   39      79   \n11  12     Olivia     olivia@example.com  555-9904     Canada   68      69   \n12  13      Ethan      ethan@example.com  555-1125         UK   54      69   \n13  14        Ava        ava@example.com  555-3345  Australia   41      64   \n14  15   Benjamin   benjamin@example.com  555-5566    Germany   24      89   \n15  16        Mia        mia@example.com  555-7787        USA   42      82   \n16  17     Elijah     elijah@example.com  555-9908     Canada   42     115   \n17  18  Charlotte  charlotte@example.com  555-1129         UK   30      59   \n18  19      Lucas      lucas@example.com  555-3359  Australia   76     107   \n19  20     Harper     harper@example.com  555-5579    Germany   19      82   \n\n    Height  \n0      181  \n1      160  \n2      173  \n3      185  \n4      161  \n5      178  \n6      184  \n7      150  \n8      150  \n9      186  \n10     155  \n11     188  \n12     190  \n13     167  \n14     165  \n15     154  \n16     191  \n17     192  \n18     181  \n19     151  ",
      "text/html": "<div>\n<style scoped>\n    .dataframe tbody tr th:only-of-type {\n        vertical-align: middle;\n    }\n\n    .dataframe tbody tr th {\n        vertical-align: top;\n    }\n\n    .dataframe thead th {\n        text-align: right;\n    }\n</style>\n<table border=\"1\" class=\"dataframe\">\n  <thead>\n    <tr style=\"text-align: right;\">\n      <th></th>\n      <th>ID</th>\n      <th>Name</th>\n      <th>Email</th>\n      <th>Phone</th>\n      <th>Country</th>\n      <th>Age</th>\n      <th>Weight</th>\n      <th>Height</th>\n    </tr>\n  </thead>\n  <tbody>\n    <tr>\n      <th>0</th>\n      <td>1</td>\n      <td>John</td>\n      <td>john@example.com</td>\n      <td>555-1234</td>\n      <td>USA</td>\n      <td>62</td>\n      <td>89</td>\n      <td>181</td>\n    </tr>\n    <tr>\n      <th>1</th>\n      <td>2</td>\n      <td>Alice</td>\n      <td>alice@example.com</td>\n      <td>555-5678</td>\n      <td>Canada</td>\n      <td>65</td>\n      <td>96</td>\n      <td>160</td>\n    </tr>\n    <tr>\n      <th>2</th>\n      <td>3</td>\n      <td>Bob</td>\n      <td>bob@example.com</td>\n      <td>555-9101</td>\n      <td>UK</td>\n      <td>71</td>\n      <td>87</td>\n      <td>173</td>\n    </tr>\n    <tr>\n      <th>3</th>\n      <td>4</td>\n      <td>Mary</td>\n      <td>mary@example.com</td>\n      <td>555-1121</td>\n      <td>Australia</td>\n      <td>18</td>\n      <td>75</td>\n      <td>185</td>\n    </tr>\n    <tr>\n      <th>4</th>\n      <td>5</td>\n      <td>David</td>\n      <td>david@example.com</td>\n      <td>555-3141</td>\n      <td>Germany</td>\n      <td>21</td>\n      <td>59</td>\n      <td>161</td>\n    </tr>\n    <tr>\n      <th>5</th>\n      <td>6</td>\n      <td>Emily</td>\n      <td>emily@example.com</td>\n      <td>555-6171</td>\n      <td>USA</td>\n      <td>77</td>\n      <td>70</td>\n      <td>178</td>\n    </tr>\n    <tr>\n      <th>6</th>\n      <td>7</td>\n      <td>James</td>\n      <td>james@example.com</td>\n      <td>555-8191</td>\n      <td>Canada</td>\n      <td>21</td>\n      <td>119</td>\n      <td>184</td>\n    </tr>\n    <tr>\n      <th>7</th>\n      <td>8</td>\n      <td>Sarah</td>\n      <td>sarah@example.com</td>\n      <td>555-2322</td>\n      <td>UK</td>\n      <td>57</td>\n      <td>97</td>\n      <td>150</td>\n    </tr>\n    <tr>\n      <th>8</th>\n      <td>9</td>\n      <td>Michael</td>\n      <td>michael@example.com</td>\n      <td>555-4342</td>\n      <td>Australia</td>\n      <td>27</td>\n      <td>114</td>\n      <td>150</td>\n    </tr>\n    <tr>\n      <th>9</th>\n      <td>10</td>\n      <td>Emma</td>\n      <td>emma@example.com</td>\n      <td>555-5563</td>\n      <td>Germany</td>\n      <td>37</td>\n      <td>99</td>\n      <td>186</td>\n    </tr>\n    <tr>\n      <th>10</th>\n      <td>11</td>\n      <td>William</td>\n      <td>william@example.com</td>\n      <td>555-7783</td>\n      <td>USA</td>\n      <td>39</td>\n      <td>79</td>\n      <td>155</td>\n    </tr>\n    <tr>\n      <th>11</th>\n      <td>12</td>\n      <td>Olivia</td>\n      <td>olivia@example.com</td>\n      <td>555-9904</td>\n      <td>Canada</td>\n      <td>68</td>\n      <td>69</td>\n      <td>188</td>\n    </tr>\n    <tr>\n      <th>12</th>\n      <td>13</td>\n      <td>Ethan</td>\n      <td>ethan@example.com</td>\n      <td>555-1125</td>\n      <td>UK</td>\n      <td>54</td>\n      <td>69</td>\n      <td>190</td>\n    </tr>\n    <tr>\n      <th>13</th>\n      <td>14</td>\n      <td>Ava</td>\n      <td>ava@example.com</td>\n      <td>555-3345</td>\n      <td>Australia</td>\n      <td>41</td>\n      <td>64</td>\n      <td>167</td>\n    </tr>\n    <tr>\n      <th>14</th>\n      <td>15</td>\n      <td>Benjamin</td>\n      <td>benjamin@example.com</td>\n      <td>555-5566</td>\n      <td>Germany</td>\n      <td>24</td>\n      <td>89</td>\n      <td>165</td>\n    </tr>\n    <tr>\n      <th>15</th>\n      <td>16</td>\n      <td>Mia</td>\n      <td>mia@example.com</td>\n      <td>555-7787</td>\n      <td>USA</td>\n      <td>42</td>\n      <td>82</td>\n      <td>154</td>\n    </tr>\n    <tr>\n      <th>16</th>\n      <td>17</td>\n      <td>Elijah</td>\n      <td>elijah@example.com</td>\n      <td>555-9908</td>\n      <td>Canada</td>\n      <td>42</td>\n      <td>115</td>\n      <td>191</td>\n    </tr>\n    <tr>\n      <th>17</th>\n      <td>18</td>\n      <td>Charlotte</td>\n      <td>charlotte@example.com</td>\n      <td>555-1129</td>\n      <td>UK</td>\n      <td>30</td>\n      <td>59</td>\n      <td>192</td>\n    </tr>\n    <tr>\n      <th>18</th>\n      <td>19</td>\n      <td>Lucas</td>\n      <td>lucas@example.com</td>\n      <td>555-3359</td>\n      <td>Australia</td>\n      <td>76</td>\n      <td>107</td>\n      <td>181</td>\n    </tr>\n    <tr>\n      <th>19</th>\n      <td>20</td>\n      <td>Harper</td>\n      <td>harper@example.com</td>\n      <td>555-5579</td>\n      <td>Germany</td>\n      <td>19</td>\n      <td>82</td>\n      <td>151</td>\n    </tr>\n  </tbody>\n</table>\n</div>"
     },
     "execution_count": 41,
     "metadata": {},
     "output_type": "execute_result"
    }
   ],
   "source": [
    "\n",
    "\n",
    "# Случайные данные\n",
    "np.random.seed(0)\n",
    "age = np.random.randint(18, 80, 20)\n",
    "weight = np.random.randint(50, 120, 20)\n",
    "height = np.random.randint(150, 200, 20)\n",
    "\n",
    "data = {\n",
    "    'ID': range(1, 21),\n",
    "    'Name': ['John', 'Alice', 'Bob', 'Mary', 'David', 'Emily', 'James', 'Sarah', 'Michael', 'Emma',\n",
    "             'William', 'Olivia', 'Ethan', 'Ava', 'Benjamin', 'Mia', 'Elijah', 'Charlotte', 'Lucas', 'Harper'],\n",
    "    'Email': ['john@example.com', 'alice@example.com', 'bob@example.com', 'mary@example.com', 'david@example.com',\n",
    "              'emily@example.com', 'james@example.com', 'sarah@example.com', 'michael@example.com', 'emma@example.com',\n",
    "              'william@example.com', 'olivia@example.com', 'ethan@example.com', 'ava@example.com', 'benjamin@example.com',\n",
    "              'mia@example.com', 'elijah@example.com', 'charlotte@example.com', 'lucas@example.com', 'harper@example.com'],\n",
    "    'Phone': ['555-1234', '555-5678', '555-9101', '555-1121', '555-3141', '555-6171', '555-8191', '555-2322', '555-4342',\n",
    "              '555-5563', '555-7783', '555-9904', '555-1125', '555-3345', '555-5566', '555-7787', '555-9908', '555-1129',\n",
    "              '555-3359', '555-5579'],\n",
    "    'Country': ['USA', 'Canada', 'UK', 'Australia', 'Germany', 'USA', 'Canada', 'UK', 'Australia', 'Germany', 'USA', 'Canada',\n",
    "                'UK', 'Australia', 'Germany', 'USA', 'Canada', 'UK', 'Australia', 'Germany'],\n",
    "    'Age': age,\n",
    "    'Weight': weight,\n",
    "    'Height': height\n",
    "}\n",
    "\n",
    "df = pd.DataFrame(data)\n",
    "df"
   ],
   "metadata": {
    "collapsed": false,
    "ExecuteTime": {
     "end_time": "2024-03-19T12:55:22.888741Z",
     "start_time": "2024-03-19T12:55:22.860568Z"
    }
   },
   "id": "56325ed8438a75e6",
   "execution_count": 41
  },
  {
   "cell_type": "code",
   "outputs": [
    {
     "name": "stdout",
     "output_type": "stream",
     "text": [
      "root\n",
      " |-- ID: long (nullable = true)\n",
      " |-- Name: string (nullable = true)\n",
      " |-- Email: string (nullable = true)\n",
      " |-- Phone: string (nullable = true)\n",
      " |-- Country: string (nullable = true)\n",
      " |-- Age: long (nullable = true)\n",
      " |-- Weight: long (nullable = true)\n",
      " |-- Height: long (nullable = true)\n",
      "+---+---------+--------------------+--------+---------+---+------+------+\n",
      "| ID|     Name|               Email|   Phone|  Country|Age|Weight|Height|\n",
      "+---+---------+--------------------+--------+---------+---+------+------+\n",
      "|  1|     John|    john@example.com|555-1234|      USA| 62|    89|   181|\n",
      "|  2|    Alice|   alice@example.com|555-5678|   Canada| 65|    96|   160|\n",
      "|  3|      Bob|     bob@example.com|555-9101|       UK| 71|    87|   173|\n",
      "|  4|     Mary|    mary@example.com|555-1121|Australia| 18|    75|   185|\n",
      "|  5|    David|   david@example.com|555-3141|  Germany| 21|    59|   161|\n",
      "|  6|    Emily|   emily@example.com|555-6171|      USA| 77|    70|   178|\n",
      "|  7|    James|   james@example.com|555-8191|   Canada| 21|   119|   184|\n",
      "|  8|    Sarah|   sarah@example.com|555-2322|       UK| 57|    97|   150|\n",
      "|  9|  Michael| michael@example.com|555-4342|Australia| 27|   114|   150|\n",
      "| 10|     Emma|    emma@example.com|555-5563|  Germany| 37|    99|   186|\n",
      "| 11|  William| william@example.com|555-7783|      USA| 39|    79|   155|\n",
      "| 12|   Olivia|  olivia@example.com|555-9904|   Canada| 68|    69|   188|\n",
      "| 13|    Ethan|   ethan@example.com|555-1125|       UK| 54|    69|   190|\n",
      "| 14|      Ava|     ava@example.com|555-3345|Australia| 41|    64|   167|\n",
      "| 15| Benjamin|benjamin@example.com|555-5566|  Germany| 24|    89|   165|\n",
      "| 16|      Mia|     mia@example.com|555-7787|      USA| 42|    82|   154|\n",
      "| 17|   Elijah|  elijah@example.com|555-9908|   Canada| 42|   115|   191|\n",
      "| 18|Charlotte|charlotte@example...|555-1129|       UK| 30|    59|   192|\n",
      "| 19|    Lucas|   lucas@example.com|555-3359|Australia| 76|   107|   181|\n",
      "| 20|   Harper|  harper@example.com|555-5579|  Germany| 19|    82|   151|\n",
      "+---+---------+--------------------+--------+---------+---+------+------+\n"
     ]
    }
   ],
   "source": [
    "df = spark.createDataFrame(df)\n",
    "df.createOrReplaceTempView(\"DATA\")\n",
    "df.printSchema()\n",
    "df.show()"
   ],
   "metadata": {
    "collapsed": false,
    "ExecuteTime": {
     "end_time": "2024-03-19T12:55:32.823414Z",
     "start_time": "2024-03-19T12:55:22.890702Z"
    }
   },
   "id": "5acb5d18224dd8c2",
   "execution_count": 42
  },
  {
   "cell_type": "code",
   "outputs": [
    {
     "name": "stdout",
     "output_type": "stream",
     "text": [
      "+-----+\n",
      "| NAME|\n",
      "+-----+\n",
      "| John|\n",
      "|Alice|\n",
      "|  Bob|\n",
      "| Mary|\n",
      "|David|\n",
      "+-----+\n"
     ]
    }
   ],
   "source": [
    "# 1 SQL Select query\n",
    "spark.sql('''\n",
    "    \n",
    "    SELECT \n",
    "        NAME\n",
    "    FROM DATA\n",
    "    \n",
    "''') \\\n",
    "    .show(5)"
   ],
   "metadata": {
    "collapsed": false,
    "ExecuteTime": {
     "end_time": "2024-03-19T12:55:37.272548Z",
     "start_time": "2024-03-19T12:55:32.824966Z"
    }
   },
   "id": "3e672c01afeb25ea",
   "execution_count": 43
  },
  {
   "cell_type": "code",
   "outputs": [
    {
     "name": "stdout",
     "output_type": "stream",
     "text": [
      "+---+---------+--------------------+--------+---------+---+------+------+\n",
      "| ID|     Name|               Email|   Phone|  Country|Age|Weight|Height|\n",
      "+---+---------+--------------------+--------+---------+---+------+------+\n",
      "|  8|    Sarah|   sarah@example.com|555-2322|       UK| 57|    97|   150|\n",
      "|  9|  Michael| michael@example.com|555-4342|Australia| 27|   114|   150|\n",
      "| 20|   Harper|  harper@example.com|555-5579|  Germany| 19|    82|   151|\n",
      "| 16|      Mia|     mia@example.com|555-7787|      USA| 42|    82|   154|\n",
      "| 11|  William| william@example.com|555-7783|      USA| 39|    79|   155|\n",
      "|  2|    Alice|   alice@example.com|555-5678|   Canada| 65|    96|   160|\n",
      "|  5|    David|   david@example.com|555-3141|  Germany| 21|    59|   161|\n",
      "| 15| Benjamin|benjamin@example.com|555-5566|  Germany| 24|    89|   165|\n",
      "| 14|      Ava|     ava@example.com|555-3345|Australia| 41|    64|   167|\n",
      "|  3|      Bob|     bob@example.com|555-9101|       UK| 71|    87|   173|\n",
      "|  6|    Emily|   emily@example.com|555-6171|      USA| 77|    70|   178|\n",
      "|  1|     John|    john@example.com|555-1234|      USA| 62|    89|   181|\n",
      "| 19|    Lucas|   lucas@example.com|555-3359|Australia| 76|   107|   181|\n",
      "|  7|    James|   james@example.com|555-8191|   Canada| 21|   119|   184|\n",
      "|  4|     Mary|    mary@example.com|555-1121|Australia| 18|    75|   185|\n",
      "| 10|     Emma|    emma@example.com|555-5563|  Germany| 37|    99|   186|\n",
      "| 12|   Olivia|  olivia@example.com|555-9904|   Canada| 68|    69|   188|\n",
      "| 13|    Ethan|   ethan@example.com|555-1125|       UK| 54|    69|   190|\n",
      "| 17|   Elijah|  elijah@example.com|555-9908|   Canada| 42|   115|   191|\n",
      "| 18|Charlotte|charlotte@example...|555-1129|       UK| 30|    59|   192|\n",
      "+---+---------+--------------------+--------+---------+---+------+------+\n"
     ]
    }
   ],
   "source": [
    "# 2 Just order by height\n",
    "spark.sql('''\n",
    "    \n",
    "    SELECT \n",
    "        *\n",
    "    FROM \n",
    "        DATA\n",
    "    ORDER BY \n",
    "        Height\n",
    "''') \\\n",
    "    .show(20)"
   ],
   "metadata": {
    "collapsed": false,
    "ExecuteTime": {
     "end_time": "2024-03-19T12:55:48.941212Z",
     "start_time": "2024-03-19T12:55:37.277680Z"
    }
   },
   "id": "d552a9e213f0e036",
   "execution_count": 44
  },
  {
   "cell_type": "code",
   "outputs": [
    {
     "name": "stdout",
     "output_type": "stream",
     "text": [
      "+---+---------+--------------------+--------+---------+---+------+------+\n",
      "| ID|     Name|               Email|   Phone|  Country|Age|Weight|Height|\n",
      "+---+---------+--------------------+--------+---------+---+------+------+\n",
      "|  9|  Michael| michael@example.com|555-4342|Australia| 27|   114|   150|\n",
      "|  8|    Sarah|   sarah@example.com|555-2322|       UK| 57|    97|   150|\n",
      "| 20|   Harper|  harper@example.com|555-5579|  Germany| 19|    82|   151|\n",
      "| 16|      Mia|     mia@example.com|555-7787|      USA| 42|    82|   154|\n",
      "| 11|  William| william@example.com|555-7783|      USA| 39|    79|   155|\n",
      "|  2|    Alice|   alice@example.com|555-5678|   Canada| 65|    96|   160|\n",
      "|  5|    David|   david@example.com|555-3141|  Germany| 21|    59|   161|\n",
      "| 15| Benjamin|benjamin@example.com|555-5566|  Germany| 24|    89|   165|\n",
      "| 14|      Ava|     ava@example.com|555-3345|Australia| 41|    64|   167|\n",
      "|  3|      Bob|     bob@example.com|555-9101|       UK| 71|    87|   173|\n",
      "|  6|    Emily|   emily@example.com|555-6171|      USA| 77|    70|   178|\n",
      "|  1|     John|    john@example.com|555-1234|      USA| 62|    89|   181|\n",
      "| 19|    Lucas|   lucas@example.com|555-3359|Australia| 76|   107|   181|\n",
      "|  7|    James|   james@example.com|555-8191|   Canada| 21|   119|   184|\n",
      "|  4|     Mary|    mary@example.com|555-1121|Australia| 18|    75|   185|\n",
      "| 10|     Emma|    emma@example.com|555-5563|  Germany| 37|    99|   186|\n",
      "| 12|   Olivia|  olivia@example.com|555-9904|   Canada| 68|    69|   188|\n",
      "| 13|    Ethan|   ethan@example.com|555-1125|       UK| 54|    69|   190|\n",
      "| 17|   Elijah|  elijah@example.com|555-9908|   Canada| 42|   115|   191|\n",
      "| 18|Charlotte|charlotte@example...|555-1129|       UK| 30|    59|   192|\n",
      "+---+---------+--------------------+--------+---------+---+------+------+\n"
     ]
    }
   ],
   "source": [
    "# 3 Order by height and age\n",
    "spark.sql('''\n",
    "    \n",
    "    SELECT \n",
    "        *\n",
    "    FROM \n",
    "        DATA\n",
    "    ORDER BY \n",
    "        Height, Age\n",
    "''') \\\n",
    "    .show(20)"
   ],
   "metadata": {
    "collapsed": false,
    "ExecuteTime": {
     "end_time": "2024-03-19T12:55:58.325074Z",
     "start_time": "2024-03-19T12:55:48.942212Z"
    }
   },
   "id": "2f61c1833eb525a3",
   "execution_count": 45
  },
  {
   "cell_type": "code",
   "outputs": [
    {
     "name": "stdout",
     "output_type": "stream",
     "text": [
      "+---------+----------+----------+\n",
      "|age_group|avg_height|avg_weight|\n",
      "+---------+----------+----------+\n",
      "|     20.0|    170.25|     83.75|\n",
      "|     25.0|     157.5|     101.5|\n",
      "|     30.0|     192.0|      59.0|\n",
      "|     35.0|     186.0|      99.0|\n",
      "|     40.0|    166.75|      85.0|\n",
      "|     55.0|     170.0|      83.0|\n",
      "|     60.0|     181.0|      89.0|\n",
      "|     65.0|     160.0|      96.0|\n",
      "|     70.0|     180.5|      78.0|\n",
      "|     75.0|     179.5|      88.5|\n",
      "+---------+----------+----------+\n"
     ]
    }
   ],
   "source": [
    "# 4 Average weight and height by age group\n",
    "spark.sql('''\n",
    "    \n",
    "    SELECT \n",
    "        ROUND(AGE / 5) * 5 AS age_group\n",
    "        ,AVG(height) AS avg_height\n",
    "        ,AVG(weight) AS avg_weight\n",
    "    FROM \n",
    "        DATA\n",
    "    GROUP BY \n",
    "        age_group\n",
    "    ORDER BY \n",
    "        age_group\n",
    "''') \\\n",
    "    .show(20)"
   ],
   "metadata": {
    "collapsed": false,
    "ExecuteTime": {
     "end_time": "2024-03-19T12:56:08.585438Z",
     "start_time": "2024-03-19T12:55:58.327070Z"
    }
   },
   "id": "c335f8461e50a9b6",
   "execution_count": 46
  },
  {
   "cell_type": "code",
   "outputs": [
    {
     "name": "stdout",
     "output_type": "stream",
     "text": [
      "+---+----------+----------+\n",
      "|Age|avg_weight|avg_height|\n",
      "+---+----------+----------+\n",
      "| 18|      75.0|     185.0|\n",
      "| 19|      82.0|     151.0|\n",
      "| 21|      89.0|     172.5|\n",
      "| 21|      89.0|     172.5|\n",
      "| 24|      89.0|     165.0|\n",
      "| 27|     114.0|     150.0|\n",
      "| 30|      59.0|     192.0|\n",
      "| 37|      99.0|     186.0|\n",
      "| 39|      79.0|     155.0|\n",
      "| 41|      64.0|     167.0|\n",
      "| 42|      98.5|     172.5|\n",
      "| 42|      98.5|     172.5|\n",
      "| 54|      69.0|     190.0|\n",
      "| 57|      97.0|     150.0|\n",
      "| 62|      89.0|     181.0|\n",
      "| 65|      96.0|     160.0|\n",
      "| 68|      69.0|     188.0|\n",
      "| 71|      87.0|     173.0|\n",
      "| 76|     107.0|     181.0|\n",
      "| 77|      70.0|     178.0|\n",
      "+---+----------+----------+\n"
     ]
    }
   ],
   "source": [
    "# 5   average weight and height for age groups  \n",
    "spark.sql('''\n",
    "\n",
    "\n",
    "SELECT\n",
    "    Age,\n",
    "    AVG(weight) OVER (PARTITION BY Age) AS avg_weight,\n",
    "    AVG(height) OVER (PARTITION BY Age) AS avg_height\n",
    "FROM\n",
    "    DATA\n",
    "\n",
    "''') \\\n",
    "    .show(20)"
   ],
   "metadata": {
    "collapsed": false,
    "ExecuteTime": {
     "end_time": "2024-03-19T12:56:21.724489Z",
     "start_time": "2024-03-19T12:56:08.589440Z"
    }
   },
   "id": "cb8f1b2e3270000f",
   "execution_count": 47
  },
  {
   "cell_type": "code",
   "outputs": [
    {
     "name": "stdout",
     "output_type": "stream",
     "text": [
      "+---------+\n",
      "|     Name|\n",
      "+---------+\n",
      "|     John|\n",
      "|      Bob|\n",
      "|    Alice|\n",
      "|     Mary|\n",
      "|    David|\n",
      "|    Emily|\n",
      "|    James|\n",
      "|    Sarah|\n",
      "|  Michael|\n",
      "|     Emma|\n",
      "|  William|\n",
      "|    Ethan|\n",
      "|   Olivia|\n",
      "| Benjamin|\n",
      "|      Ava|\n",
      "|      Mia|\n",
      "|   Elijah|\n",
      "|Charlotte|\n",
      "|    Lucas|\n",
      "|   Harper|\n",
      "+---------+\n"
     ]
    }
   ],
   "source": [
    "# 6   unique names  \n",
    "spark.sql('''\n",
    "\n",
    "\n",
    "    SELECT\n",
    "       DISTINCT Name \n",
    "    FROM\n",
    "        DATA\n",
    "\n",
    "''') \\\n",
    "    .show(20)"
   ],
   "metadata": {
    "collapsed": false,
    "ExecuteTime": {
     "end_time": "2024-03-19T12:56:32.403182Z",
     "start_time": "2024-03-19T12:56:21.726639Z"
    }
   },
   "id": "e96948cac2239c85",
   "execution_count": 48
  },
  {
   "cell_type": "code",
   "outputs": [
    {
     "name": "stdout",
     "output_type": "stream",
     "text": [
      "+---+-------+-------------------+--------+---------+---+------+------+\n",
      "| ID|   Name|              Email|   Phone|  Country|Age|Weight|Height|\n",
      "+---+-------+-------------------+--------+---------+---+------+------+\n",
      "|  1|   John|   john@example.com|555-1234|      USA| 62|    89|   181|\n",
      "|  2|  Alice|  alice@example.com|555-5678|   Canada| 65|    96|   160|\n",
      "|  3|    Bob|    bob@example.com|555-9101|       UK| 71|    87|   173|\n",
      "|  6|  Emily|  emily@example.com|555-6171|      USA| 77|    70|   178|\n",
      "|  8|  Sarah|  sarah@example.com|555-2322|       UK| 57|    97|   150|\n",
      "| 10|   Emma|   emma@example.com|555-5563|  Germany| 37|    99|   186|\n",
      "| 11|William|william@example.com|555-7783|      USA| 39|    79|   155|\n",
      "| 12| Olivia| olivia@example.com|555-9904|   Canada| 68|    69|   188|\n",
      "| 13|  Ethan|  ethan@example.com|555-1125|       UK| 54|    69|   190|\n",
      "| 14|    Ava|    ava@example.com|555-3345|Australia| 41|    64|   167|\n",
      "| 16|    Mia|    mia@example.com|555-7787|      USA| 42|    82|   154|\n",
      "| 17| Elijah| elijah@example.com|555-9908|   Canada| 42|   115|   191|\n",
      "| 19|  Lucas|  lucas@example.com|555-3359|Australia| 76|   107|   181|\n",
      "+---+-------+-------------------+--------+---------+---+------+------+\n"
     ]
    }
   ],
   "source": [
    "# 7   lines with age>30 \n",
    "spark.sql('''\n",
    "\n",
    "\n",
    "    SELECT *\n",
    "    \n",
    "    FROM\n",
    "        DATA\n",
    "    WHERE Age > 30\n",
    "\n",
    "''') \\\n",
    "    .show(20)"
   ],
   "metadata": {
    "collapsed": false,
    "ExecuteTime": {
     "end_time": "2024-03-19T12:56:42.797430Z",
     "start_time": "2024-03-19T12:56:32.405153Z"
    }
   },
   "id": "744ce1f1d56b00fc",
   "execution_count": 49
  },
  {
   "cell_type": "code",
   "outputs": [
    {
     "name": "stdout",
     "output_type": "stream",
     "text": [
      "+--------+\n",
      "|count(1)|\n",
      "+--------+\n",
      "|      20|\n",
      "+--------+\n"
     ]
    }
   ],
   "source": [
    "# 8   total quantity if lines \n",
    "spark.sql('''\n",
    "\n",
    "\n",
    "    SELECT COUNT(*)\n",
    "    \n",
    "    FROM\n",
    "        DATA\n",
    "\n",
    "''') \\\n",
    "    .show(20)"
   ],
   "metadata": {
    "collapsed": false,
    "ExecuteTime": {
     "end_time": "2024-03-19T12:56:53.979135Z",
     "start_time": "2024-03-19T12:56:42.799422Z"
    }
   },
   "id": "e90b99eaddc11ab5",
   "execution_count": 50
  },
  {
   "cell_type": "code",
   "outputs": [
    {
     "name": "stdout",
     "output_type": "stream",
     "text": [
      "+---------+--------+\n",
      "|  Country|count(1)|\n",
      "+---------+--------+\n",
      "|      USA|       4|\n",
      "|       UK|       4|\n",
      "|   Canada|       4|\n",
      "|  Germany|       4|\n",
      "|Australia|       4|\n",
      "+---------+--------+\n"
     ]
    }
   ],
   "source": [
    "# 9  lines by country \n",
    "spark.sql('''\n",
    "    SELECT Country, \n",
    "        COUNT(*) \n",
    "    FROM DATA \n",
    "    GROUP BY Country;\n",
    "\n",
    "\n",
    "''') \\\n",
    "    .show(20)"
   ],
   "metadata": {
    "collapsed": false,
    "ExecuteTime": {
     "end_time": "2024-03-19T12:57:05.664291Z",
     "start_time": "2024-03-19T12:56:53.981109Z"
    }
   },
   "id": "3844c906989227e2",
   "execution_count": 51
  },
  {
   "cell_type": "code",
   "outputs": [
    {
     "name": "stdout",
     "output_type": "stream",
     "text": [
      "+---+--------+--------------------+--------+---------+---+------+------+\n",
      "| ID|    Name|               Email|   Phone|  Country|Age|Weight|Height|\n",
      "+---+--------+--------------------+--------+---------+---+------+------+\n",
      "|  1|    John|    john@example.com|555-1234|      USA| 62|    89|   181|\n",
      "|  2|   Alice|   alice@example.com|555-5678|   Canada| 65|    96|   160|\n",
      "|  3|     Bob|     bob@example.com|555-9101|       UK| 71|    87|   173|\n",
      "|  7|   James|   james@example.com|555-8191|   Canada| 21|   119|   184|\n",
      "|  8|   Sarah|   sarah@example.com|555-2322|       UK| 57|    97|   150|\n",
      "|  9| Michael| michael@example.com|555-4342|Australia| 27|   114|   150|\n",
      "| 10|    Emma|    emma@example.com|555-5563|  Germany| 37|    99|   186|\n",
      "| 15|Benjamin|benjamin@example.com|555-5566|  Germany| 24|    89|   165|\n",
      "| 17|  Elijah|  elijah@example.com|555-9908|   Canada| 42|   115|   191|\n",
      "| 19|   Lucas|   lucas@example.com|555-3359|Australia| 76|   107|   181|\n",
      "+---+--------+--------------------+--------+---------+---+------+------+\n"
     ]
    }
   ],
   "source": [
    "# 10  lines with weight more than average\n",
    "spark.sql('''\n",
    "   SELECT * \n",
    "   FROM DATA\n",
    "   WHERE Weight > (SELECT AVG(Weight) FROM DATA)\n",
    "''') \\\n",
    "    .show(20)"
   ],
   "metadata": {
    "collapsed": false,
    "ExecuteTime": {
     "end_time": "2024-03-19T12:57:27.251984Z",
     "start_time": "2024-03-19T12:57:05.666292Z"
    }
   },
   "id": "af7061346cdf591e",
   "execution_count": 52
  },
  {
   "cell_type": "code",
   "outputs": [
    {
     "name": "stdout",
     "output_type": "stream",
     "text": [
      "+---+----+----------------+--------+-------+---+------+------+\n",
      "| ID|Name|           Email|   Phone|Country|Age|Weight|Height|\n",
      "+---+----+----------------+--------+-------+---+------+------+\n",
      "|  1|John|john@example.com|555-1234|    USA| 62|    89|   181|\n",
      "+---+----+----------------+--------+-------+---+------+------+\n"
     ]
    }
   ],
   "source": [
    "# 11  lines with particular name and country\n",
    "spark.sql('''\n",
    "   SELECT * \n",
    "   FROM DATA\n",
    "   WHERE Name='John' AND Country='USA'\n",
    "''') \\\n",
    "    .show(20)"
   ],
   "metadata": {
    "collapsed": false,
    "ExecuteTime": {
     "end_time": "2024-03-19T12:57:36.781143Z",
     "start_time": "2024-03-19T12:57:27.253980Z"
    }
   },
   "id": "93dbcc0c7ee5cc09",
   "execution_count": 53
  },
  {
   "cell_type": "code",
   "outputs": [
    {
     "name": "stdout",
     "output_type": "stream",
     "text": [
      "+---------+\n",
      "|     NAME|\n",
      "+---------+\n",
      "|    Alice|\n",
      "|      Bob|\n",
      "|     Mary|\n",
      "|    David|\n",
      "|    Emily|\n",
      "|    James|\n",
      "|    Sarah|\n",
      "|  Michael|\n",
      "|     Emma|\n",
      "|  William|\n",
      "|   Olivia|\n",
      "|    Ethan|\n",
      "|      Ava|\n",
      "| Benjamin|\n",
      "|      Mia|\n",
      "|   Elijah|\n",
      "|Charlotte|\n",
      "|    Lucas|\n",
      "|   Harper|\n",
      "+---------+\n"
     ]
    }
   ],
   "source": [
    "# 12   REGEX  \n",
    "spark.sql('''\n",
    "\n",
    "    SELECT\n",
    "        NAME\n",
    "        \n",
    "    FROM\n",
    "        DATA\n",
    "    WHERE NOT NAME LIKE '%Jo%'\n",
    "\n",
    "''') \\\n",
    "    .show(20)"
   ],
   "metadata": {
    "collapsed": false,
    "ExecuteTime": {
     "end_time": "2024-03-19T12:57:46.501184Z",
     "start_time": "2024-03-19T12:57:36.783143Z"
    }
   },
   "id": "cb417e29cfd04bf3",
   "execution_count": 54
  },
  {
   "cell_type": "code",
   "outputs": [
    {
     "ename": "AttributeError",
     "evalue": "'DataFrame' object has no attribute 'copy'",
     "output_type": "error",
     "traceback": [
      "\u001B[1;31m---------------------------------------------------------------------------\u001B[0m",
      "\u001B[1;31mAttributeError\u001B[0m                            Traceback (most recent call last)",
      "Cell \u001B[1;32mIn[56], line 1\u001B[0m\n\u001B[1;32m----> 1\u001B[0m data_base1 \u001B[38;5;241m=\u001B[39m \u001B[43mdf\u001B[49m\u001B[38;5;241;43m.\u001B[39;49m\u001B[43mcopy\u001B[49m()\n\u001B[0;32m      2\u001B[0m data_base1\n",
      "File \u001B[1;32mC:\\ProgramData\\anaconda3\\envs\\kanagawa\\lib\\site-packages\\pyspark\\sql\\dataframe.py:3123\u001B[0m, in \u001B[0;36mDataFrame.__getattr__\u001B[1;34m(self, name)\u001B[0m\n\u001B[0;32m   3090\u001B[0m \u001B[38;5;250m\u001B[39m\u001B[38;5;124;03m\"\"\"Returns the :class:`Column` denoted by ``name``.\u001B[39;00m\n\u001B[0;32m   3091\u001B[0m \n\u001B[0;32m   3092\u001B[0m \u001B[38;5;124;03m.. versionadded:: 1.3.0\u001B[39;00m\n\u001B[1;32m   (...)\u001B[0m\n\u001B[0;32m   3120\u001B[0m \u001B[38;5;124;03m+---+\u001B[39;00m\n\u001B[0;32m   3121\u001B[0m \u001B[38;5;124;03m\"\"\"\u001B[39;00m\n\u001B[0;32m   3122\u001B[0m \u001B[38;5;28;01mif\u001B[39;00m name \u001B[38;5;129;01mnot\u001B[39;00m \u001B[38;5;129;01min\u001B[39;00m \u001B[38;5;28mself\u001B[39m\u001B[38;5;241m.\u001B[39mcolumns:\n\u001B[1;32m-> 3123\u001B[0m     \u001B[38;5;28;01mraise\u001B[39;00m \u001B[38;5;167;01mAttributeError\u001B[39;00m(\n\u001B[0;32m   3124\u001B[0m         \u001B[38;5;124m\"\u001B[39m\u001B[38;5;124m'\u001B[39m\u001B[38;5;132;01m%s\u001B[39;00m\u001B[38;5;124m'\u001B[39m\u001B[38;5;124m object has no attribute \u001B[39m\u001B[38;5;124m'\u001B[39m\u001B[38;5;132;01m%s\u001B[39;00m\u001B[38;5;124m'\u001B[39m\u001B[38;5;124m\"\u001B[39m \u001B[38;5;241m%\u001B[39m (\u001B[38;5;28mself\u001B[39m\u001B[38;5;241m.\u001B[39m\u001B[38;5;18m__class__\u001B[39m\u001B[38;5;241m.\u001B[39m\u001B[38;5;18m__name__\u001B[39m, name)\n\u001B[0;32m   3125\u001B[0m     )\n\u001B[0;32m   3126\u001B[0m jc \u001B[38;5;241m=\u001B[39m \u001B[38;5;28mself\u001B[39m\u001B[38;5;241m.\u001B[39m_jdf\u001B[38;5;241m.\u001B[39mapply(name)\n\u001B[0;32m   3127\u001B[0m \u001B[38;5;28;01mreturn\u001B[39;00m Column(jc)\n",
      "\u001B[1;31mAttributeError\u001B[0m: 'DataFrame' object has no attribute 'copy'"
     ]
    }
   ],
   "source": [
    "data_base1 = df.copy()\n",
    "data_base1"
   ],
   "metadata": {
    "collapsed": false,
    "ExecuteTime": {
     "end_time": "2024-03-19T12:58:27.148457Z",
     "start_time": "2024-03-19T12:58:27.113335Z"
    }
   },
   "id": "c1d891b33ab441b5",
   "execution_count": 56
  },
  {
   "cell_type": "code",
   "outputs": [
    {
     "name": "stdout",
     "output_type": "stream",
     "text": [
      "+---------+---------+----------+\n",
      "|     NAME|  COUNTRY|COUNTRY_DA|\n",
      "+---------+---------+----------+\n",
      "|     John|      USA|     false|\n",
      "|    Alice|   Canada|      true|\n",
      "|      Bob|       UK|     false|\n",
      "|     Mary|Australia|     false|\n",
      "|    David|  Germany|     false|\n",
      "|    Emily|      USA|     false|\n",
      "|    James|   Canada|      true|\n",
      "|    Sarah|       UK|     false|\n",
      "|  Michael|Australia|     false|\n",
      "|     Emma|  Germany|     false|\n",
      "|  William|      USA|     false|\n",
      "|   Olivia|   Canada|      true|\n",
      "|    Ethan|       UK|     false|\n",
      "|      Ava|Australia|     false|\n",
      "| Benjamin|  Germany|     false|\n",
      "|      Mia|      USA|     false|\n",
      "|   Elijah|   Canada|      true|\n",
      "|Charlotte|       UK|     false|\n",
      "|    Lucas|Australia|     false|\n",
      "|   Harper|  Germany|     false|\n",
      "+---------+---------+----------+\n"
     ]
    }
   ],
   "source": [
    "# 13   REGEX  \n",
    "spark.sql('''\n",
    "    SELECT\n",
    "        NAME \n",
    "        ,COUNTRY \n",
    "        ,REGEXP_LIKE(COUNTRY, 'da$') AS COUNTRY_DA       \n",
    "    FROM\n",
    "        DATA\n",
    "''') \\\n",
    "    .show(20)"
   ],
   "metadata": {
    "collapsed": false,
    "ExecuteTime": {
     "end_time": "2024-03-19T12:58:43.830677Z",
     "start_time": "2024-03-19T12:58:33.871248Z"
    }
   },
   "id": "b789c3237232350d",
   "execution_count": 57
  },
  {
   "cell_type": "code",
   "outputs": [
    {
     "name": "stdout",
     "output_type": "stream",
     "text": [
      "+------+-------+\n",
      "|  name|country|\n",
      "+------+-------+\n",
      "| Alice| Canada|\n",
      "| James| Canada|\n",
      "|Olivia| Canada|\n",
      "|Elijah| Canada|\n",
      "+------+-------+\n"
     ]
    }
   ],
   "source": [
    "# 14   REGEX  \n",
    "spark.sql('''\n",
    "    SELECT\n",
    "        name \n",
    "        ,country \n",
    "    FROM\n",
    "        DATA\n",
    "    WHERE country REGEXP 'da$'\n",
    "''') \\\n",
    "    .show(20)"
   ],
   "metadata": {
    "collapsed": false,
    "ExecuteTime": {
     "end_time": "2024-03-19T12:58:56.602531Z",
     "start_time": "2024-03-19T12:58:46.344750Z"
    }
   },
   "id": "9be131dcbf354039",
   "execution_count": 58
  },
  {
   "cell_type": "code",
   "outputs": [],
   "source": [
    "text = \"\"\"Skip to ContentSkip to SearchHome\n",
    "Help Center\n",
    "\n",
    "Database Development Guide\n",
    "\n",
    "Search\n",
    "\n",
    "Database\n",
    "Oracle\n",
    "Oracle Database\n",
    "Release 21\n",
    "Database Development Guide\n",
    "\n",
    "\n",
    "\n",
    "Expand\n",
    "11 Using Regular Expressions in Database Applications\n",
    "This chapter describes regular expressions and explains how to use them in database applications.\n",
    "\n",
    "Topics:\n",
    "\n",
    "Overview of Regular Expressions\n",
    "\n",
    "Oracle SQL Support for Regular Expressions\n",
    "\n",
    "Oracle SQL and POSIX Regular Expression Standard\n",
    "\n",
    "Operators in Oracle SQL Regular Expressions\n",
    "\n",
    "Using Regular Expressions in SQL Statements: Scenarios\n",
    "\n",
    "See Also:\n",
    "\n",
    "Oracle Database Globalization Support Guide for information about using SQL regular expression functions in a multilingual environment\n",
    "\n",
    "Oracle Regular Expressions Pocket Reference by Jonathan Gennick, O'Reilly & Associates\n",
    "\n",
    "Mastering Regular Expressions by Jeffrey E. F. Friedl, O'Reilly & Associates\n",
    "\n",
    "11.1 Overview of Regular Expressions\n",
    "A regular expression specifies a search pattern, using metacharacters (which are, or belong to, operators) and character literals (described in Oracle Database SQL Language Reference).\n",
    "\n",
    "The search pattern can be complex. For example, this regular expression matches any string that begins with either f or ht, followed by tp, optionally followed by s, followed by the colon (:):\n",
    "\n",
    "\n",
    "Copy\n",
    "(f|ht)tps?:\n",
    "The metacharacters (which are also operators) in the preceding example are the parentheses, the pipe symbol (|), and the question mark (?). The character literals are f, ht, tp, s, and the colon (:).\n",
    "\n",
    "Parentheses group multiple pattern elements into a single element. The pipe symbol (|) indicates a choice between the elements on either side of it, f and ht. The question mark (?) indicates that the preceding element, s, is optional. Thus, the preceding regular expression matches these strings:\n",
    "\n",
    "http:\n",
    "\n",
    "https:\n",
    "\n",
    "ftp:\n",
    "\n",
    "ftps:\n",
    "\n",
    "Regular expressions are a powerful text-processing component of the programming languages Java and PERL. For example, a PERL script can read the contents of each HTML file in a directory into a single string variable and then use a regular expression to search that string for URLs. This robust pattern-matching functionality is one reason that many application developers use PERL.\n",
    "\n",
    "11.2 Oracle SQL Support for Regular Expressions\n",
    "Oracle SQL support for regular expressions lets application developers implement complex pattern-matching logic in the database, which is useful for these reasons:\n",
    "\n",
    "By centralizing pattern-matching logic in the database, you avoid intensive string processing of SQL results sets by middle-tier applications.\n",
    "\n",
    "For example, life science customers often rely on PERL to do pattern analysis on bioinformatics data stored in huge databases of DNA and proteins. Previously, finding a match for a protein sequence such as [AG].{4}GK[ST] was handled in the middle tier. The SQL regular expression functions move the processing logic closer to the data, thereby providing a more efficient solution.\n",
    "\n",
    "By using server-side regular expressions to enforce constraints, you avoid duplicating validation logic on multiple clients.\n",
    "\n",
    "Oracle SQL supports regular expressions with the pattern-matching condition and functions summarized in Table 11-1. Each pattern matcher searches a given string for a given pattern (described with a regular expression), and each has the pattern-matching options described in Table 11-2. The functions have additional options (for example, the character position at which to start searching the string for the pattern).\n",
    "\n",
    "Table 11-1 Oracle SQL Pattern-Matching Condition and Functions\n",
    "\n",
    "Name\tDescription\n",
    "REGEXP_LIKE\n",
    "\n",
    "Condition that can appear in the WHERE clause of a query, causing the query to return rows that match the given pattern.\n",
    "\n",
    "Example: This WHERE clause identifies employees with the first name of Steven or Stephen:\n",
    "\n",
    "WHERE REGEXP_LIKE((hr.employees.first_name, '^Ste(v|ph)en$')\n",
    "REGEXP_COUNT\n",
    "\n",
    "Function that returns the number of times the given pattern appears in the given string.\n",
    "\n",
    "Example: This function invocation returns the number of times that e (but not E) appears in the string 'Albert Einstein', starting at character position 7:\n",
    "\n",
    "REGEXP_COUNT('Albert Einstein', 'e', 7, 'c')\n",
    "(The returned value is 1, because the c option specifies case-sensitive matching.)\n",
    "\n",
    "REGEXP_INSTR\n",
    "\n",
    "Function that returns an integer that indicates the starting position of the given pattern in the given string. Alternatively, the integer can indicate the position immediately following the end of the pattern.\n",
    "\n",
    "Example: This function invocation returns the starting position of the first valid email address in the column hr.employees.email:\n",
    "\n",
    "REGEXP_INSTR(hr.employees.email, '\\w+@\\w+(\\.\\w+)+')\n",
    "If the returned value is greater than zero, then the column contains a valid email address.\n",
    "\n",
    "REGEXP_REPLACE\n",
    "\n",
    "Function that returns the string that results from replacing occurrences of the given pattern in the given string with a replacement string.\n",
    "\n",
    "Example: This function invocation puts a space after each character in the column hr.countries.country_name:\n",
    "\n",
    "REGEXP_REPLACE(hr.countries.country_name, '(.)', '\\1 ')\n",
    "REGEXP_SUBSTR\n",
    "\n",
    "Function that is like REGEXP_INSTR except that instead of returning the starting position of the given pattern in the given string, it returns the matching substring itself.\n",
    "\n",
    "Example: This function invocation returns 'Oracle' because the x option ignores the spaces in the pattern:\n",
    "\n",
    "REGEXP_SUBSTR('Oracle 2010', 'O r a c l e', 1, 1, 'x')\n",
    "Table 11-2 describes the pattern-matching options that are available to each pattern matcher in Table 11-1.\n",
    "\n",
    "Table 11-2 Oracle SQL Pattern-Matching Options for Condition and Functions\n",
    "\n",
    "Pattern-Matching Option\tDescription\tExample\n",
    "i\n",
    "\n",
    "Specifies case-insensitive matching.\n",
    "\n",
    "This function invocation returns 3:\n",
    "\n",
    "REGEXP_COUNT('Albert Einstein', 'e', 'i')\n",
    "c\n",
    "\n",
    "Specifies case-sensitive matching.\n",
    "\n",
    "This function invocation returns 2:\n",
    "\n",
    "REGEXP_COUNT('Albert Einstein', 'e', 'c')\n",
    "n\n",
    "\n",
    "Allows the Dot operator (.) to match the newline character, which is not the default (see Table 11-3).\n",
    "\n",
    "In this function invocation, the string and search pattern match only because the n option is specified:\n",
    "\n",
    "REGEXP_SUBSTR('a'||CHR(10)||'d', 'a.d', 1, 1, 'n')\n",
    "m\n",
    "\n",
    "Specifies multiline mode, where a newline character inside a string terminates a line. The string can contain multiple lines.\n",
    "\n",
    "Multiline mode affects POSIX operators Beginning-of-Line Anchor (^) and End-of-Line Anchor ($) (described in Table 11-3) but not PERL-influenced operators \\A, \\Z, and \\z (described in Table 11-5).\n",
    "\n",
    "This function invocation returns ac:\n",
    "\n",
    "REGEXP_SUBSTR('ab'||CHR(10)||'ac', '^a.', 1, 2, 'm')\n",
    "x\n",
    "\n",
    "Ignores whitespace characters in the search pattern. By default, whitespace characters match themselves.\n",
    "\n",
    "This function invocation returns abcd:\n",
    "\n",
    "REGEXP_SUBSTR('abcd', 'a b c d', 1, 1, 'x')\n",
    "See Also:\n",
    "\n",
    "Oracle Database SQL Language Reference fore more information about single row functions\n",
    "\n",
    "11.3 Oracle SQL and POSIX Regular Expression Standard\n",
    "Oracle SQL implementation of regular expressions conforms to these standards:\n",
    "\n",
    "IEEE Portable Operating System Interface (POSIX) standard draft 1003.2/D11.2\n",
    "\n",
    "Oracle SQL follows exactly the syntax and matching semantics for regular expression operators as defined in the POSIX standard for matching ASCII (English language) data.\n",
    "\n",
    "Unicode Regular Expression Guidelines of the Unicode Consortium\n",
    "\n",
    "Oracle SQL extends regular expression support beyond the POSIX standard in these ways:\n",
    "\n",
    "Extends the matching capabilities for multilingual data\n",
    "\n",
    "Supports some commonly used PERL regular expression operators that are not included in the POSIX standard but do not conflict with it (for example, character class shortcuts and the nongreedy modifier (?))\n",
    "\n",
    "See Also:\n",
    "\n",
    "POSIX Operators in Oracle SQL Regular Expressions\n",
    "\n",
    "POSIX Regular Expressions Specification\n",
    "\n",
    "Oracle SQL Multilingual Extensions to POSIX Standard\n",
    "\n",
    "Oracle SQL PERL-Influenced Extensions to POSIX Standard\n",
    "\n",
    "11.4 Operators in Oracle SQL Regular Expressions\n",
    "Oracle SQL supports a set of common operators (composed of metacharacters) used in regular expressions.\n",
    "\n",
    "Caution:The interpretation of metacharacters differs between tools that support regular expressions. If you are porting regular expressions from another environment to Oracle Database, ensure that Oracle SQL supports their syntax and interprets them as you expect.\n",
    "Topics:\n",
    "\n",
    "POSIX Operators in Oracle SQL Regular Expressions\n",
    "\n",
    "Oracle SQL Multilingual Extensions to POSIX Standard\n",
    "\n",
    "Oracle SQL PERL-Influenced Extensions to POSIX Standard\n",
    "\n",
    "11.4.1 POSIX Operators in Oracle SQL Regular Expressions\n",
    "Table 11-3 summarizes the POSIX operators defined in the POSIX standard Extended Regular Expression (ERE) syntax. Oracle SQL follows the exact syntax and matching semantics for these operators as defined in the POSIX standard for matching ASCII (English language) data. Any differences in action between Oracle SQL and the POSIX standard are noted in the Description column.\n",
    "\n",
    "Table 11-3 POSIX Operators in Oracle SQL Regular Expressions\n",
    "\n",
    "Operator Syntax\tNames\tDescription\tExamples\n",
    ".\n",
    "\n",
    "Any Character\n",
    "\n",
    "Dot\n",
    "\n",
    "Matches any character in the database character set, including the newline character if you specify matching option n (see Table 11-2).\n",
    "\n",
    "The Linux, UNIX, and Windows platforms recognize the newline character as the linefeed character (\\x0a).\n",
    "\n",
    "The Macintosh platforms recognize the newline character as the carriage return character (\\x0d).\n",
    "\n",
    "Note: In the POSIX standard, this operator matches any English character except NULL and the newline character.\n",
    "\n",
    "The expression a.b matches the strings abb, acb, and adb, but does not match acc.\n",
    "\n",
    "+\n",
    "\n",
    "One or More\n",
    "\n",
    "Plus Quantifier\n",
    "\n",
    "Matches one or more occurrences of the preceding subexpression (greedyFoot 1).\n",
    "\n",
    "The expression a+ matches the strings a, aa, and aaa, but does not match ba or ab.\n",
    "\n",
    "*\n",
    "\n",
    "Zero or More\n",
    "\n",
    "Star Quantifier\n",
    "\n",
    "Matches zero or more occurrences of the preceding subexpression (greedyFoot 1).\n",
    "\n",
    "The expression ab*c matches the strings ac, abc, and abbc, but does not match abb or bbc.\n",
    "\n",
    "?\n",
    "\n",
    "Zero or One\n",
    "\n",
    "Question Mark Quantifier\n",
    "\n",
    "Matches zero or one occurrences of the preceding subexpression (greedyFoot 1).\n",
    "\n",
    "The expression ab?c matches the strings abc and ac, but does not match abbc or adc.\n",
    "\n",
    "{m}\n",
    "\n",
    "Interval\n",
    "\n",
    "Exact Count\n",
    "\n",
    "Matches exactly m occurrences of the preceding subexpression.\n",
    "\n",
    "The expression a{3} matches the string aaa, but does not match aa.\n",
    "\n",
    "{m,}\n",
    "\n",
    "Interval\n",
    "\n",
    "At-Least Count\n",
    "\n",
    "Matches at least m occurrences of the preceding subexpression (greedyFoot 1).\n",
    "\n",
    "The expression a{3,} matches the strings aaa and aaaa, but does not match aa.\n",
    "\n",
    "{m,n}\n",
    "\n",
    "Interval\n",
    "\n",
    "Between Count\n",
    "\n",
    "Matches at least m but not more than n occurrences of the preceding subexpression (greedyFoot 1).\n",
    "\n",
    "The expression a{3,5} matches the strings aaa, aaaa, and aaaaa, but does not match aa or aaaaaa.\n",
    "\n",
    "[char...]\n",
    "\n",
    "Matching Character List\n",
    "\n",
    "Matches any single character in the list within the brackets. In the list, all operators except these are treated as literals:\n",
    "\n",
    "Range operator: -\n",
    "\n",
    "POSIX character class: [: :]\n",
    "\n",
    "POSIX collation element: [. .]\n",
    "\n",
    "POSIX character equivalence class: [= =]\n",
    "\n",
    "A dash (-) is a literal when it occurs first or last in the list, or as an ending range point in a range expression, as in [#--]. A right bracket (]) is treated as a literal if it occurs first in the list.\n",
    "\n",
    "Note: In the POSIX standard, a range includes all collation elements between the start and end of the range in the linguistic definition of the current locale. Thus, ranges are linguistic rather than byte value ranges; the semantics of the range expression are independent of the character set. In Oracle Database, the linguistic range is determined by the NLS_SORT initialization parameter.\n",
    "\n",
    "The expression [abc] matches the first character in the strings all, bill, and cold, but does not match any characters in doll.\n",
    "\n",
    "[^char...]\n",
    "\n",
    "Nonmatching Character List\n",
    "\n",
    "Matches any single character not in the list within the brackets.\n",
    "\n",
    "For information about operators and ranges in the character list, see the description of the Matching Character List operator.\n",
    "\n",
    "The expression [^abc]def matches the string xdef, but not adef, bdef, or cdef.\n",
    "\n",
    "The expression [^a-i]x matches the string jx, but does not match ax, fx, or ix.\n",
    "\n",
    "[alt1 |alt2]\n",
    "\n",
    "Or\n",
    "\n",
    "Matches either alternative.\n",
    "\n",
    "The expression a|b matches the character a or b.\n",
    "\n",
    "(expr)\n",
    "\n",
    "Subexpression\n",
    "\n",
    "Grouping\n",
    "\n",
    "Treats the expression within the parentheses as a unit. The expression can be a string or a complex expression containing operators.\n",
    "\n",
    "You can refer to a subexpression in a back reference.\n",
    "\n",
    "The expression (abc)?def matches the strings abcdef and def, but does not match abcdefg or xdef.\n",
    "\n",
    "\\n\n",
    "\n",
    "Back Reference\n",
    "\n",
    "Matches the nth preceding subexpression, where n is an integer from 1 through 9. A back reference counts subexpressions from left to right, starting with the opening parenthesis of each preceding subexpression. The expression is invalid if fewer than n subexpressions precede \\n.\n",
    "\n",
    "A back reference lets you search for a repeated string without knowing what it is.\n",
    "\n",
    "For the REGEXP_REPLACE function, Oracle SQL supports back references in both the regular expression pattern and the replacement string.\n",
    "\n",
    "The expression (abc|def)xy\\1 matches the strings abcxyabc and defxydef, but does not match abcxydef or abcxy.\n",
    "\n",
    "The expression ^(.*)\\1$ matches a line consisting of two adjacent instances of the same string.\n",
    "\n",
    "\\\n",
    "\n",
    "Escape Character\n",
    "\n",
    "Treats the subsequent character as a literal.\n",
    "\n",
    "A backslash (\\) lets you search for a character that would otherwise be treated as a metacharacter. Use consecutive backslashes (\\\\) to match the backslash literal itself.\n",
    "\n",
    "The expression abc\\+def matches the string abc+def, but does not match abcdef or abccdef.\n",
    "\n",
    "^\n",
    "\n",
    "Beginning-of-Line Anchor\n",
    "\n",
    "Default mode: Matches the beginning of a string.\n",
    "\n",
    "Multiline mode:Foot 2 Matches the beginning of any line the source string.\n",
    "\n",
    "The expression ^def matches the substring def in the string defghi but not in the string abcdef.\n",
    "\n",
    "$\n",
    "\n",
    "End-of-Line Anchor\n",
    "\n",
    "Default mode: Matches the end of a string.\n",
    "\n",
    "Multiline mode:Foot 2 Matches the end of any line the source string.\n",
    "\n",
    "The expression def$ matches the substring def in the string abcdef but not in the string defghi.\n",
    "\n",
    "[:class:]\n",
    "\n",
    "POSIX Character Class\n",
    "\n",
    "Matches any character in the specified POSIX character class (such as uppercase characters, digits, or punctuation characters).\n",
    "\n",
    "Note: In English regular expressions, range expressions often indicate a character class. For example, [a-z] indicates any lowercase character. This convention is not useful in multilingual environments, where the first and last character of a given character class might not be the same in all languages.\n",
    "\n",
    "The expression [:upper:]+, which specifies one or more consecutive uppercase characters, matches the substring DEF in the string abcDEFghi, but does not match any substring in abcdefghi.\n",
    "\n",
    "[.element.]\n",
    "\n",
    "POSIX Collating Element Operator\n",
    "\n",
    "Specifies a collating element defined in the current locale. The NLS_SORT initialization parameter determines the supported collation elements.\n",
    "\n",
    "This syntax lets you use a multicharacter collating element where otherwise only single-character collating elements are allowed. For example, you can ensure that the collating element ch, when defined in a locale such as Traditional Spanish, is treated as one character in operations that depend on the ordering of characters.\n",
    "\n",
    "The expression [.ch.], which specifies the collating element ch, matches ch in the string chabc, but does not match any substring in cdefg.\n",
    "\n",
    "The expression [a-[.ch.]] specifies the range from a through ch.\n",
    "\n",
    "[=char=]\n",
    "\n",
    "POSIX Character Equivalence Class\n",
    "\n",
    "Matches all characters that belong to the same POSIX character equivalence class as the specified character, in the current locale.\n",
    "\n",
    "This syntax must appear within a character list; that is, it must be nested within the brackets for a character list.\n",
    "\n",
    "Character equivalents depend on how canonical rules are defined for your database locale. For details, see Oracle Database Globalization Support Guide.\n",
    "\n",
    "The expression [[=n=]], which specifies characters equivalent to n in a Spanish locale, matches both N and ñ in the string El Niño.\n",
    "\n",
    "Footnote 1\n",
    "\n",
    "A greedy operator matches as many occurrences as possible while allowing the rest of the match to succeed. To make the operator nongreedy, follow it with the nongreedy modifier (?) (see Table 11-5).\n",
    "\n",
    "Footnote 2\n",
    "\n",
    "Specify multiline mode with the pattern-matching option m, described in Table 11-2.\n",
    "\n",
    "11.4.2 Oracle SQL Multilingual Extensions to POSIX Standard\n",
    "When applied to multilingual data, Oracle SQL POSIX operators extend beyond the matching capabilities specified in the POSIX standard.\n",
    "\n",
    "Table 11-4 shows, for each POSIX operator, which POSIX standards define its syntax and whether Oracle SQL extends its semantics for handling multilingual data. The POSIX standards are Basic Regular Expression (BRE) and Extended Regular Expression (ERE).\n",
    "\n",
    "Table 11-4 POSIX Operators and Multilingual Operator Relationships\n",
    "\n",
    "Operator\tPOSIX BRE Syntax\tPOSIX ERE Syntax\tMultilingual Enhancement\n",
    "\\\n",
    "\n",
    "Yes\n",
    "\n",
    "Yes\n",
    "\n",
    "--\n",
    "\n",
    "*\n",
    "\n",
    "Yes\n",
    "\n",
    "Yes\n",
    "\n",
    "--\n",
    "\n",
    "+\n",
    "\n",
    "--\n",
    "\n",
    "Yes\n",
    "\n",
    "--\n",
    "\n",
    "?\n",
    "\n",
    "--\n",
    "\n",
    "Yes\n",
    "\n",
    "--\n",
    "\n",
    "|\n",
    "\n",
    "--\n",
    "\n",
    "Yes\n",
    "\n",
    "--\n",
    "\n",
    "^\n",
    "\n",
    "Yes\n",
    "\n",
    "Yes\n",
    "\n",
    "Yes\n",
    "\n",
    "$\n",
    "\n",
    "Yes\n",
    "\n",
    "Yes\n",
    "\n",
    "Yes\n",
    "\n",
    ".\n",
    "\n",
    "Yes\n",
    "\n",
    "Yes\n",
    "\n",
    "Yes\n",
    "\n",
    "[ ]\n",
    "\n",
    "Yes\n",
    "\n",
    "Yes\n",
    "\n",
    "Yes\n",
    "\n",
    "( )\n",
    "\n",
    "Yes\n",
    "\n",
    "Yes\n",
    "\n",
    "--\n",
    "\n",
    "{m}\n",
    "\n",
    "Yes\n",
    "\n",
    "Yes\n",
    "\n",
    "--\n",
    "\n",
    "{m,}\n",
    "\n",
    "Yes\n",
    "\n",
    "Yes\n",
    "\n",
    "--\n",
    "\n",
    "{m,n}\n",
    "\n",
    "Yes\n",
    "\n",
    "Yes\n",
    "\n",
    "--\n",
    "\n",
    "\\n\n",
    "\n",
    "Yes\n",
    "\n",
    "Yes\n",
    "\n",
    "Yes\n",
    "\n",
    "[..]\n",
    "\n",
    "Yes\n",
    "\n",
    "Yes\n",
    "\n",
    "Yes\n",
    "\n",
    "[::]\n",
    "\n",
    "Yes\n",
    "\n",
    "Yes\n",
    "\n",
    "Yes\n",
    "\n",
    "[==]\n",
    "\n",
    "Yes\n",
    "\n",
    "Yes\n",
    "\n",
    "Yes\n",
    "\n",
    "Multilingual data might have multibyte characters. Oracle Database lets you enter multibyte characters directly (if you have a direct input method) or use functions to compose them. You cannot use the Unicode hexadecimal encoding value of the form x. Oracle Database evaluates the characters based on the byte values used to encode the character, not the graphical representation of the character.\n",
    "\n",
    "11.4.3 Oracle SQL PERL-Influenced Extensions to POSIX Standard\n",
    "Oracle SQL supports some commonly used PERL regular expression operators that are not included in the POSIX standard but do not conflict with it.\n",
    "\n",
    "Table 11-5 summarizes the PERL-influenced operators that Oracle SQL supports.\n",
    "\n",
    "Caution:PERL character class matching is based on the locale model of the operating system, whereas Oracle SQL regular expressions are based on the language-specific data of the database. In general, you cannot expect a regular expression involving locale data to produce the same results in PERL and Oracle SQL.\n",
    "Table 11-5 PERL-Influenced Operators in Oracle SQL Regular Expressions\n",
    "\n",
    "Operator Syntax\tDescription\tExamples\n",
    "\\d\n",
    "\n",
    "Matches a digit character.\n",
    "\n",
    "Equivalent to POSIX expression [[:digit:]].\n",
    "\n",
    "The expression ^\\(\\d{3}\\) \\d{3}-\\d{4}$ matches (650) 555-0100 but does not match 650-555-0100.\n",
    "\n",
    "\\D\n",
    "\n",
    "Matches a nondigit character.\n",
    "\n",
    "Equivalent to POSIX expression [^[:digit:]].\n",
    "\n",
    "The expression \\w\\d\\D matches b2b and b2_ but does not match b22.\n",
    "\n",
    "\\w\n",
    "\n",
    "Matches a word character (that is, an alphanumeric or underscore (_) character).\n",
    "\n",
    "Equivalent to POSIX expression [[:alnum:]_].\n",
    "\n",
    "The expression \\w+@\\w+(\\.\\w+)+ matches the string jdoe@company.co.uk but does not match jdoe@company.\n",
    "\n",
    "\\W\n",
    "\n",
    "Matches a nonword character.\n",
    "\n",
    "Equivalent to POSIX expression [^[:alnum:]_].\n",
    "\n",
    "The expression \\w+\\W\\s\\w+ matches the string to: bill but does not match to bill.\n",
    "\n",
    "\\s\n",
    "\n",
    "Matches a whitespace character.\n",
    "\n",
    "Equivalent to POSIX expression [[:space:]].\n",
    "\n",
    "The expression \\(\\w\\s\\w\\s\\) matches the string (a b ) but does not match (ab) or (a,b.).\n",
    "\n",
    "\\S\n",
    "\n",
    "Matches a nonwhitespace character.\n",
    "\n",
    "Equivalent to POSIX expression [^[:space:]].\n",
    "\n",
    "The expression \\(\\w\\S\\w\\S\\) matches the strings (abde) and (a,b.) but does not match (a b d e).\n",
    "\n",
    "\\A\n",
    "\n",
    "Matches the beginning of a string, in either single-line or multiline mode.\n",
    "\n",
    "Not equivalent to POSIX operator ^.\n",
    "\n",
    "The expression \\AL matches only the first L in the string Line1\\nLine2\\n (where \\n is the newline character), in either single-line or multiline mode.\n",
    "\n",
    "\\Z\n",
    "\n",
    "Matches the end of a string, in either single-line or multiline mode.\n",
    "\n",
    "Not equivalent to POSIX operator $.\n",
    "\n",
    "The expression \\s\\Z matches the last space in the string L i n e \\n (where \\n is the newline character), in either single-line or multiline mode.\n",
    "\n",
    "\\z\n",
    "\n",
    "Matches the end of a string, in either single-line or multiline mode.\n",
    "\n",
    "Not equivalent to POSIX operator $.\n",
    "\n",
    "The expression \\s\\z matches the newline character (\\n) in the string L i n e \\n, in either single-line or multiline mode.\n",
    "\n",
    "+?\n",
    "\n",
    "Matches one or more occurrences of the preceding subexpression (nongreedyFoot 3).\n",
    "\n",
    "The expression \\w+?x\\w matches abxc in the string abxcxd (and the greedy expression \\w+x\\w matches abxcxd).\n",
    "\n",
    "*?\n",
    "\n",
    "Matches zero or more occurrences of the preceding subexpression (nongreedyFoot 3). Matches the empty string whenever possible.\n",
    "\n",
    "The expression \\w*?x\\w matches xa in the string xaxbxc (and the greedy expression \\w*x\\w matches xaxbxc.\n",
    "\n",
    "??\n",
    "\n",
    "Matches zero or one occurrences of the preceding subexpression (nongreedyFoot 3). Matches the empty string whenever possible.\n",
    "\n",
    "The expression a??aa matches aa in the string aaaa (and the greedy expression a?aa matches aaa).\n",
    "\n",
    "{m}?\n",
    "\n",
    "Matches exactly m occurrences of the preceding subexpression (nongreedyFoot 3).\n",
    "\n",
    "The expression (a|aa){2}? matches aa in the string aaaa (and the greedy expression (a|aa){2} matches aaaa.\n",
    "\n",
    "Both the expression b{2}? and the greedy expression b{2} match bb in the string bbbb.\n",
    "\n",
    "{m,}?\n",
    "\n",
    "Matches at least m occurrences of the preceding subexpression (nongreedyFoot 3).\n",
    "\n",
    "The expression a{2,}? matches aa in the string aaaaa (and the greedy expression a{2,} matches aaaaa.\n",
    "\n",
    "{m,n}?\n",
    "\n",
    "Matches at least m but not more than n occurrences of the preceding subexpression (nongreedyFoot 3). {0,n}? matches the empty string whenever possible.\n",
    "\n",
    "The expression a{2,4}? matches aa in the string aaaaa (and the greedy expression a{2,4} matches aaaa.\n",
    "\n",
    "Footnote 3\n",
    "\n",
    "A nongreedy operator matches as few occurrences as possible while allowing the rest of the match to succeed. To make the operator greedy, omit the nongreedy modifier (?).\n",
    "\n",
    "11.5 Using Regular Expressions in SQL Statements: Scenarios\n",
    "Scenarios:\n",
    "\n",
    "Using a Constraint to Enforce a Phone Number Format\n",
    "\n",
    "Example: Enforcing a Phone Number Format with Regular Expressions\n",
    "\n",
    "Example: Inserting Phone Numbers in Correct and Incorrect Formats\n",
    "\n",
    "Using Back References to Reposition Characters\n",
    "\n",
    "11.5.1 Using a Constraint to Enforce a Phone Number Format\n",
    "Regular expressions are useful for enforcing constraints—for example, to ensure that phone numbers are entered into the database in a standard format.\n",
    "\n",
    "Table 11-6 explains the elements of the regular expression in Example: Enforcing a Phone Number Format with Regular Expressions.\n",
    "\n",
    "Table 11-6 Explanation of the Regular Expression Elements\n",
    "\n",
    "Regular Expression Element\tMatches . . .\n",
    "^\n",
    "\n",
    "The beginning of the string.\n",
    "\n",
    "\\(\n",
    "\n",
    "A left parenthesis. The backslash (\\) is an escape character that indicates that the left parenthesis after it is a literal rather than a subexpression delimiter.\n",
    "\n",
    "\\d{3}\n",
    "\n",
    "Exactly three digits.\n",
    "\n",
    "\\)\n",
    "\n",
    "A right parenthesis. The backslash (\\) is an escape character that indicates that the right parenthesis after it is a literal rather than a subexpression delimiter.\n",
    "\n",
    "space character\n",
    "\n",
    "A space character.\n",
    "\n",
    "\\d{3}\n",
    "\n",
    "Exactly three digits.\n",
    "\n",
    "-\n",
    "\n",
    "A hyphen.\n",
    "\n",
    "\\d{4}\n",
    "\n",
    "Exactly four digits.\n",
    "\n",
    "$\n",
    "\n",
    "The end of the string.\n",
    "\n",
    "11.5.2 Example: Enforcing a Phone Number Format with Regular Expressions\n",
    "When you create a table, you can enforce formats with regular expressions.\n",
    "\n",
    "Example 11-1 creates a contacts table and adds a CHECK constraint to the p_number column to enforce this format model:\n",
    "\n",
    "\n",
    "Copy\n",
    "(XXX) XXX-XXXX\n",
    "Example 11-1 Enforcing a Phone Number Format with Regular Expressions\n",
    "\n",
    "\n",
    "Copy\n",
    "DROP TABLE contacts;\n",
    "CREATE TABLE contacts (\n",
    "  l_name    VARCHAR2(30),\n",
    "  p_number  VARCHAR2(30)\n",
    "  CONSTRAINT c_contacts_pnf\n",
    "  CHECK (REGEXP_LIKE (p_number, '^\\(\\d{3}\\) \\d{3}-\\d{4}$'))\n",
    ");\n",
    "11.5.3 Example: Inserting Phone Numbers in Correct and Incorrect Formats\n",
    "The INSERT INTO SQL statement can be used to test how correct and incorrect formats work.\n",
    "\n",
    "Example 11-2 shows some statements that correctly and incorrectly insert phone numbers into the contacts table.\n",
    "\n",
    "Example 11-2 Inserting Phone Numbers in Correct and Incorrect Formats\n",
    "\n",
    "These are correct:\n",
    "\n",
    "\n",
    "Copy\n",
    "INSERT INTO contacts (p_number) VALUES('(650) 555-0100');\n",
    "INSERT INTO contacts (p_number) VALUES('(215) 555-0100');\n",
    " \n",
    "These generate CHECK constraint errors:\n",
    "\n",
    "\n",
    "Copy\n",
    "INSERT INTO contacts (p_number) VALUES('650 555-0100');\n",
    "INSERT INTO contacts (p_number) VALUES('650 555 0100');\n",
    "INSERT INTO contacts (p_number) VALUES('650-555-0100');\n",
    "INSERT INTO contacts (p_number) VALUES('(650)555-0100');\n",
    "INSERT INTO contacts (p_number) VALUES(' (650) 555-0100');\n",
    "11.5.4 Using Back References to Reposition Characters\n",
    "A back reference (described in Table 11-3) stores the referenced subexpression in a temporary buffer. Therefore, you can use back references to reposition characters, as in Example 11-3. For an explanation of the elements of the regular expression in Example 11-3, see Table 11-7.\n",
    "\n",
    "Table 11-7 explains the elements of the regular expression in Example 11-3.\n",
    "\n",
    "Table 11-7 Explanation of the Regular Expression Elements\n",
    "\n",
    "Regular Expression Element\tDescription\n",
    "^\n",
    "\n",
    "Matches the beginning of the string.\n",
    "\n",
    "$\n",
    "\n",
    "Matches the end of the string.\n",
    "\n",
    "(\\S+)\n",
    "\n",
    "Matches one or more nonspace characters. The parentheses are not escaped so they function as a grouping expression.\n",
    "\n",
    "\\s\n",
    "\n",
    "Matches a whitespace character.\n",
    "\n",
    "\n",
    "\n",
    "Substitutes the first subexpression, that is, the first group of parentheses in the matching pattern.\n",
    "\n",
    "\n",
    "\n",
    "Substitutes the second subexpression, that is, the second group of parentheses in the matching pattern.\n",
    "\n",
    "\n",
    "\n",
    "Substitutes the third subexpression, that is, the third group of parentheses in the matching pattern.\n",
    "\n",
    ",\n",
    "\n",
    "Inserts a comma character.\n",
    "\n",
    "Example 11-3 Using Back References to Reposition Characters\n",
    "\n",
    "Create table and populate it with names in different formats:\n",
    "\n",
    "\n",
    "Copy\n",
    "DROP TABLE famous_people;\n",
    "CREATE TABLE famous_people (names VARCHAR2(20));\n",
    "INSERT INTO famous_people (names) VALUES ('John Quincy Adams');\n",
    "INSERT INTO famous_people (names) VALUES ('Harry S. Truman');\n",
    "INSERT INTO famous_people (names) VALUES ('John Adams');\n",
    "INSERT INTO famous_people (names) VALUES (' John Quincy Adams');\n",
    "INSERT INTO famous_people (names) VALUES ('John_Quincy_Adams');\n",
    "SQL*Plus formatting command:\n",
    "\n",
    "\n",
    "Copy\n",
    "COLUMN \"names after regexp\" FORMAT A20\n",
    "For each name in the table whose format is \"first middle last\", use back references to reposition characters so that the format becomes \"last, first middle\":\n",
    "\n",
    "\n",
    "Copy\n",
    "SELECT names \"names\",\n",
    "  REGEXP_REPLACE(names, '^(\\S+)\\s(\\S+)\\s(\\S+)$', '\\3, \\1 \\2')\n",
    "    AS \"names after regexp\"\n",
    "FROM famous_people\n",
    "ORDER BY \"names\";\n",
    " \n",
    "Result:\n",
    "\n",
    "\n",
    "Copy\n",
    "names                names after regexp\n",
    "-------------------- --------------------\n",
    " John Quincy Adams    John Quincy Adams\n",
    "Harry S. Truman      Truman, Harry S.\n",
    "John Adams           John Adams\n",
    "John Quincy Adams    Adams, John Quincy\n",
    "John_Quincy_Adams    John_Quincy_Adams\n",
    " \n",
    "5 rows selected.\n",
    "\n",
    "Previous Page\n",
    "\n",
    "Next Page\n",
    "\n",
    "\n",
    "\n",
    "\n",
    "\n",
    " \n",
    "11 Using Regular Expressions in Database Applications\n",
    "11.1 Overview of Regular Expressions\n",
    "11.2 Oracle SQL Support for Regular Expressions\n",
    "11.3 Oracle SQL and POSIX Regular Expression Standard\n",
    "11.4 Operators in Oracle SQL Regular Expressions\n",
    "11.5 Using Regular Expressions in SQL Statements: Scenarios\n",
    "\n",
    "© Oracle\n",
    "About Oracle\n",
    "Contact Us\n",
    "Products A-Z\n",
    "Terms of Use & Privacy\n",
    "Настройки cookie\n",
    "Ad Choices\n",
    "    \"\"\""
   ],
   "metadata": {
    "collapsed": false,
    "ExecuteTime": {
     "end_time": "2024-03-19T12:58:56.634527Z",
     "start_time": "2024-03-19T12:58:56.604559Z"
    }
   },
   "id": "932465a6719c87aa",
   "execution_count": 59
  },
  {
   "cell_type": "code",
   "outputs": [
    {
     "data": {
      "text/plain": "13"
     },
     "execution_count": 60,
     "metadata": {},
     "output_type": "execute_result"
    }
   ],
   "source": [
    "pattern = r'\\s+INSERT\\s+'\n",
    "\n",
    "result = re.findall(pattern=pattern,string=text)\n",
    "len(result)"
   ],
   "metadata": {
    "collapsed": false,
    "ExecuteTime": {
     "end_time": "2024-03-19T12:58:56.649527Z",
     "start_time": "2024-03-19T12:58:56.635527Z"
    }
   },
   "id": "83e5ef294b92e03",
   "execution_count": 60
  },
  {
   "cell_type": "code",
   "outputs": [
    {
     "data": {
      "text/plain": "'famous_people'"
     },
     "execution_count": 61,
     "metadata": {},
     "output_type": "execute_result"
    }
   ],
   "source": [
    "pattern = r'SELECT\\s+(\\S+\\s+)+FROM\\s+(\\S+)'   \n",
    "\n",
    "result = re.search(pattern=pattern,string=text)\n",
    "result.group(2)"
   ],
   "metadata": {
    "collapsed": false,
    "ExecuteTime": {
     "end_time": "2024-03-19T12:58:57.676810Z",
     "start_time": "2024-03-19T12:58:57.662812Z"
    }
   },
   "id": "5169890fd573d67d",
   "execution_count": 61
  },
  {
   "cell_type": "code",
   "outputs": [],
   "source": [
    "a = {'id':[1,2],'value':['a','b']}\n",
    "b = {'id':[2,3],'value':['c','d']}\n",
    "a = pd.DataFrame(a)\n",
    "b = pd.DataFrame(b)\n"
   ],
   "metadata": {
    "collapsed": false,
    "ExecuteTime": {
     "end_time": "2024-03-19T12:58:58.588814Z",
     "start_time": "2024-03-19T12:58:58.576814Z"
    }
   },
   "id": "9ce52139cf7790cd",
   "execution_count": 62
  },
  {
   "cell_type": "code",
   "outputs": [
    {
     "data": {
      "text/plain": "   id value\n0   2     c\n1   3     d",
      "text/html": "<div>\n<style scoped>\n    .dataframe tbody tr th:only-of-type {\n        vertical-align: middle;\n    }\n\n    .dataframe tbody tr th {\n        vertical-align: top;\n    }\n\n    .dataframe thead th {\n        text-align: right;\n    }\n</style>\n<table border=\"1\" class=\"dataframe\">\n  <thead>\n    <tr style=\"text-align: right;\">\n      <th></th>\n      <th>id</th>\n      <th>value</th>\n    </tr>\n  </thead>\n  <tbody>\n    <tr>\n      <th>0</th>\n      <td>2</td>\n      <td>c</td>\n    </tr>\n    <tr>\n      <th>1</th>\n      <td>3</td>\n      <td>d</td>\n    </tr>\n  </tbody>\n</table>\n</div>"
     },
     "execution_count": 63,
     "metadata": {},
     "output_type": "execute_result"
    }
   ],
   "source": [
    "b"
   ],
   "metadata": {
    "collapsed": false,
    "ExecuteTime": {
     "end_time": "2024-03-19T12:58:59.934336Z",
     "start_time": "2024-03-19T12:58:59.924336Z"
    }
   },
   "id": "c88237c70de70abf",
   "execution_count": 63
  },
  {
   "cell_type": "code",
   "outputs": [
    {
     "data": {
      "text/plain": "   id value_x value_y\n0   1       a     NaN\n1   2       b       c\n2   3     NaN       d",
      "text/html": "<div>\n<style scoped>\n    .dataframe tbody tr th:only-of-type {\n        vertical-align: middle;\n    }\n\n    .dataframe tbody tr th {\n        vertical-align: top;\n    }\n\n    .dataframe thead th {\n        text-align: right;\n    }\n</style>\n<table border=\"1\" class=\"dataframe\">\n  <thead>\n    <tr style=\"text-align: right;\">\n      <th></th>\n      <th>id</th>\n      <th>value_x</th>\n      <th>value_y</th>\n    </tr>\n  </thead>\n  <tbody>\n    <tr>\n      <th>0</th>\n      <td>1</td>\n      <td>a</td>\n      <td>NaN</td>\n    </tr>\n    <tr>\n      <th>1</th>\n      <td>2</td>\n      <td>b</td>\n      <td>c</td>\n    </tr>\n    <tr>\n      <th>2</th>\n      <td>3</td>\n      <td>NaN</td>\n      <td>d</td>\n    </tr>\n  </tbody>\n</table>\n</div>"
     },
     "execution_count": 64,
     "metadata": {},
     "output_type": "execute_result"
    }
   ],
   "source": [
    "result = a.merge(b, how=\"outer\", on='id')\n",
    "result"
   ],
   "metadata": {
    "collapsed": false,
    "ExecuteTime": {
     "end_time": "2024-03-19T12:59:00.498735Z",
     "start_time": "2024-03-19T12:59:00.468738Z"
    }
   },
   "id": "95a629026a4600be",
   "execution_count": 64
  },
  {
   "cell_type": "code",
   "outputs": [
    {
     "data": {
      "text/plain": "   id_x value_x  id_y value_y\n0     1       a     2       c\n1     1       a     3       d\n2     2       b     2       c\n3     2       b     3       d",
      "text/html": "<div>\n<style scoped>\n    .dataframe tbody tr th:only-of-type {\n        vertical-align: middle;\n    }\n\n    .dataframe tbody tr th {\n        vertical-align: top;\n    }\n\n    .dataframe thead th {\n        text-align: right;\n    }\n</style>\n<table border=\"1\" class=\"dataframe\">\n  <thead>\n    <tr style=\"text-align: right;\">\n      <th></th>\n      <th>id_x</th>\n      <th>value_x</th>\n      <th>id_y</th>\n      <th>value_y</th>\n    </tr>\n  </thead>\n  <tbody>\n    <tr>\n      <th>0</th>\n      <td>1</td>\n      <td>a</td>\n      <td>2</td>\n      <td>c</td>\n    </tr>\n    <tr>\n      <th>1</th>\n      <td>1</td>\n      <td>a</td>\n      <td>3</td>\n      <td>d</td>\n    </tr>\n    <tr>\n      <th>2</th>\n      <td>2</td>\n      <td>b</td>\n      <td>2</td>\n      <td>c</td>\n    </tr>\n    <tr>\n      <th>3</th>\n      <td>2</td>\n      <td>b</td>\n      <td>3</td>\n      <td>d</td>\n    </tr>\n  </tbody>\n</table>\n</div>"
     },
     "execution_count": 65,
     "metadata": {},
     "output_type": "execute_result"
    }
   ],
   "source": [
    "result = a.merge(b, how=\"cross\")\n",
    "result"
   ],
   "metadata": {
    "collapsed": false,
    "ExecuteTime": {
     "end_time": "2024-03-19T12:59:00.688242Z",
     "start_time": "2024-03-19T12:59:00.670965Z"
    }
   },
   "id": "73409fd2eb7a5913",
   "execution_count": 65
  },
  {
   "cell_type": "code",
   "outputs": [
    {
     "data": {
      "text/plain": "     index   brand                                              Model  Price  \\\n0        1   tecno  Tecno Megabook T1 Laptop (11th Gen Core i3/ 8G...  23990   \n1        2   tecno  Tecno Megabook T1 Laptop (11th Gen Core i7/ 16...  35990   \n2        3      hp  HP Victus 15-fb0157AX Gaming Laptop (AMD Ryzen...  51100   \n3        4    acer  Acer Extensa EX214-53 Laptop (12th Gen Core i5...  39990   \n4        5  lenovo  Lenovo V15 82KDA01BIH Laptop (AMD Ryzen 3 5300...  28580   \n..     ...     ...                                                ...    ...   \n986    998    asus  Asus Vivobook Pro 15 M6500QC-HN542WS Laptop (R...  65990   \n987    999     msi  MSI Thin GF63 12VE-070IN Gaming Laptop (12th G...  91990   \n988   1000    asus  Asus Vivobook Go 15 2023 E1504FA-NJ522WS Lapto...  44990   \n989   1001    asus  Asus Zenbook 14 2023 UM3402YA-KP541WS Laptop (...  67990   \n990   1002      hp  HP Chromebook 15a-na0008TU Laptop (Intel Celer...  20990   \n\n     Rating processor_brand processor_tier  num_cores  num_threads  \\\n0        63           intel        core i3          2            4   \n1        67           intel        core i7          4            8   \n2        73             amd        ryzen 5          6           12   \n3        62           intel        core i5         12           16   \n4        62             amd        ryzen 3          4            8   \n..      ...             ...            ...        ...          ...   \n986      68             amd        ryzen 5          6           12   \n987      73           intel        core i7         10           16   \n988      59             amd        ryzen 5          4            8   \n989      68             amd        ryzen 5          6           12   \n990      37           intel        celeron          2            2   \n\n     ram_memory  ... secondary_storage_type  secondary_storage_capacity  \\\n0             8  ...   No secondary storage                           0   \n1            16  ...   No secondary storage                           0   \n2             8  ...   No secondary storage                           0   \n3             8  ...   No secondary storage                           0   \n4             8  ...   No secondary storage                           0   \n..          ...  ...                    ...                         ...   \n986          16  ...   No secondary storage                           0   \n987          16  ...   No secondary storage                           0   \n988           8  ...   No secondary storage                           0   \n989          16  ...   No secondary storage                           0   \n990           4  ...   No secondary storage                           0   \n\n    gpu_brand    gpu_type is_touch_screen display_size  resolution_width  \\\n0       intel  integrated           False         15.6              1920   \n1       intel  integrated           False         15.6              1920   \n2         amd   dedicated           False         15.6              1920   \n3       intel  integrated           False         14.0              1920   \n4         amd  integrated           False         15.6              1920   \n..        ...         ...             ...          ...               ...   \n986    nvidia   dedicated           False         15.6              1920   \n987    nvidia   dedicated           False         15.6              1920   \n988       amd  integrated           False         15.6              1920   \n989       amd  integrated           False         14.0              2560   \n990     intel  integrated           False         15.6              1366   \n\n     resolution_height       OS  year_of_warranty  \n0                 1080  windows                 1  \n1                 1080  windows                 1  \n2                 1080  windows                 1  \n3                 1080  windows                 1  \n4                 1080  windows                 1  \n..                 ...      ...               ...  \n986               1080  windows                 1  \n987               1080  windows                 2  \n988               1080  windows                 1  \n989               1600  windows                 1  \n990                768   chrome                 1  \n\n[991 rows x 22 columns]",
      "text/html": "<div>\n<style scoped>\n    .dataframe tbody tr th:only-of-type {\n        vertical-align: middle;\n    }\n\n    .dataframe tbody tr th {\n        vertical-align: top;\n    }\n\n    .dataframe thead th {\n        text-align: right;\n    }\n</style>\n<table border=\"1\" class=\"dataframe\">\n  <thead>\n    <tr style=\"text-align: right;\">\n      <th></th>\n      <th>index</th>\n      <th>brand</th>\n      <th>Model</th>\n      <th>Price</th>\n      <th>Rating</th>\n      <th>processor_brand</th>\n      <th>processor_tier</th>\n      <th>num_cores</th>\n      <th>num_threads</th>\n      <th>ram_memory</th>\n      <th>...</th>\n      <th>secondary_storage_type</th>\n      <th>secondary_storage_capacity</th>\n      <th>gpu_brand</th>\n      <th>gpu_type</th>\n      <th>is_touch_screen</th>\n      <th>display_size</th>\n      <th>resolution_width</th>\n      <th>resolution_height</th>\n      <th>OS</th>\n      <th>year_of_warranty</th>\n    </tr>\n  </thead>\n  <tbody>\n    <tr>\n      <th>0</th>\n      <td>1</td>\n      <td>tecno</td>\n      <td>Tecno Megabook T1 Laptop (11th Gen Core i3/ 8G...</td>\n      <td>23990</td>\n      <td>63</td>\n      <td>intel</td>\n      <td>core i3</td>\n      <td>2</td>\n      <td>4</td>\n      <td>8</td>\n      <td>...</td>\n      <td>No secondary storage</td>\n      <td>0</td>\n      <td>intel</td>\n      <td>integrated</td>\n      <td>False</td>\n      <td>15.6</td>\n      <td>1920</td>\n      <td>1080</td>\n      <td>windows</td>\n      <td>1</td>\n    </tr>\n    <tr>\n      <th>1</th>\n      <td>2</td>\n      <td>tecno</td>\n      <td>Tecno Megabook T1 Laptop (11th Gen Core i7/ 16...</td>\n      <td>35990</td>\n      <td>67</td>\n      <td>intel</td>\n      <td>core i7</td>\n      <td>4</td>\n      <td>8</td>\n      <td>16</td>\n      <td>...</td>\n      <td>No secondary storage</td>\n      <td>0</td>\n      <td>intel</td>\n      <td>integrated</td>\n      <td>False</td>\n      <td>15.6</td>\n      <td>1920</td>\n      <td>1080</td>\n      <td>windows</td>\n      <td>1</td>\n    </tr>\n    <tr>\n      <th>2</th>\n      <td>3</td>\n      <td>hp</td>\n      <td>HP Victus 15-fb0157AX Gaming Laptop (AMD Ryzen...</td>\n      <td>51100</td>\n      <td>73</td>\n      <td>amd</td>\n      <td>ryzen 5</td>\n      <td>6</td>\n      <td>12</td>\n      <td>8</td>\n      <td>...</td>\n      <td>No secondary storage</td>\n      <td>0</td>\n      <td>amd</td>\n      <td>dedicated</td>\n      <td>False</td>\n      <td>15.6</td>\n      <td>1920</td>\n      <td>1080</td>\n      <td>windows</td>\n      <td>1</td>\n    </tr>\n    <tr>\n      <th>3</th>\n      <td>4</td>\n      <td>acer</td>\n      <td>Acer Extensa EX214-53 Laptop (12th Gen Core i5...</td>\n      <td>39990</td>\n      <td>62</td>\n      <td>intel</td>\n      <td>core i5</td>\n      <td>12</td>\n      <td>16</td>\n      <td>8</td>\n      <td>...</td>\n      <td>No secondary storage</td>\n      <td>0</td>\n      <td>intel</td>\n      <td>integrated</td>\n      <td>False</td>\n      <td>14.0</td>\n      <td>1920</td>\n      <td>1080</td>\n      <td>windows</td>\n      <td>1</td>\n    </tr>\n    <tr>\n      <th>4</th>\n      <td>5</td>\n      <td>lenovo</td>\n      <td>Lenovo V15 82KDA01BIH Laptop (AMD Ryzen 3 5300...</td>\n      <td>28580</td>\n      <td>62</td>\n      <td>amd</td>\n      <td>ryzen 3</td>\n      <td>4</td>\n      <td>8</td>\n      <td>8</td>\n      <td>...</td>\n      <td>No secondary storage</td>\n      <td>0</td>\n      <td>amd</td>\n      <td>integrated</td>\n      <td>False</td>\n      <td>15.6</td>\n      <td>1920</td>\n      <td>1080</td>\n      <td>windows</td>\n      <td>1</td>\n    </tr>\n    <tr>\n      <th>...</th>\n      <td>...</td>\n      <td>...</td>\n      <td>...</td>\n      <td>...</td>\n      <td>...</td>\n      <td>...</td>\n      <td>...</td>\n      <td>...</td>\n      <td>...</td>\n      <td>...</td>\n      <td>...</td>\n      <td>...</td>\n      <td>...</td>\n      <td>...</td>\n      <td>...</td>\n      <td>...</td>\n      <td>...</td>\n      <td>...</td>\n      <td>...</td>\n      <td>...</td>\n      <td>...</td>\n    </tr>\n    <tr>\n      <th>986</th>\n      <td>998</td>\n      <td>asus</td>\n      <td>Asus Vivobook Pro 15 M6500QC-HN542WS Laptop (R...</td>\n      <td>65990</td>\n      <td>68</td>\n      <td>amd</td>\n      <td>ryzen 5</td>\n      <td>6</td>\n      <td>12</td>\n      <td>16</td>\n      <td>...</td>\n      <td>No secondary storage</td>\n      <td>0</td>\n      <td>nvidia</td>\n      <td>dedicated</td>\n      <td>False</td>\n      <td>15.6</td>\n      <td>1920</td>\n      <td>1080</td>\n      <td>windows</td>\n      <td>1</td>\n    </tr>\n    <tr>\n      <th>987</th>\n      <td>999</td>\n      <td>msi</td>\n      <td>MSI Thin GF63 12VE-070IN Gaming Laptop (12th G...</td>\n      <td>91990</td>\n      <td>73</td>\n      <td>intel</td>\n      <td>core i7</td>\n      <td>10</td>\n      <td>16</td>\n      <td>16</td>\n      <td>...</td>\n      <td>No secondary storage</td>\n      <td>0</td>\n      <td>nvidia</td>\n      <td>dedicated</td>\n      <td>False</td>\n      <td>15.6</td>\n      <td>1920</td>\n      <td>1080</td>\n      <td>windows</td>\n      <td>2</td>\n    </tr>\n    <tr>\n      <th>988</th>\n      <td>1000</td>\n      <td>asus</td>\n      <td>Asus Vivobook Go 15 2023 E1504FA-NJ522WS Lapto...</td>\n      <td>44990</td>\n      <td>59</td>\n      <td>amd</td>\n      <td>ryzen 5</td>\n      <td>4</td>\n      <td>8</td>\n      <td>8</td>\n      <td>...</td>\n      <td>No secondary storage</td>\n      <td>0</td>\n      <td>amd</td>\n      <td>integrated</td>\n      <td>False</td>\n      <td>15.6</td>\n      <td>1920</td>\n      <td>1080</td>\n      <td>windows</td>\n      <td>1</td>\n    </tr>\n    <tr>\n      <th>989</th>\n      <td>1001</td>\n      <td>asus</td>\n      <td>Asus Zenbook 14 2023 UM3402YA-KP541WS Laptop (...</td>\n      <td>67990</td>\n      <td>68</td>\n      <td>amd</td>\n      <td>ryzen 5</td>\n      <td>6</td>\n      <td>12</td>\n      <td>16</td>\n      <td>...</td>\n      <td>No secondary storage</td>\n      <td>0</td>\n      <td>amd</td>\n      <td>integrated</td>\n      <td>False</td>\n      <td>14.0</td>\n      <td>2560</td>\n      <td>1600</td>\n      <td>windows</td>\n      <td>1</td>\n    </tr>\n    <tr>\n      <th>990</th>\n      <td>1002</td>\n      <td>hp</td>\n      <td>HP Chromebook 15a-na0008TU Laptop (Intel Celer...</td>\n      <td>20990</td>\n      <td>37</td>\n      <td>intel</td>\n      <td>celeron</td>\n      <td>2</td>\n      <td>2</td>\n      <td>4</td>\n      <td>...</td>\n      <td>No secondary storage</td>\n      <td>0</td>\n      <td>intel</td>\n      <td>integrated</td>\n      <td>False</td>\n      <td>15.6</td>\n      <td>1366</td>\n      <td>768</td>\n      <td>chrome</td>\n      <td>1</td>\n    </tr>\n  </tbody>\n</table>\n<p>991 rows × 22 columns</p>\n</div>"
     },
     "execution_count": 66,
     "metadata": {},
     "output_type": "execute_result"
    }
   ],
   "source": [
    "data_laptop = pd.read_csv('laptops.csv')\n",
    "data_laptop"
   ],
   "metadata": {
    "collapsed": false,
    "ExecuteTime": {
     "end_time": "2024-03-19T12:59:01.113616Z",
     "start_time": "2024-03-19T12:59:01.070324Z"
    }
   },
   "id": "b3bb18fdc00d5440",
   "execution_count": 66
  },
  {
   "cell_type": "code",
   "outputs": [
    {
     "data": {
      "text/plain": "     index    brand                                              Model  \\\n0        1    tecno  Tecno Megabook T1 Laptop (11th Gen Core i3/ 8G...   \n1        2    tecno  Tecno Megabook T1 Laptop (11th Gen Core i7/ 16...   \n3        4     acer  Acer Extensa EX214-53 Laptop (12th Gen Core i5...   \n6        7  infinix  Infinix INBook Y2 Plus Laptop (11th Gen Core i...   \n7        8     asus  Asus TUF Gaming F15 FX506HF-HN024W Gaming Lapt...   \n..     ...      ...                                                ...   \n978    990      msi  MSI Modern 14 C13M-437IN Laptop (13th Gen Core...   \n979    991       hp  HP Spectre x360 14-ef0075TU Laptop (12th Gen C...   \n981    993      msi  MSI Katana 15 B13VFK-296IN Gaming Laptop (13th...   \n987    999      msi  MSI Thin GF63 12VE-070IN Gaming Laptop (12th G...   \n990   1002       hp  HP Chromebook 15a-na0008TU Laptop (Intel Celer...   \n\n      Price  Rating processor_brand processor_tier  num_cores  num_threads  \\\n0     23990      63           intel        core i3          2            4   \n1     35990      67           intel        core i7          4            8   \n3     39990      62           intel        core i5         12           16   \n6     34990      56           intel        core i5          4            8   \n7     49990      70           intel        core i5          6           12   \n..      ...     ...             ...            ...        ...          ...   \n978   40990      56           intel        core i5         10           12   \n979  154999      73           intel        core i7         10           12   \n981  119990      76           intel        core i7         10           16   \n987   91990      73           intel        core i7         10           16   \n990   20990      37           intel        celeron          2            2   \n\n     ram_memory  ... secondary_storage_capacity  gpu_brand    gpu_type  \\\n0             8  ...                          0      intel  integrated   \n1            16  ...                          0      intel  integrated   \n3             8  ...                          0      intel  integrated   \n6            16  ...                          0      intel  integrated   \n7             8  ...                          0     nvidia   dedicated   \n..          ...  ...                        ...        ...         ...   \n978           8  ...                          0      intel  integrated   \n979          16  ...                          0      intel  integrated   \n981          16  ...                          0     nvidia   dedicated   \n987          16  ...                          0     nvidia   dedicated   \n990           4  ...                          0      intel  integrated   \n\n     is_touch_screen display_size resolution_width  resolution_height  \\\n0              False         15.6             1920               1080   \n1              False         15.6             1920               1080   \n3              False         14.0             1920               1080   \n6              False         15.6             1920               1080   \n7              False         15.6             1920               1080   \n..               ...          ...              ...                ...   \n978            False         14.0             1920               1080   \n979             True         13.5             3000               2000   \n981            False         15.6             1920               1080   \n987            False         15.6             1920               1080   \n990            False         15.6             1366                768   \n\n          OS  year_of_warranty  pattern_res  \n0    windows                 1            0  \n1    windows                 1            0  \n3    windows                 1            0  \n6    windows                 1            0  \n7    windows                 1            0  \n..       ...               ...          ...  \n978  windows                 1            0  \n979  windows                 1            0  \n981  windows                 2            0  \n987  windows                 2            0  \n990   chrome                 1            0  \n\n[712 rows x 23 columns]",
      "text/html": "<div>\n<style scoped>\n    .dataframe tbody tr th:only-of-type {\n        vertical-align: middle;\n    }\n\n    .dataframe tbody tr th {\n        vertical-align: top;\n    }\n\n    .dataframe thead th {\n        text-align: right;\n    }\n</style>\n<table border=\"1\" class=\"dataframe\">\n  <thead>\n    <tr style=\"text-align: right;\">\n      <th></th>\n      <th>index</th>\n      <th>brand</th>\n      <th>Model</th>\n      <th>Price</th>\n      <th>Rating</th>\n      <th>processor_brand</th>\n      <th>processor_tier</th>\n      <th>num_cores</th>\n      <th>num_threads</th>\n      <th>ram_memory</th>\n      <th>...</th>\n      <th>secondary_storage_capacity</th>\n      <th>gpu_brand</th>\n      <th>gpu_type</th>\n      <th>is_touch_screen</th>\n      <th>display_size</th>\n      <th>resolution_width</th>\n      <th>resolution_height</th>\n      <th>OS</th>\n      <th>year_of_warranty</th>\n      <th>pattern_res</th>\n    </tr>\n  </thead>\n  <tbody>\n    <tr>\n      <th>0</th>\n      <td>1</td>\n      <td>tecno</td>\n      <td>Tecno Megabook T1 Laptop (11th Gen Core i3/ 8G...</td>\n      <td>23990</td>\n      <td>63</td>\n      <td>intel</td>\n      <td>core i3</td>\n      <td>2</td>\n      <td>4</td>\n      <td>8</td>\n      <td>...</td>\n      <td>0</td>\n      <td>intel</td>\n      <td>integrated</td>\n      <td>False</td>\n      <td>15.6</td>\n      <td>1920</td>\n      <td>1080</td>\n      <td>windows</td>\n      <td>1</td>\n      <td>0</td>\n    </tr>\n    <tr>\n      <th>1</th>\n      <td>2</td>\n      <td>tecno</td>\n      <td>Tecno Megabook T1 Laptop (11th Gen Core i7/ 16...</td>\n      <td>35990</td>\n      <td>67</td>\n      <td>intel</td>\n      <td>core i7</td>\n      <td>4</td>\n      <td>8</td>\n      <td>16</td>\n      <td>...</td>\n      <td>0</td>\n      <td>intel</td>\n      <td>integrated</td>\n      <td>False</td>\n      <td>15.6</td>\n      <td>1920</td>\n      <td>1080</td>\n      <td>windows</td>\n      <td>1</td>\n      <td>0</td>\n    </tr>\n    <tr>\n      <th>3</th>\n      <td>4</td>\n      <td>acer</td>\n      <td>Acer Extensa EX214-53 Laptop (12th Gen Core i5...</td>\n      <td>39990</td>\n      <td>62</td>\n      <td>intel</td>\n      <td>core i5</td>\n      <td>12</td>\n      <td>16</td>\n      <td>8</td>\n      <td>...</td>\n      <td>0</td>\n      <td>intel</td>\n      <td>integrated</td>\n      <td>False</td>\n      <td>14.0</td>\n      <td>1920</td>\n      <td>1080</td>\n      <td>windows</td>\n      <td>1</td>\n      <td>0</td>\n    </tr>\n    <tr>\n      <th>6</th>\n      <td>7</td>\n      <td>infinix</td>\n      <td>Infinix INBook Y2 Plus Laptop (11th Gen Core i...</td>\n      <td>34990</td>\n      <td>56</td>\n      <td>intel</td>\n      <td>core i5</td>\n      <td>4</td>\n      <td>8</td>\n      <td>16</td>\n      <td>...</td>\n      <td>0</td>\n      <td>intel</td>\n      <td>integrated</td>\n      <td>False</td>\n      <td>15.6</td>\n      <td>1920</td>\n      <td>1080</td>\n      <td>windows</td>\n      <td>1</td>\n      <td>0</td>\n    </tr>\n    <tr>\n      <th>7</th>\n      <td>8</td>\n      <td>asus</td>\n      <td>Asus TUF Gaming F15 FX506HF-HN024W Gaming Lapt...</td>\n      <td>49990</td>\n      <td>70</td>\n      <td>intel</td>\n      <td>core i5</td>\n      <td>6</td>\n      <td>12</td>\n      <td>8</td>\n      <td>...</td>\n      <td>0</td>\n      <td>nvidia</td>\n      <td>dedicated</td>\n      <td>False</td>\n      <td>15.6</td>\n      <td>1920</td>\n      <td>1080</td>\n      <td>windows</td>\n      <td>1</td>\n      <td>0</td>\n    </tr>\n    <tr>\n      <th>...</th>\n      <td>...</td>\n      <td>...</td>\n      <td>...</td>\n      <td>...</td>\n      <td>...</td>\n      <td>...</td>\n      <td>...</td>\n      <td>...</td>\n      <td>...</td>\n      <td>...</td>\n      <td>...</td>\n      <td>...</td>\n      <td>...</td>\n      <td>...</td>\n      <td>...</td>\n      <td>...</td>\n      <td>...</td>\n      <td>...</td>\n      <td>...</td>\n      <td>...</td>\n      <td>...</td>\n    </tr>\n    <tr>\n      <th>978</th>\n      <td>990</td>\n      <td>msi</td>\n      <td>MSI Modern 14 C13M-437IN Laptop (13th Gen Core...</td>\n      <td>40990</td>\n      <td>56</td>\n      <td>intel</td>\n      <td>core i5</td>\n      <td>10</td>\n      <td>12</td>\n      <td>8</td>\n      <td>...</td>\n      <td>0</td>\n      <td>intel</td>\n      <td>integrated</td>\n      <td>False</td>\n      <td>14.0</td>\n      <td>1920</td>\n      <td>1080</td>\n      <td>windows</td>\n      <td>1</td>\n      <td>0</td>\n    </tr>\n    <tr>\n      <th>979</th>\n      <td>991</td>\n      <td>hp</td>\n      <td>HP Spectre x360 14-ef0075TU Laptop (12th Gen C...</td>\n      <td>154999</td>\n      <td>73</td>\n      <td>intel</td>\n      <td>core i7</td>\n      <td>10</td>\n      <td>12</td>\n      <td>16</td>\n      <td>...</td>\n      <td>0</td>\n      <td>intel</td>\n      <td>integrated</td>\n      <td>True</td>\n      <td>13.5</td>\n      <td>3000</td>\n      <td>2000</td>\n      <td>windows</td>\n      <td>1</td>\n      <td>0</td>\n    </tr>\n    <tr>\n      <th>981</th>\n      <td>993</td>\n      <td>msi</td>\n      <td>MSI Katana 15 B13VFK-296IN Gaming Laptop (13th...</td>\n      <td>119990</td>\n      <td>76</td>\n      <td>intel</td>\n      <td>core i7</td>\n      <td>10</td>\n      <td>16</td>\n      <td>16</td>\n      <td>...</td>\n      <td>0</td>\n      <td>nvidia</td>\n      <td>dedicated</td>\n      <td>False</td>\n      <td>15.6</td>\n      <td>1920</td>\n      <td>1080</td>\n      <td>windows</td>\n      <td>2</td>\n      <td>0</td>\n    </tr>\n    <tr>\n      <th>987</th>\n      <td>999</td>\n      <td>msi</td>\n      <td>MSI Thin GF63 12VE-070IN Gaming Laptop (12th G...</td>\n      <td>91990</td>\n      <td>73</td>\n      <td>intel</td>\n      <td>core i7</td>\n      <td>10</td>\n      <td>16</td>\n      <td>16</td>\n      <td>...</td>\n      <td>0</td>\n      <td>nvidia</td>\n      <td>dedicated</td>\n      <td>False</td>\n      <td>15.6</td>\n      <td>1920</td>\n      <td>1080</td>\n      <td>windows</td>\n      <td>2</td>\n      <td>0</td>\n    </tr>\n    <tr>\n      <th>990</th>\n      <td>1002</td>\n      <td>hp</td>\n      <td>HP Chromebook 15a-na0008TU Laptop (Intel Celer...</td>\n      <td>20990</td>\n      <td>37</td>\n      <td>intel</td>\n      <td>celeron</td>\n      <td>2</td>\n      <td>2</td>\n      <td>4</td>\n      <td>...</td>\n      <td>0</td>\n      <td>intel</td>\n      <td>integrated</td>\n      <td>False</td>\n      <td>15.6</td>\n      <td>1366</td>\n      <td>768</td>\n      <td>chrome</td>\n      <td>1</td>\n      <td>0</td>\n    </tr>\n  </tbody>\n</table>\n<p>712 rows × 23 columns</p>\n</div>"
     },
     "execution_count": 67,
     "metadata": {},
     "output_type": "execute_result"
    }
   ],
   "source": [
    "pattern = r'/s+(AMD)/s+'\n",
    "def find_str(x):\n",
    "    pattern = r'(\\s+\\((AMD|Apple|Ryzen)\\s+)|(\\s+i\\d\\/|\\s)|(Core\\s)'\n",
    "    return re.findall(pattern=pattern,string=x)\n",
    "\n",
    "def unpacking(x):\n",
    "    pattern = r'AMD|Apple|Ryzen|i\\d'\n",
    "    x = str(x)\n",
    "    answer = re.search(pattern=pattern,string=x)\n",
    "    if answer is None:\n",
    "        return 0\n",
    "    else:\n",
    "        return answer.group(0)\n",
    "\n",
    "data_laptop['pattern_res'] = data_laptop['Model'].apply(lambda x: find_str(x))\n",
    "result_line = data_laptop['pattern_res'].apply(lambda x: True if len(x)==0 else False )\n",
    "data_laptop['pattern_res'] = data_laptop['pattern_res'].apply(lambda x: unpacking(x))\n",
    "data_laptop[data_laptop['pattern_res'] == 0]"
   ],
   "metadata": {
    "collapsed": false,
    "ExecuteTime": {
     "end_time": "2024-03-19T12:59:02.526630Z",
     "start_time": "2024-03-19T12:59:02.452659Z"
    }
   },
   "id": "340d6ab24b5570a2",
   "execution_count": 67
  },
  {
   "cell_type": "code",
   "outputs": [
    {
     "name": "stdout",
     "output_type": "stream",
     "text": [
      "root\n",
      " |-- index: long (nullable = true)\n",
      " |-- brand: string (nullable = true)\n",
      " |-- Model: string (nullable = true)\n",
      " |-- Price: long (nullable = true)\n",
      " |-- Rating: long (nullable = true)\n",
      " |-- processor_brand: string (nullable = true)\n",
      " |-- processor_tier: string (nullable = true)\n",
      " |-- num_cores: long (nullable = true)\n",
      " |-- num_threads: long (nullable = true)\n",
      " |-- ram_memory: long (nullable = true)\n",
      " |-- primary_storage_type: string (nullable = true)\n",
      " |-- primary_storage_capacity: long (nullable = true)\n",
      " |-- secondary_storage_type: string (nullable = true)\n",
      " |-- secondary_storage_capacity: long (nullable = true)\n",
      " |-- gpu_brand: string (nullable = true)\n",
      " |-- gpu_type: string (nullable = true)\n",
      " |-- is_touch_screen: boolean (nullable = true)\n",
      " |-- display_size: double (nullable = true)\n",
      " |-- resolution_width: long (nullable = true)\n",
      " |-- resolution_height: long (nullable = true)\n",
      " |-- OS: string (nullable = true)\n",
      " |-- year_of_warranty: string (nullable = true)\n",
      " |-- pattern_res: string (nullable = true)\n",
      "+-----+-------+--------------------+------+------+---------------+--------------+---------+-----------+----------+--------------------+------------------------+----------------------+--------------------------+---------+----------+---------------+------------+----------------+-----------------+-------+----------------+-----------+\n",
      "|index|  brand|               Model| Price|Rating|processor_brand|processor_tier|num_cores|num_threads|ram_memory|primary_storage_type|primary_storage_capacity|secondary_storage_type|secondary_storage_capacity|gpu_brand|  gpu_type|is_touch_screen|display_size|resolution_width|resolution_height|     OS|year_of_warranty|pattern_res|\n",
      "+-----+-------+--------------------+------+------+---------------+--------------+---------+-----------+----------+--------------------+------------------------+----------------------+--------------------------+---------+----------+---------------+------------+----------------+-----------------+-------+----------------+-----------+\n",
      "|    1|  tecno|Tecno Megabook T1...| 23990|    63|          intel|       core i3|        2|          4|         8|                 SSD|                     512|  No secondary storage|                         0|    intel|integrated|          false|        15.6|            1920|             1080|windows|               1|          0|\n",
      "|    2|  tecno|Tecno Megabook T1...| 35990|    67|          intel|       core i7|        4|          8|        16|                 SSD|                    1024|  No secondary storage|                         0|    intel|integrated|          false|        15.6|            1920|             1080|windows|               1|          0|\n",
      "|    3|     hp|HP Victus 15-fb01...| 51100|    73|            amd|       ryzen 5|        6|         12|         8|                 SSD|                     512|  No secondary storage|                         0|      amd| dedicated|          false|        15.6|            1920|             1080|windows|               1|        AMD|\n",
      "|    4|   acer|Acer Extensa EX21...| 39990|    62|          intel|       core i5|       12|         16|         8|                 SSD|                     512|  No secondary storage|                         0|    intel|integrated|          false|        14.0|            1920|             1080|windows|               1|          0|\n",
      "|    5| lenovo|Lenovo V15 82KDA0...| 28580|    62|            amd|       ryzen 3|        4|          8|         8|                 SSD|                     512|  No secondary storage|                         0|      amd|integrated|          false|        15.6|            1920|             1080|windows|               1|        AMD|\n",
      "|    6|  apple|Apple MacBook Air...| 70990|    45|          apple|            m1|        8|          8|         8|                 SSD|                     256|  No secondary storage|                         0|    apple|     apple|          false|        13.3|            2560|             1600|    mac|               1|      Apple|\n",
      "|    7|infinix|Infinix INBook Y2...| 34990|    56|          intel|       core i5|        4|          8|        16|                 SSD|                     512|  No secondary storage|                         0|    intel|integrated|          false|        15.6|            1920|             1080|windows|               1|          0|\n",
      "|    8|   asus|Asus TUF Gaming F...| 49990|    70|          intel|       core i5|        6|         12|         8|                 SSD|                     512|  No secondary storage|                         0|   nvidia| dedicated|          false|        15.6|            1920|             1080|windows|               1|          0|\n",
      "|    9|     hp|HP 15s-fq5007TU L...| 36990|    60|          intel|       core i3|        6|          8|         8|                 SSD|                     512|  No secondary storage|                         0|    intel|integrated|          false|        15.6|            1920|             1080|windows|               1|          0|\n",
      "|   10|infinix|Infinix Zerobook ...| 59990|    71|          intel|       core i9|       14|         20|        32|                 SSD|                    1024|  No secondary storage|                         0|    intel|integrated|          false|        15.6|            1920|             1080|windows|               1|          0|\n",
      "|   11|   dell|Dell Inspiron 352...| 34990|    60|          intel|       core i3|        6|          8|         8|                 SSD|                     512|  No secondary storage|                         0|    intel|integrated|          false|        15.6|            1920|             1080|windows|               1|          0|\n",
      "|   12|samsung|Samsung Galaxy Bo...| 64990|    68|          intel|       core i5|       12|         16|        16|                 SSD|                     512|  No secondary storage|                         0|    intel|integrated|          false|        13.3|            1080|             1920|windows|               1|          0|\n",
      "|   13|    msi|MSI Thin GF63 12U...| 52990|    71|          intel|       core i5|        8|         12|        16|                 SSD|                     512|  No secondary storage|                         0|   nvidia| dedicated|          false|        15.6|            1920|             1080|windows|               2|          0|\n",
      "|   14|   asus|Asus Vivobook 16X...| 57390|    71|            amd|       ryzen 7|        8|         16|        16|                 SSD|                     512|  No secondary storage|                         0|      amd|integrated|          false|        16.0|            1920|             1200|windows|               1|      Ryzen|\n",
      "|   15| lenovo|Lenovo IdeaPad Sl...| 47490|    66|          intel|       core i5|        4|          8|        16|                 SSD|                     512|  No secondary storage|                         0|    intel|integrated|          false|        15.6|            1920|             1080|windows|               1|          0|\n",
      "|   16|     hp|HP Omen 16-wf1025...|153990|    85|          intel|       core i7|       20|         28|        16|                 SSD|                    1024|  No secondary storage|                         0|   nvidia| dedicated|          false|        16.1|            2560|             1440|windows|               1|          0|\n",
      "|   17| lenovo|Lenovo V15 G3 IAP...| 49990|    59|          intel|       core i7|       10|         12|        16|                 SSD|                     512|  No secondary storage|                         0|    intel|integrated|          false|        15.6|            1920|             1080|windows|               1|          0|\n",
      "|   18|   asus|Asus TUF Gaming F...| 75990|    76|          intel|       core i7|        8|         16|        16|                 SSD|                    1024|  No secondary storage|                         0|   nvidia| dedicated|          false|        15.6|            1920|             1080|windows|               1|          0|\n",
      "|   19|     hp|HP Victus 15-fb10...| 55490|    71|            amd|       ryzen 5|        6|         12|        16|                 SSD|                     512|  No secondary storage|                         0|   nvidia| dedicated|          false|        15.6|            1920|             1080|windows|               1|        AMD|\n",
      "|   20|  wings|Wings Nuvobook V1...| 27990|    56|          intel|       core i5|        4|          8|         8|                 SSD|                     512|  No secondary storage|                         0|    intel|integrated|          false|        15.6|            1080|             1920|windows|               1|          0|\n",
      "+-----+-------+--------------------+------+------+---------------+--------------+---------+-----------+----------+--------------------+------------------------+----------------------+--------------------------+---------+----------+---------------+------------+----------------+-----------------+-------+----------------+-----------+\n",
      "only showing top 20 rows\n"
     ]
    }
   ],
   "source": [
    "df = spark.createDataFrame(data_laptop)\n",
    "df.createOrReplaceTempView(\"DATA\")\n",
    "df.printSchema()\n",
    "df.show()"
   ],
   "metadata": {
    "collapsed": false,
    "ExecuteTime": {
     "end_time": "2024-03-19T12:59:05.261291Z",
     "start_time": "2024-03-19T12:59:03.064801Z"
    }
   },
   "id": "f15c024c4ae7156a",
   "execution_count": 68
  },
  {
   "cell_type": "code",
   "outputs": [
    {
     "name": "stdout",
     "output_type": "stream",
     "text": [
      "+--------------+-----+---------+\n",
      "|processor_tier|price|avg_price|\n",
      "+--------------+-----+---------+\n",
      "|       celeron|26990| 23138.55|\n",
      "|       celeron|15990| 23138.55|\n",
      "|       celeron|11990| 23138.55|\n",
      "|       celeron|14990| 23138.55|\n",
      "|       celeron|17990| 23138.55|\n",
      "|       celeron|25790| 23138.55|\n",
      "|       celeron|24990| 23138.55|\n",
      "|       celeron|19421| 23138.55|\n",
      "|       celeron|32825| 23138.55|\n",
      "|       celeron|30199| 23138.55|\n",
      "|       celeron|20999| 23138.55|\n",
      "|       celeron|27990| 23138.55|\n",
      "|       celeron|23990| 23138.55|\n",
      "|       celeron|16490| 23138.55|\n",
      "|       celeron|14990| 23138.55|\n",
      "|       celeron|20990| 23138.55|\n",
      "|       celeron|28990| 23138.55|\n",
      "|       celeron|25490| 23138.55|\n",
      "|       celeron|28190| 23138.55|\n",
      "|       celeron|27990| 23138.55|\n",
      "+--------------+-----+---------+\n"
     ]
    }
   ],
   "source": [
    "# 15 \n",
    "spark.sql('''\n",
    "    \n",
    "    SELECT \n",
    "        processor_tier\n",
    "        ,price\n",
    "    \n",
    "        ,AVG (price) over (PARTITION by processor_tier) AS avg_price\n",
    "\n",
    "    FROM \n",
    "        DATA\n",
    "\n",
    "''') \\\n",
    "    .show(20)"
   ],
   "metadata": {
    "collapsed": false,
    "ExecuteTime": {
     "end_time": "2024-03-19T12:59:15.457769Z",
     "start_time": "2024-03-19T12:59:05.265291Z"
    }
   },
   "id": "6f19cea0e492e996",
   "execution_count": 69
  },
  {
   "cell_type": "code",
   "outputs": [
    {
     "name": "stdout",
     "output_type": "stream",
     "text": [
      "+--------------+------------------+\n",
      "|processor_tier|         price_avg|\n",
      "+--------------+------------------+\n",
      "|       celeron|          23138.55|\n",
      "|       core i3|38412.984251968504|\n",
      "|       core i5| 66845.15820895522|\n",
      "|       core i7|117426.29559748428|\n",
      "|       core i9| 236658.8108108108|\n",
      "|  core ultra 7|178046.66666666666|\n",
      "|            m1|           70990.0|\n",
      "|            m2|124656.66666666667|\n",
      "|            m3|          261150.0|\n",
      "|         other|           21855.0|\n",
      "|       pentium|           30598.0|\n",
      "|       ryzen 3| 31667.25806451613|\n",
      "|       ryzen 5| 53927.65467625899|\n",
      "|       ryzen 7| 86739.02597402598|\n",
      "|       ryzen 9|165071.66666666666|\n",
      "+--------------+------------------+\n"
     ]
    }
   ],
   "source": [
    "# 16\n",
    "spark.sql('''\n",
    "    WITH temp_data AS ( \n",
    "        SELECT \n",
    "            processor_tier,\n",
    "            AVG(price) as price_avg\n",
    "        FROM \n",
    "            DATA\n",
    "        GROUP BY\n",
    "            processor_tier\n",
    "    )\n",
    "    \n",
    "    SELECT processor_tier, price_avg\n",
    "    FROM temp_data\n",
    "    ORDER BY processor_tier\n",
    "''') \\\n",
    "    .show(20)"
   ],
   "metadata": {
    "collapsed": false,
    "ExecuteTime": {
     "end_time": "2024-03-19T12:59:25.872304Z",
     "start_time": "2024-03-19T12:59:15.460622Z"
    }
   },
   "id": "ce9d56a3f95a4c55",
   "execution_count": 70
  },
  {
   "cell_type": "code",
   "outputs": [
    {
     "name": "stdout",
     "output_type": "stream",
     "text": [
      "+--------------+-----+---------+\n",
      "|processor_tier|price|avg_price|\n",
      "+--------------+-----+---------+\n",
      "|       celeron|26990| 23138.55|\n",
      "|       celeron|15990| 23138.55|\n",
      "|       celeron|11990| 23138.55|\n",
      "|       celeron|14990| 23138.55|\n",
      "|       celeron|17990| 23138.55|\n",
      "|       celeron|25790| 23138.55|\n",
      "|       celeron|24990| 23138.55|\n",
      "|       celeron|19421| 23138.55|\n",
      "|       celeron|32825| 23138.55|\n",
      "|       celeron|30199| 23138.55|\n",
      "|       celeron|20999| 23138.55|\n",
      "|       celeron|27990| 23138.55|\n",
      "|       celeron|23990| 23138.55|\n",
      "|       celeron|16490| 23138.55|\n",
      "|       celeron|14990| 23138.55|\n",
      "|       celeron|20990| 23138.55|\n",
      "|       celeron|28990| 23138.55|\n",
      "|       celeron|25490| 23138.55|\n",
      "|       celeron|28190| 23138.55|\n",
      "|       celeron|27990| 23138.55|\n",
      "+--------------+-----+---------+\n"
     ]
    }
   ],
   "source": [
    "#17\n",
    "spark.sql('''\n",
    "    \n",
    "    SELECT \n",
    "    processor_tier,\n",
    "    price,\n",
    "    avg_price\n",
    "    FROM (\n",
    "        SELECT \n",
    "            processor_tier,\n",
    "            price,\n",
    "            AVG(price) OVER (PARTITION BY processor_tier) AS avg_price\n",
    "        FROM \n",
    "            DATA\n",
    "    ) AS subquery\n",
    "    WHERE avg_price < 200000\n",
    "''') \\\n",
    "    .show(20)"
   ],
   "metadata": {
    "collapsed": false,
    "ExecuteTime": {
     "end_time": "2024-03-19T13:01:02.408514Z",
     "start_time": "2024-03-19T13:00:52.950835Z"
    }
   },
   "id": "f306a13b5e252735",
   "execution_count": 76
  },
  {
   "cell_type": "code",
   "outputs": [
    {
     "name": "stdout",
     "output_type": "stream",
     "text": [
      "+-----+-------+--------------------+------+------+---------------+--------------+---------+-----------+----------+--------------------+------------------------+----------------------+--------------------------+---------+----------+---------------+------------+----------------+-----------------+-------+----------------+-----------+------------------+\n",
      "|index|  brand|               Model| Price|Rating|processor_brand|processor_tier|num_cores|num_threads|ram_memory|primary_storage_type|primary_storage_capacity|secondary_storage_type|secondary_storage_capacity|gpu_brand|  gpu_type|is_touch_screen|display_size|resolution_width|resolution_height|     OS|year_of_warranty|pattern_res|         price_avg|\n",
      "+-----+-------+--------------------+------+------+---------------+--------------+---------+-----------+----------+--------------------+------------------------+----------------------+--------------------------+---------+----------+---------------+------------+----------------+-----------------+-------+----------------+-----------+------------------+\n",
      "|    2|  tecno|Tecno Megabook T1...| 35990|    67|          intel|       core i7|        4|          8|        16|                 SSD|                    1024|  No secondary storage|                         0|    intel|integrated|          false|        15.6|            1920|             1080|windows|               1|          0|117426.29559748428|\n",
      "|   16|     hp|HP Omen 16-wf1025...|153990|    85|          intel|       core i7|       20|         28|        16|                 SSD|                    1024|  No secondary storage|                         0|   nvidia| dedicated|          false|        16.1|            2560|             1440|windows|               1|          0|117426.29559748428|\n",
      "|   17| lenovo|Lenovo V15 G3 IAP...| 49990|    59|          intel|       core i7|       10|         12|        16|                 SSD|                     512|  No secondary storage|                         0|    intel|integrated|          false|        15.6|            1920|             1080|windows|               1|          0|117426.29559748428|\n",
      "|   18|   asus|Asus TUF Gaming F...| 75990|    76|          intel|       core i7|        8|         16|        16|                 SSD|                    1024|  No secondary storage|                         0|   nvidia| dedicated|          false|        15.6|            1920|             1080|windows|               1|          0|117426.29559748428|\n",
      "|   31|    msi|MSI GF63 Thin 11U...| 66780|    76|          intel|       core i7|        8|         16|        16|                 HDD|                    1024|                   SSD|                       256|   nvidia| dedicated|          false|        15.6|            1920|             1080|windows|  No information|          0|117426.29559748428|\n",
      "|   62|     hp|HP Omen 16-u0005T...|147990|    80|          intel|       core i7|       16|         24|        16|                 SSD|                    1024|  No secondary storage|                         0|   nvidia| dedicated|          false|        16.1|            2560|             1600|windows|               1|          0|117426.29559748428|\n",
      "|   64|   dell|Dell Inspiron 543...| 86490|    66|          intel|       core i7|       12|         16|        16|                 SSD|                    1024|  No secondary storage|                         0|    intel|integrated|          false|        14.0|            1920|             1200|windows|               1|          0|117426.29559748428|\n",
      "|   65|   asus|Asus Vivobook 15 ...| 60990|    67|          intel|       core i7|       10|         16|        16|                 SSD|                     512|  No secondary storage|                         0|    intel|integrated|          false|        15.6|            1920|             1080|windows|               1|          0|117426.29559748428|\n",
      "|   69|   asus|Asus TUF Gaming F...|108990|    78|          intel|       core i7|       14|         20|        16|                 SSD|                     512|  No secondary storage|                         0|   nvidia| dedicated|          false|        15.6|            1920|             1080|windows|               1|          0|117426.29559748428|\n",
      "|    4|   acer|Acer Extensa EX21...| 39990|    62|          intel|       core i5|       12|         16|         8|                 SSD|                     512|  No secondary storage|                         0|    intel|integrated|          false|        14.0|            1920|             1080|windows|               1|          0| 66845.15820895522|\n",
      "|    7|infinix|Infinix INBook Y2...| 34990|    56|          intel|       core i5|        4|          8|        16|                 SSD|                     512|  No secondary storage|                         0|    intel|integrated|          false|        15.6|            1920|             1080|windows|               1|          0| 66845.15820895522|\n",
      "|    8|   asus|Asus TUF Gaming F...| 49990|    70|          intel|       core i5|        6|         12|         8|                 SSD|                     512|  No secondary storage|                         0|   nvidia| dedicated|          false|        15.6|            1920|             1080|windows|               1|          0| 66845.15820895522|\n",
      "|   12|samsung|Samsung Galaxy Bo...| 64990|    68|          intel|       core i5|       12|         16|        16|                 SSD|                     512|  No secondary storage|                         0|    intel|integrated|          false|        13.3|            1080|             1920|windows|               1|          0| 66845.15820895522|\n",
      "|   13|    msi|MSI Thin GF63 12U...| 52990|    71|          intel|       core i5|        8|         12|        16|                 SSD|                     512|  No secondary storage|                         0|   nvidia| dedicated|          false|        15.6|            1920|             1080|windows|               2|          0| 66845.15820895522|\n",
      "|   15| lenovo|Lenovo IdeaPad Sl...| 47490|    66|          intel|       core i5|        4|          8|        16|                 SSD|                     512|  No secondary storage|                         0|    intel|integrated|          false|        15.6|            1920|             1080|windows|               1|          0| 66845.15820895522|\n",
      "|   20|  wings|Wings Nuvobook V1...| 27990|    56|          intel|       core i5|        4|          8|         8|                 SSD|                     512|  No secondary storage|                         0|    intel|integrated|          false|        15.6|            1080|             1920|windows|               1|          0| 66845.15820895522|\n",
      "|   26|   acer|Acer Nitro V ANV1...| 77990|    63|          intel|       core i5|        8|         12|        16|                 SSD|                     512|  No secondary storage|                         0|   nvidia| dedicated|          false|        15.6|            1920|             1080|windows|               1|          0| 66845.15820895522|\n",
      "|   28|ultimus|Ultimus Elite NU1...| 19990|    54|          intel|       core i5|        4|          8|         8|                 SSD|                     512|  No secondary storage|                         0|    intel|integrated|          false|        14.1|            1920|             1080|windows|               1|          0| 66845.15820895522|\n",
      "|   30|     hp|HP Pavilion 15-eg...| 71999|    66|          intel|       core i5|       12|         16|        16|                 SSD|                     512|  No secondary storage|                         0|    intel|integrated|          false|        15.6|            1920|             1080|windows|               1|          0| 66845.15820895522|\n",
      "|   32|samsung|Samsung Galaxy Bo...| 44990|    59|          intel|       core i5|       10|         12|         8|                 SSD|                     512|  No secondary storage|                         0|    intel|integrated|          false|        15.6|            1920|             1080|windows|               1|          0| 66845.15820895522|\n",
      "+-----+-------+--------------------+------+------+---------------+--------------+---------+-----------+----------+--------------------+------------------------+----------------------+--------------------------+---------+----------+---------------+------------+----------------+-----------------+-------+----------------+-----------+------------------+\n"
     ]
    }
   ],
   "source": [
    "# 18 \n",
    "spark.sql('''\n",
    "    WITH data_temp AS (\n",
    "        SELECT \n",
    "            processor_tier\n",
    "            ,avg(price) AS price_avg       \n",
    "        FROM DATA\n",
    "        GROUP BY processor_tier\n",
    "    )    \n",
    "    SELECT \n",
    "        DATA.*\n",
    "        ,d.price_avg\n",
    "    FROM data_temp AS d\n",
    "    join DATA \n",
    "    ON  d.processor_tier == DATA.processor_tier\n",
    "''') \\\n",
    "    .show(20)"
   ],
   "metadata": {
    "collapsed": false,
    "ExecuteTime": {
     "end_time": "2024-03-19T13:01:28.052232Z",
     "start_time": "2024-03-19T13:01:09.028381Z"
    }
   },
   "id": "8cb6044de5e630fe",
   "execution_count": 77
  },
  {
   "cell_type": "code",
   "outputs": [
    {
     "name": "stdout",
     "output_type": "stream",
     "text": [
      "+-----+---------+--------------------+------+------+---------------+--------------+---------+-----------+----------+--------------------+------------------------+----------------------+--------------------------+---------+----------+---------------+------------+----------------+-----------------+-------+----------------+-----------+------------------+\n",
      "|index|    brand|               Model| Price|Rating|processor_brand|processor_tier|num_cores|num_threads|ram_memory|primary_storage_type|primary_storage_capacity|secondary_storage_type|secondary_storage_capacity|gpu_brand|  gpu_type|is_touch_screen|display_size|resolution_width|resolution_height|     OS|year_of_warranty|pattern_res|         price_avg|\n",
      "+-----+---------+--------------------+------+------+---------------+--------------+---------+-----------+----------+--------------------+------------------------+----------------------+--------------------------+---------+----------+---------------+------------+----------------+-----------------+-------+----------------+-----------+------------------+\n",
      "|    6|    apple|Apple MacBook Air...| 70990|    45|          apple|            m1|        8|          8|         8|                 SSD|                     256|  No secondary storage|                         0|    apple|     apple|          false|        13.3|            2560|             1600|    mac|               1|      Apple|193875.33333333334|\n",
      "|   23|    apple|Apple MacBook Pro...|399900|    65|          apple|            m3|       16|         16|         8|                 SSD|                    1024|  No secondary storage|                         0|    apple|     apple|          false|        16.2|            3456|             2234|    mac|               1|      Apple|193875.33333333334|\n",
      "|   36|    apple|Apple MacBook Air...|102990|    48|          apple|            m2|        8|          8|         8|                 SSD|                     256|  No secondary storage|                         0|    apple|     apple|          false|        13.6|            2560|             1664|    mac|               1|      Apple|193875.33333333334|\n",
      "|   73|    apple|Apple MacBook Air...|119990|    53|          apple|            m2|        8|          8|         8|                 SSD|                     256|  No secondary storage|                         0|    apple|     apple|          false|        15.3|            2880|             1864|    mac|               1|      Apple|193875.33333333334|\n",
      "|   11|     dell|Dell Inspiron 352...| 34990|    60|          intel|       core i3|        6|          8|         8|                 SSD|                     512|  No secondary storage|                         0|    intel|integrated|          false|        15.6|            1920|             1080|windows|               1|          0| 101701.1320754717|\n",
      "|   37|     dell|Dell G15-5520 Lap...| 68239|    66|          intel|       core i5|       12|         16|        16|                 SSD|                     512|  No secondary storage|                         0|   nvidia| dedicated|          false|        15.6|            1920|             1080|windows|               1|          0| 101701.1320754717|\n",
      "|   48|     dell|Dell G15-5530 GN5...| 81290|    71|          intel|       core i5|       10|         16|        16|                 SSD|                     512|  No secondary storage|                         0|   nvidia| dedicated|          false|        15.6|            1920|             1080|windows|               1|          0| 101701.1320754717|\n",
      "|   53|     dell|Dell Vostro 3425 ...| 39649|    66|            amd|       ryzen 5|        6|         12|         8|                 SSD|                     512|  No secondary storage|                         0|      amd|integrated|          false|        14.0|            1920|             1080|windows|               1|        AMD| 101701.1320754717|\n",
      "|   64|     dell|Dell Inspiron 543...| 86490|    66|          intel|       core i7|       12|         16|        16|                 SSD|                    1024|  No secondary storage|                         0|    intel|integrated|          false|        14.0|            1920|             1200|windows|               1|          0| 101701.1320754717|\n",
      "|   67|     dell|Dell Inspiron 563...| 72490|    70|          intel|       core i5|       12|         16|        16|                 SSD|                     512|  No secondary storage|                         0|    intel|integrated|          false|        16.0|            2560|             1600|windows|               1|          0| 101701.1320754717|\n",
      "|   77|     dell|Dell Inspiron 352...| 50000|    60|          intel|       core i5|       10|         12|         8|                 SSD|                     512|  No secondary storage|                         0|    intel|integrated|          false|        15.6|            1920|             1080|windows|               1|          0| 101701.1320754717|\n",
      "|   85|     dell|Dell G15-5530 Gam...| 83990|    72|          intel|       core i5|       10|         16|        16|                 SSD|                    1024|  No secondary storage|                         0|   nvidia| dedicated|          false|        15.6|            1920|             1080|windows|               1|          0| 101701.1320754717|\n",
      "|   76|primebook|Primebook 4G Andr...| 14990|    26|          other|         other|        8|          0|         4|                 HDD|                      64|  No secondary storage|                         0|      arm|integrated|          false|        11.6|            1366|              768|android|               1|          0|           13990.0|\n",
      "|    4|     acer|Acer Extensa EX21...| 39990|    62|          intel|       core i5|       12|         16|         8|                 SSD|                     512|  No secondary storage|                         0|    intel|integrated|          false|        14.0|            1920|             1080|windows|               1|          0| 62847.87640449438|\n",
      "|   26|     acer|Acer Nitro V ANV1...| 77990|    63|          intel|       core i5|        8|         12|        16|                 SSD|                     512|  No secondary storage|                         0|   nvidia| dedicated|          false|        15.6|            1920|             1080|windows|               1|          0| 62847.87640449438|\n",
      "|   38|     acer|Acer Aspire Lite ...| 46990|    64|          intel|       core i5|       10|         12|        16|                 SSD|                    1024|  No secondary storage|                         0|    intel|integrated|          false|        15.6|            1920|             1080|windows|               1|          0| 62847.87640449438|\n",
      "|   39|     acer|Acer Aspire Lite ...| 34990|    60|          intel|       core i3|        6|          8|        16|                 SSD|                     512|  No secondary storage|                         0|    intel|integrated|          false|        15.6|            1920|             1080|windows|               1|          0| 62847.87640449438|\n",
      "|   57|     acer|Acer Aspire Lite ...| 32990|    58|          intel|       core i3|        6|          8|         8|                 SSD|                     512|  No secondary storage|                         0|    intel|integrated|          false|        15.6|            1920|             1080|windows|               1|          0| 62847.87640449438|\n",
      "|   78|     acer|Acer Aspire 5 A51...| 56990|    71|          intel|       core i5|       12|         16|        16|                 SSD|                     512|  No secondary storage|                         0|   nvidia| dedicated|          false|        15.6|            1920|             1080|windows|               1|          0| 62847.87640449438|\n",
      "|   20|    wings|Wings Nuvobook V1...| 27990|    56|          intel|       core i5|        4|          8|         8|                 SSD|                     512|  No secondary storage|                         0|    intel|integrated|          false|        15.6|            1080|             1920|windows|               1|          0|           29990.0|\n",
      "+-----+---------+--------------------+------+------+---------------+--------------+---------+-----------+----------+--------------------+------------------------+----------------------+--------------------------+---------+----------+---------------+------------+----------------+-----------------+-------+----------------+-----------+------------------+\n"
     ]
    }
   ],
   "source": [
    "# 19 \n",
    "spark.sql('''\n",
    "    WITH data_temp AS (\n",
    "        SELECT \n",
    "            brand\n",
    "            ,avg(price) AS price_avg       \n",
    "        FROM DATA\n",
    "        GROUP BY brand\n",
    "    )    \n",
    "    SELECT \n",
    "        DATA.*\n",
    "        ,d.price_avg\n",
    "    FROM data_temp AS d\n",
    "    join DATA \n",
    "    ON  d.brand == DATA.brand\n",
    "''') \\\n",
    "    .show(20)"
   ],
   "metadata": {
    "collapsed": false,
    "ExecuteTime": {
     "end_time": "2024-03-19T13:04:57.493073Z",
     "start_time": "2024-03-19T13:04:37.407496Z"
    }
   },
   "id": "94ba50f3a8d6032d",
   "execution_count": 82
  },
  {
   "cell_type": "code",
   "outputs": [
    {
     "name": "stdout",
     "output_type": "stream",
     "text": [
      "+-----+---------+--------------------+------+------+---------------+--------------+---------+-----------+----------+--------------------+------------------------+----------------------+--------------------------+---------+----------+---------------+------------+----------------+-----------------+-------+----------------+-----------+-----------------+\n",
      "|index|    brand|               Model| Price|Rating|processor_brand|processor_tier|num_cores|num_threads|ram_memory|primary_storage_type|primary_storage_capacity|secondary_storage_type|secondary_storage_capacity|gpu_brand|  gpu_type|is_touch_screen|display_size|resolution_width|resolution_height|     OS|year_of_warranty|pattern_res|       rating_avg|\n",
      "+-----+---------+--------------------+------+------+---------------+--------------+---------+-----------+----------+--------------------+------------------------+----------------------+--------------------------+---------+----------+---------------+------------+----------------+-----------------+-------+----------------+-----------+-----------------+\n",
      "|    6|    apple|Apple MacBook Air...| 70990|    45|          apple|            m1|        8|          8|         8|                 SSD|                     256|  No secondary storage|                         0|    apple|     apple|          false|        13.3|            2560|             1600|    mac|               1|      Apple|53.53333333333333|\n",
      "|   23|    apple|Apple MacBook Pro...|399900|    65|          apple|            m3|       16|         16|         8|                 SSD|                    1024|  No secondary storage|                         0|    apple|     apple|          false|        16.2|            3456|             2234|    mac|               1|      Apple|53.53333333333333|\n",
      "|   36|    apple|Apple MacBook Air...|102990|    48|          apple|            m2|        8|          8|         8|                 SSD|                     256|  No secondary storage|                         0|    apple|     apple|          false|        13.6|            2560|             1664|    mac|               1|      Apple|53.53333333333333|\n",
      "|   73|    apple|Apple MacBook Air...|119990|    53|          apple|            m2|        8|          8|         8|                 SSD|                     256|  No secondary storage|                         0|    apple|     apple|          false|        15.3|            2880|             1864|    mac|               1|      Apple|53.53333333333333|\n",
      "|   11|     dell|Dell Inspiron 352...| 34990|    60|          intel|       core i3|        6|          8|         8|                 SSD|                     512|  No secondary storage|                         0|    intel|integrated|          false|        15.6|            1920|             1080|windows|               1|          0|64.60377358490567|\n",
      "|   37|     dell|Dell G15-5520 Lap...| 68239|    66|          intel|       core i5|       12|         16|        16|                 SSD|                     512|  No secondary storage|                         0|   nvidia| dedicated|          false|        15.6|            1920|             1080|windows|               1|          0|64.60377358490567|\n",
      "|   48|     dell|Dell G15-5530 GN5...| 81290|    71|          intel|       core i5|       10|         16|        16|                 SSD|                     512|  No secondary storage|                         0|   nvidia| dedicated|          false|        15.6|            1920|             1080|windows|               1|          0|64.60377358490567|\n",
      "|   53|     dell|Dell Vostro 3425 ...| 39649|    66|            amd|       ryzen 5|        6|         12|         8|                 SSD|                     512|  No secondary storage|                         0|      amd|integrated|          false|        14.0|            1920|             1080|windows|               1|        AMD|64.60377358490567|\n",
      "|   64|     dell|Dell Inspiron 543...| 86490|    66|          intel|       core i7|       12|         16|        16|                 SSD|                    1024|  No secondary storage|                         0|    intel|integrated|          false|        14.0|            1920|             1200|windows|               1|          0|64.60377358490567|\n",
      "|   67|     dell|Dell Inspiron 563...| 72490|    70|          intel|       core i5|       12|         16|        16|                 SSD|                     512|  No secondary storage|                         0|    intel|integrated|          false|        16.0|            2560|             1600|windows|               1|          0|64.60377358490567|\n",
      "|   77|     dell|Dell Inspiron 352...| 50000|    60|          intel|       core i5|       10|         12|         8|                 SSD|                     512|  No secondary storage|                         0|    intel|integrated|          false|        15.6|            1920|             1080|windows|               1|          0|64.60377358490567|\n",
      "|   85|     dell|Dell G15-5530 Gam...| 83990|    72|          intel|       core i5|       10|         16|        16|                 SSD|                    1024|  No secondary storage|                         0|   nvidia| dedicated|          false|        15.6|            1920|             1080|windows|               1|          0|64.60377358490567|\n",
      "|   76|primebook|Primebook 4G Andr...| 14990|    26|          other|         other|        8|          0|         4|                 HDD|                      64|  No secondary storage|                         0|      arm|integrated|          false|        11.6|            1366|              768|android|               1|          0|             28.5|\n",
      "|    4|     acer|Acer Extensa EX21...| 39990|    62|          intel|       core i5|       12|         16|         8|                 SSD|                     512|  No secondary storage|                         0|    intel|integrated|          false|        14.0|            1920|             1080|windows|               1|          0| 61.7752808988764|\n",
      "|   26|     acer|Acer Nitro V ANV1...| 77990|    63|          intel|       core i5|        8|         12|        16|                 SSD|                     512|  No secondary storage|                         0|   nvidia| dedicated|          false|        15.6|            1920|             1080|windows|               1|          0| 61.7752808988764|\n",
      "|   38|     acer|Acer Aspire Lite ...| 46990|    64|          intel|       core i5|       10|         12|        16|                 SSD|                    1024|  No secondary storage|                         0|    intel|integrated|          false|        15.6|            1920|             1080|windows|               1|          0| 61.7752808988764|\n",
      "|   39|     acer|Acer Aspire Lite ...| 34990|    60|          intel|       core i3|        6|          8|        16|                 SSD|                     512|  No secondary storage|                         0|    intel|integrated|          false|        15.6|            1920|             1080|windows|               1|          0| 61.7752808988764|\n",
      "|   57|     acer|Acer Aspire Lite ...| 32990|    58|          intel|       core i3|        6|          8|         8|                 SSD|                     512|  No secondary storage|                         0|    intel|integrated|          false|        15.6|            1920|             1080|windows|               1|          0| 61.7752808988764|\n",
      "|   78|     acer|Acer Aspire 5 A51...| 56990|    71|          intel|       core i5|       12|         16|        16|                 SSD|                     512|  No secondary storage|                         0|   nvidia| dedicated|          false|        15.6|            1920|             1080|windows|               1|          0| 61.7752808988764|\n",
      "|   20|    wings|Wings Nuvobook V1...| 27990|    56|          intel|       core i5|        4|          8|         8|                 SSD|                     512|  No secondary storage|                         0|    intel|integrated|          false|        15.6|            1080|             1920|windows|               1|          0|             53.5|\n",
      "+-----+---------+--------------------+------+------+---------------+--------------+---------+-----------+----------+--------------------+------------------------+----------------------+--------------------------+---------+----------+---------------+------------+----------------+-----------------+-------+----------------+-----------+-----------------+\n"
     ]
    }
   ],
   "source": [
    "# 20 \n",
    "spark.sql('''\n",
    "    WITH data_temp AS (\n",
    "        SELECT \n",
    "            brand\n",
    "            ,avg(rating) AS rating_avg       \n",
    "        FROM DATA\n",
    "        GROUP BY brand\n",
    "    )    \n",
    "    SELECT \n",
    "        DATA.*\n",
    "        ,d.rating_avg\n",
    "    FROM data_temp AS d\n",
    "    join DATA \n",
    "    ON  d.brand == DATA.brand\n",
    "''') \\\n",
    "    .show(20)"
   ],
   "metadata": {
    "collapsed": false,
    "ExecuteTime": {
     "end_time": "2024-03-20T14:12:49.422918Z",
     "start_time": "2024-03-20T14:12:30.159334Z"
    }
   },
   "id": "ac720b974b7370f",
   "execution_count": 83
  },
  {
   "cell_type": "code",
   "outputs": [
    {
     "name": "stdout",
     "output_type": "stream",
     "text": [
      "+---------+----------+\n",
      "|    brand|rating_avg|\n",
      "+---------+----------+\n",
      "|      jio|      24.0|\n",
      "|primebook|      28.5|\n",
      "|   walker|      37.0|\n",
      "|      axl|      37.5|\n",
      "|    iball|      41.0|\n",
      "|  ultimus|      47.5|\n",
      "|    avita|      48.2|\n",
      "|    chuwi|      51.0|\n",
      "|    wings|      53.5|\n",
      "|    apple|     53.53|\n",
      "|   realme|      57.0|\n",
      "|  infinix|     57.23|\n",
      "|microsoft|      59.0|\n",
      "|  samsung|     61.71|\n",
      "|     acer|     61.78|\n",
      "|    honor|      62.5|\n",
      "|   lenovo|     62.55|\n",
      "|       hp|     64.49|\n",
      "|     dell|      64.6|\n",
      "|zebronics|     64.86|\n",
      "+---------+----------+\n"
     ]
    }
   ],
   "source": [
    "# 21 \n",
    "spark.sql('''\n",
    "        SELECT \n",
    "            brand\n",
    "            ,ROUND(avg(rating),2) AS rating_avg       \n",
    "        FROM DATA\n",
    "        GROUP BY brand\n",
    "        ORDER BY rating_avg\n",
    "\n",
    "''') \\\n",
    "    .show(20)"
   ],
   "metadata": {
    "collapsed": false,
    "ExecuteTime": {
     "end_time": "2024-03-20T14:50:44.649668Z",
     "start_time": "2024-03-20T14:50:35.014276Z"
    }
   },
   "id": "e4b03e02fa696d44",
   "execution_count": 86
  },
  {
   "cell_type": "code",
   "outputs": [
    {
     "name": "stdout",
     "output_type": "stream",
     "text": [
      "+---------+---------+\n",
      "|    brand|price_max|\n",
      "+---------+---------+\n",
      "|    iball|     9800|\n",
      "|      jio|    14701|\n",
      "|primebook|    14990|\n",
      "|   walker|    15990|\n",
      "|      axl|    17990|\n",
      "|  ultimus|    22913|\n",
      "|    avita|    32949|\n",
      "|    chuwi|    34990|\n",
      "|    tecno|    35990|\n",
      "|    wings|    39990|\n",
      "|   realme|    42990|\n",
      "|zebronics|    52990|\n",
      "|    honor|    54990|\n",
      "|  infinix|    59990|\n",
      "| gigabyte|    89990|\n",
      "|microsoft|    97490|\n",
      "|  fujitsu|   109990|\n",
      "|  samsung|   116990|\n",
      "|       lg|   152499|\n",
      "|     acer|   249990|\n",
      "+---------+---------+\n"
     ]
    }
   ],
   "source": [
    "# 22 \n",
    "spark.sql('''\n",
    "    SELECT \n",
    "        brand,\n",
    "        ROUND(MAX(price), 2) AS price_max\n",
    "    FROM \n",
    "        DATA\n",
    "    GROUP BY \n",
    "        brand\n",
    "    ORDER BY \n",
    "        price_max;\n",
    "\n",
    "''') \\\n",
    "    .show(20)"
   ],
   "metadata": {
    "collapsed": false,
    "ExecuteTime": {
     "end_time": "2024-03-20T15:05:39.884123Z",
     "start_time": "2024-03-20T15:05:30.161960Z"
    }
   },
   "id": "5c670c32e4e69927",
   "execution_count": 92
  }
 ],
 "metadata": {
  "kernelspec": {
   "display_name": "Python 3",
   "language": "python",
   "name": "python3"
  },
  "language_info": {
   "codemirror_mode": {
    "name": "ipython",
    "version": 2
   },
   "file_extension": ".py",
   "mimetype": "text/x-python",
   "name": "python",
   "nbconvert_exporter": "python",
   "pygments_lexer": "ipython2",
   "version": "2.7.6"
  }
 },
 "nbformat": 4,
 "nbformat_minor": 5
}
