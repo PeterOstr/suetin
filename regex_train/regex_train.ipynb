{
 "cells": [
  {
   "cell_type": "code",
   "execution_count": 29,
   "id": "initial_id",
   "metadata": {
    "collapsed": true,
    "ExecuteTime": {
     "end_time": "2024-02-25T18:25:56.918450Z",
     "start_time": "2024-02-25T18:25:56.882451Z"
    }
   },
   "outputs": [],
   "source": [
    "import re\n",
    "import pandas as pd\n",
    "from pyspark.sql import SparkSession\n",
    "from pyspark.sql.functions import col, explode, split, regexp_replace\n",
    "from pyspark.sql.functions import col, split, explode, regexp_replace\n",
    "\n",
    "\n",
    "from pyspark.sql.functions import lit, col, when\n",
    "from pyspark.sql.types import StringType\n",
    "from pyspark.ml.feature import FeatureHasher\n",
    "import os\n",
    "from pyspark.sql.functions import col, when, lit, isnan\n",
    "from pyspark.sql.functions import lit, nanvl, isnan, when, avg\n",
    "import category_encoders as ce\n",
    "import pandas as pd\n",
    "import itertools\n",
    "import matplotlib.pyplot as plt\n",
    "from sklearn.preprocessing import OneHotEncoder\n",
    "from category_encoders import CatBoostEncoder\n",
    "import pickle\n",
    "from pyspark.sql import SparkSession\n",
    "from pyspark.sql.functions import pandas_udf, PandasUDFType\n",
    "from pyspark.sql.types import DoubleType, ArrayType\n",
    "import numpy as np\n",
    "import pandas as pd\n",
    "import sklearn\n",
    "sklearn.set_config(transform_output='pandas')\n",
    "from pyspark.sql.functions import array\n",
    "from pyspark.sql import functions as F\n",
    "from pyspark.sql import SparkSession, types as T\n",
    "from pyspark.sql.functions import udf\n",
    "from pyspark.sql.functions import round, sum, avg, count, min, max\n",
    "from ast import literal_eval\n",
    "\n",
    "from pyspark.sql import DataFrame\n",
    "\n",
    "from pyspark.sql import functions as sf\n",
    "from pyspark.sql.functions import udf\n",
    "from pyspark.sql.types import ArrayType, DoubleType\n",
    "import pyspark\n",
    "from pyspark.sql import SparkSession\n",
    "# from geospark.register import upload_jars\n",
    "# from geospark.register import GeoSparkRegistrator\n",
    "# from geospark.core.SpatialRDD import PolygonRDD, PointRDD\n",
    "# from geospark.core.enums import FileDataSplitter\n",
    "# from geospark.core.enums import IndexType\n",
    "# from geospark.core.geom.envelope import Envelope\n",
    "# from geospark.core.spatialOperator import RangeQuery\n",
    "# from geospark.core.formatMapper.shapefileParser import ShapefileReader\n",
    "# from geospark.sql.types import GeometryType\n",
    "# from geospark.register import sparkJVM\n",
    "# import re\n",
    "# upload_jars()\n",
    "#\n",
    "#\n",
    "#\n",
    "# spark = SparkSession.builder.appName(\"Spark_v1\")    .config(\"spark.default.parallelism\", 176*3) \\\n",
    "#     .config(\"spark.sql.shuffle.partitions\", 176*3) \\\n",
    "#     .config(\"spark.executor.memory\", \"50g\") \\\n",
    "#     .config(\"spark.executor.cores\", \"5\") \\\n",
    "#     .config(\"spark.driver.memory\", \"10g\") \\\n",
    "#     .config(\"spark.driver.maxResultSize\", \"1300g\") \\\n",
    "#     .getOrCreate()\n",
    "import os\n",
    "\n",
    "# setup arguments\n",
    "#os.environ['PYSPARK_SUBMIT_ARGS'] = '--packages org.apache.spark:spark-sql-kafka-0-10_2.11:2.4.0'\n",
    "\n",
    "# initialize spark\n",
    "import pyspark\n",
    "\n",
    "from pyspark.sql import SparkSession\n",
    "from pyspark.sql.types import StringType, BooleanType\n",
    "\n",
    "\n",
    "ram = 16\n",
    "\n",
    "spark = SparkSession. \\\n",
    "    builder. \\\n",
    "    appName('spark_first_run') \\\n",
    "    .config(\"spark.executor.memory\", f\"{ram}g\") \\\n",
    "    .config(\"spark.driver.maxResultSize\", f\"{ram}g\") \\\n",
    "    .config(\"spark.driver.memory\", f\"{ram}g\") \\\n",
    "    .config(\"spark.executor.memoryOverhead\", f\"{ram}g\") \\\n",
    "    .config(\"spark.sql.debug.maxToStringFields\", \"100000\") \\\n",
    "    .getOrCreate()\n",
    "\n",
    "\n",
    "#    .config(\"spark.driver.memory\", \"10g\") \\\n",
    "\n",
    "#    .config(\"spark.executor.memoryOverhead\", \"10g\") \\\n",
    "\n",
    "\n",
    "\n",
    "\n",
    "# Register Sedona functions to Spark\n",
    "\n",
    "\n",
    "from pyspark.sql.functions import regexp_extract\n",
    "\n",
    "\n",
    "\n",
    "\n",
    "from scipy.stats import t\n",
    "from pyspark.sql import SparkSession\n",
    "\n",
    "from pyspark.sql.functions import udf, lit\n",
    "\n",
    "import pandas as pd\n",
    "from ast import literal_eval\n",
    "import json\n",
    "from pyspark.sql.functions import udf\n",
    "import pandas as pd\n",
    "import shutil\n",
    "from pyspark.sql.functions import udf\n",
    "from pyspark.sql.functions import udf, explode\n",
    "from pyspark.sql.types import ArrayType, StructType, StructField, FloatType\n",
    "from pyspark.sql.functions import desc\n",
    "from time import sleep\n",
    "from pyspark.sql import Row\n",
    "#from pyspark.sql.functions import min, max\n",
    "from pyspark.sql.functions import col\n",
    "from pyspark.sql.functions import split, explode, lower, trim\n",
    "from pyspark.sql import SparkSession\n",
    "from pyspark.sql.functions import when, count, col\n",
    "from pyspark.sql import SparkSession\n",
    "from pyspark.sql.functions import row_number\n",
    "from pyspark.sql.window import Window\n",
    "from pyspark.sql.functions import monotonically_increasing_id\n",
    "from pyspark.sql.functions import monotonically_increasing_id, concat, col, lit, cast\n",
    "from pyspark.sql import SparkSession\n",
    "from pyspark.sql.functions import collect_list, udf\n",
    "from pyspark.sql.types import DoubleType\n",
    "from pyspark.sql import SparkSession\n",
    "from pyspark.sql.functions import initcap\n",
    "import re\n",
    "import subprocess"
   ]
  },
  {
   "cell_type": "markdown",
   "source": [
    "This is regex train notebook"
   ],
   "metadata": {
    "collapsed": false
   },
   "id": "c582e741e0005a05"
  },
  {
   "cell_type": "code",
   "outputs": [
    {
     "name": "stdout",
     "output_type": "stream",
     "text": [
      "                                       Ссылка\n",
      "0                      https://www.scribd.com\n",
      "1               https://www.scrdownloader.com\n",
      "2  http://bemowsap08v.corp.kpmgconsulting.com\n",
      "3                        https://help.sap.com\n",
      "4                        https://help.sap.com\n"
     ]
    }
   ],
   "source": [
    "\n",
    "\n",
    "# Функция для чтения текстового файла и поиска в нем веб-ссылок с помощью регулярных выражений\n",
    "def find_links_in_text_file(file_path):\n",
    "    # Открываем текстовый файл для чтения\n",
    "    with open(file_path, 'r', encoding='utf-8') as file:\n",
    "        text = file.read()\n",
    "\n",
    "    # Паттерн для поиска веб-ссылок\n",
    "    pattern = r'https?://(?:[-\\w.]|(?:%[\\da-fA-F]{2}))+'\n",
    "\n",
    "    # Находим все веб-ссылки в тексте с помощью регулярного выражения\n",
    "    links = re.findall(pattern, text)\n",
    "\n",
    "    # Создаем Pandas DataFrame для хранения найденных ссылок\n",
    "    df = pd.DataFrame(links, columns=['Ссылка'])\n",
    "\n",
    "    return df\n",
    "\n",
    "# Путь к текстовому файлу\n",
    "file_path = 'C:/Users/Peter/DataspellProjects/suetin/regex_train/data/_chat.txt'\n",
    "\n",
    "# Получаем DataFrame с найденными веб-ссылками\n",
    "links_df = find_links_in_text_file(file_path)\n",
    "\n",
    "# Выводим первые несколько строк DataFrame\n",
    "print(links_df.head())\n"
   ],
   "metadata": {
    "collapsed": false,
    "ExecuteTime": {
     "end_time": "2024-02-25T18:30:35.799230Z",
     "start_time": "2024-02-25T18:30:35.729966Z"
    }
   },
   "id": "499c87f0d91ceee",
   "execution_count": 38
  },
  {
   "cell_type": "code",
   "outputs": [
    {
     "data": {
      "text/plain": "                                           link\n0                        https://www.scribd.com\n1                 https://www.scrdownloader.com\n2    http://bemowsap08v.corp.kpmgconsulting.com\n3                          https://help.sap.com\n4                          https://help.sap.com\n..                                          ...\n548                   https://chrome.google.com\n549                       https://blogs.sap.com\n550                    https://pmllc.omeclk.com\n551                       https://blogs.sap.com\n552   https://bearingpointrus-my.sharepoint.com\n\n[553 rows x 1 columns]",
      "text/html": "<div>\n<style scoped>\n    .dataframe tbody tr th:only-of-type {\n        vertical-align: middle;\n    }\n\n    .dataframe tbody tr th {\n        vertical-align: top;\n    }\n\n    .dataframe thead th {\n        text-align: right;\n    }\n</style>\n<table border=\"1\" class=\"dataframe\">\n  <thead>\n    <tr style=\"text-align: right;\">\n      <th></th>\n      <th>link</th>\n    </tr>\n  </thead>\n  <tbody>\n    <tr>\n      <th>0</th>\n      <td>https://www.scribd.com</td>\n    </tr>\n    <tr>\n      <th>1</th>\n      <td>https://www.scrdownloader.com</td>\n    </tr>\n    <tr>\n      <th>2</th>\n      <td>http://bemowsap08v.corp.kpmgconsulting.com</td>\n    </tr>\n    <tr>\n      <th>3</th>\n      <td>https://help.sap.com</td>\n    </tr>\n    <tr>\n      <th>4</th>\n      <td>https://help.sap.com</td>\n    </tr>\n    <tr>\n      <th>...</th>\n      <td>...</td>\n    </tr>\n    <tr>\n      <th>548</th>\n      <td>https://chrome.google.com</td>\n    </tr>\n    <tr>\n      <th>549</th>\n      <td>https://blogs.sap.com</td>\n    </tr>\n    <tr>\n      <th>550</th>\n      <td>https://pmllc.omeclk.com</td>\n    </tr>\n    <tr>\n      <th>551</th>\n      <td>https://blogs.sap.com</td>\n    </tr>\n    <tr>\n      <th>552</th>\n      <td>https://bearingpointrus-my.sharepoint.com</td>\n    </tr>\n  </tbody>\n</table>\n<p>553 rows × 1 columns</p>\n</div>"
     },
     "execution_count": 58,
     "metadata": {},
     "output_type": "execute_result"
    }
   ],
   "source": [
    "links_df"
   ],
   "metadata": {
    "collapsed": false,
    "ExecuteTime": {
     "end_time": "2024-02-25T18:53:44.583815Z",
     "start_time": "2024-02-25T18:53:44.565222Z"
    }
   },
   "id": "2967c2eb43720a28",
   "execution_count": 58
  },
  {
   "cell_type": "code",
   "outputs": [
    {
     "data": {
      "text/plain": "0                          https://www.scribd.com\n1                   https://www.scrdownloader.com\n2      http://bemowsap08v.corp.kpmgconsulting.com\n3                            https://help.sap.com\n4                            https://help.sap.com\n                          ...                    \n548                     https://chrome.google.com\n549                         https://blogs.sap.com\n550                      https://pmllc.omeclk.com\n551                         https://blogs.sap.com\n552     https://bearingpointrus-my.sharepoint.com\nName: link, Length: 553, dtype: object"
     },
     "execution_count": 63,
     "metadata": {},
     "output_type": "execute_result"
    }
   ],
   "source": [
    "links_df['link']"
   ],
   "metadata": {
    "collapsed": false,
    "ExecuteTime": {
     "end_time": "2024-02-25T18:55:28.892482Z",
     "start_time": "2024-02-25T18:55:28.871352Z"
    }
   },
   "id": "f25270bd7f1bad60",
   "execution_count": 63
  },
  {
   "cell_type": "code",
   "outputs": [
    {
     "data": {
      "text/plain": "0             scribd\n1      scrdownloader\n2               None\n3                sap\n4                sap\n           ...      \n548           chrome\n549            blogs\n550            pmllc\n551            blogs\n552             None\nLength: 553, dtype: object"
     },
     "execution_count": 127,
     "metadata": {},
     "output_type": "execute_result"
    }
   ],
   "source": [
    "prefixes = ['www','help','chat']\n",
    "pattern = fr'https://({\"|\".join(prefixes)}|)\\.?([a-zA-Z]+)(\\.[a-zA-Z]*)'\n",
    "def find_pattern(text):\n",
    "    result = re.search(pattern, text)\n",
    "    if result:\n",
    "        return result.group(2)\n",
    "    else:\n",
    "        return None\n",
    "\n",
    "links_df.apply(lambda x: find_pattern(x['link']), axis=1)\n"
   ],
   "metadata": {
    "collapsed": false,
    "ExecuteTime": {
     "end_time": "2024-02-25T19:28:58.139208Z",
     "start_time": "2024-02-25T19:28:58.115698Z"
    }
   },
   "id": "7966372d501f1d1a",
   "execution_count": 127
  },
  {
   "cell_type": "code",
   "outputs": [
    {
     "data": {
      "text/plain": "'www|help|chat'"
     },
     "execution_count": 126,
     "metadata": {},
     "output_type": "execute_result"
    }
   ],
   "source": [
    "'|'.join(prefixes)"
   ],
   "metadata": {
    "collapsed": false,
    "ExecuteTime": {
     "end_time": "2024-02-25T19:28:24.247291Z",
     "start_time": "2024-02-25T19:28:24.238508Z"
    }
   },
   "id": "3df1b71037c03b2c",
   "execution_count": 126
  },
  {
   "cell_type": "code",
   "outputs": [
    {
     "data": {
      "text/plain": "                                           link\n0                        https://www.scribd.com\n1                 https://www.scrdownloader.com\n2    http://bemowsap08v.corp.kpmgconsulting.com\n3                          https://help.sap.com\n4                          https://help.sap.com\n..                                          ...\n548                   https://chrome.google.com\n549                       https://blogs.sap.com\n550                    https://pmllc.omeclk.com\n551                       https://blogs.sap.com\n552   https://bearingpointrus-my.sharepoint.com\n\n[553 rows x 1 columns]",
      "text/html": "<div>\n<style scoped>\n    .dataframe tbody tr th:only-of-type {\n        vertical-align: middle;\n    }\n\n    .dataframe tbody tr th {\n        vertical-align: top;\n    }\n\n    .dataframe thead th {\n        text-align: right;\n    }\n</style>\n<table border=\"1\" class=\"dataframe\">\n  <thead>\n    <tr style=\"text-align: right;\">\n      <th></th>\n      <th>link</th>\n    </tr>\n  </thead>\n  <tbody>\n    <tr>\n      <th>0</th>\n      <td>https://www.scribd.com</td>\n    </tr>\n    <tr>\n      <th>1</th>\n      <td>https://www.scrdownloader.com</td>\n    </tr>\n    <tr>\n      <th>2</th>\n      <td>http://bemowsap08v.corp.kpmgconsulting.com</td>\n    </tr>\n    <tr>\n      <th>3</th>\n      <td>https://help.sap.com</td>\n    </tr>\n    <tr>\n      <th>4</th>\n      <td>https://help.sap.com</td>\n    </tr>\n    <tr>\n      <th>...</th>\n      <td>...</td>\n    </tr>\n    <tr>\n      <th>548</th>\n      <td>https://chrome.google.com</td>\n    </tr>\n    <tr>\n      <th>549</th>\n      <td>https://blogs.sap.com</td>\n    </tr>\n    <tr>\n      <th>550</th>\n      <td>https://pmllc.omeclk.com</td>\n    </tr>\n    <tr>\n      <th>551</th>\n      <td>https://blogs.sap.com</td>\n    </tr>\n    <tr>\n      <th>552</th>\n      <td>https://bearingpointrus-my.sharepoint.com</td>\n    </tr>\n  </tbody>\n</table>\n<p>553 rows × 1 columns</p>\n</div>"
     },
     "execution_count": 54,
     "metadata": {},
     "output_type": "execute_result"
    }
   ],
   "source": [
    "# sap_links = links_df[links_df['Ссылка'].str.contains(r'sap')]\n",
    "# chosen_links = links_df[links_df['link'].str.contains(r'http[s]?://(?:[a-zA-Z]|[0-9]|[$-_@.&+]|[!*\\\\(\\\\),]|(?:%[0-9a-fA-F][0-9a-fA-F]))+' )]\n",
    "chosen_links = links_df[links_df['link'].str.contains(r'http[s]?://(?:[a-zA-Z]|[0-9]|[$-_@.&+]|[!*\\\\(\\\\),]|(?:%[0-9a-fA-F][0-9a-fA-F]))+' )]\n",
    "\n",
    "chosen_links"
   ],
   "metadata": {
    "collapsed": false,
    "ExecuteTime": {
     "end_time": "2024-02-25T18:45:59.012618Z",
     "start_time": "2024-02-25T18:45:58.986481Z"
    }
   },
   "id": "453fe1ed1600f4b6",
   "execution_count": 54
  },
  {
   "cell_type": "code",
   "outputs": [
    {
     "data": {
      "text/plain": "                                           link\n0                        https://www.scribd.com\n1                 https://www.scrdownloader.com\n2    http://bemowsap08v.corp.kpmgconsulting.com\n3                          https://help.sap.com\n4                          https://help.sap.com\n..                                          ...\n548                   https://chrome.google.com\n549                       https://blogs.sap.com\n550                    https://pmllc.omeclk.com\n551                       https://blogs.sap.com\n552   https://bearingpointrus-my.sharepoint.com\n\n[553 rows x 1 columns]",
      "text/html": "<div>\n<style scoped>\n    .dataframe tbody tr th:only-of-type {\n        vertical-align: middle;\n    }\n\n    .dataframe tbody tr th {\n        vertical-align: top;\n    }\n\n    .dataframe thead th {\n        text-align: right;\n    }\n</style>\n<table border=\"1\" class=\"dataframe\">\n  <thead>\n    <tr style=\"text-align: right;\">\n      <th></th>\n      <th>link</th>\n    </tr>\n  </thead>\n  <tbody>\n    <tr>\n      <th>0</th>\n      <td>https://www.scribd.com</td>\n    </tr>\n    <tr>\n      <th>1</th>\n      <td>https://www.scrdownloader.com</td>\n    </tr>\n    <tr>\n      <th>2</th>\n      <td>http://bemowsap08v.corp.kpmgconsulting.com</td>\n    </tr>\n    <tr>\n      <th>3</th>\n      <td>https://help.sap.com</td>\n    </tr>\n    <tr>\n      <th>4</th>\n      <td>https://help.sap.com</td>\n    </tr>\n    <tr>\n      <th>...</th>\n      <td>...</td>\n    </tr>\n    <tr>\n      <th>548</th>\n      <td>https://chrome.google.com</td>\n    </tr>\n    <tr>\n      <th>549</th>\n      <td>https://blogs.sap.com</td>\n    </tr>\n    <tr>\n      <th>550</th>\n      <td>https://pmllc.omeclk.com</td>\n    </tr>\n    <tr>\n      <th>551</th>\n      <td>https://blogs.sap.com</td>\n    </tr>\n    <tr>\n      <th>552</th>\n      <td>https://bearingpointrus-my.sharepoint.com</td>\n    </tr>\n  </tbody>\n</table>\n<p>553 rows × 1 columns</p>\n</div>"
     },
     "execution_count": 42,
     "metadata": {},
     "output_type": "execute_result"
    }
   ],
   "source": [
    "links_df = links_df.rename(columns={'Ссылка':'link'})\n",
    "links_df"
   ],
   "metadata": {
    "collapsed": false,
    "ExecuteTime": {
     "end_time": "2024-02-25T18:30:46.529266Z",
     "start_time": "2024-02-25T18:30:46.512265Z"
    }
   },
   "id": "eeecf4f4d8c5367e",
   "execution_count": 42
  },
  {
   "cell_type": "code",
   "outputs": [
    {
     "name": "stdout",
     "output_type": "stream",
     "text": [
      "root\n",
      " |-- link: string (nullable = true)\n",
      "+--------------------+\n",
      "|                link|\n",
      "+--------------------+\n",
      "|https://www.scrib...|\n",
      "|https://www.scrdo...|\n",
      "|http://bemowsap08...|\n",
      "|https://help.sap.com|\n",
      "|https://help.sap.com|\n",
      "|https://www.marin...|\n",
      "|http://bemowsap08...|\n",
      "|https://www.reart...|\n",
      "|https://www.tandf...|\n",
      "|http://bemowsap08...|\n",
      "|https://blogs.sap...|\n",
      "|https://blogs.sap...|\n",
      "|https://answers.s...|\n",
      "|https://answers.s...|\n",
      "|https://answers.s...|\n",
      "|        https://t.me|\n",
      "|https://cloud.bea...|\n",
      "|  https://medium.com|\n",
      "|  https://sapland.ru|\n",
      "|https://cloud.bea...|\n",
      "+--------------------+\n",
      "only showing top 20 rows\n"
     ]
    }
   ],
   "source": [
    "# df = spark.read.option(\"header\",True).txt('data/_chat.txt')\n",
    "df=spark.createDataFrame(links_df)\n",
    "df.printSchema()\n",
    "df.show()"
   ],
   "metadata": {
    "collapsed": false,
    "ExecuteTime": {
     "end_time": "2024-02-25T18:30:48.283109Z",
     "start_time": "2024-02-25T18:30:47.078117Z"
    }
   },
   "id": "883396d53f10f941",
   "execution_count": 43
  },
  {
   "cell_type": "code",
   "outputs": [],
   "source": [
    "r'http[s]?://(?:[a-zA-Z]|[0-9]|[$-_@.&+]|[!*\\\\(\\\\),]|(?:%[0-9a-fA-F][0-9a-fA-F]))+'"
   ],
   "metadata": {
    "collapsed": false
   },
   "id": "e06eeeba7db55e63"
  },
  {
   "cell_type": "code",
   "outputs": [],
   "source": [
    "# SQL Select query\n",
    "spark.sql('''\n",
    "    \n",
    "    SELECT \n",
    "       link (AGE/365)\n",
    "    FROM DATA\n",
    "    \n",
    "''') \\\n",
    "    .show(5)"
   ],
   "metadata": {
    "collapsed": false
   },
   "id": "90c4740c80a4c290"
  },
  {
   "cell_type": "code",
   "outputs": [],
   "source": [],
   "metadata": {
    "collapsed": false
   },
   "id": "db75eb346176406b"
  },
  {
   "cell_type": "code",
   "outputs": [],
   "source": [],
   "metadata": {
    "collapsed": false
   },
   "id": "2b6f6a6c5d0866b3"
  }
 ],
 "metadata": {
  "kernelspec": {
   "display_name": "Python 3",
   "language": "python",
   "name": "python3"
  },
  "language_info": {
   "codemirror_mode": {
    "name": "ipython",
    "version": 2
   },
   "file_extension": ".py",
   "mimetype": "text/x-python",
   "name": "python",
   "nbconvert_exporter": "python",
   "pygments_lexer": "ipython2",
   "version": "2.7.6"
  }
 },
 "nbformat": 4,
 "nbformat_minor": 5
}
